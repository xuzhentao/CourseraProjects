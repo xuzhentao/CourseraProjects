{
 "cells": [
  {
   "cell_type": "markdown",
   "metadata": {
    "id": "vsX0L1sG1iZj"
   },
   "source": [
    "# Capstone Project\n",
    "## Neural translation model\n",
    "### Instructions\n",
    "\n",
    "In this notebook, you will create a neural network that translates from English to German. You will use concepts from throughout this course, including building more flexible model architectures, freezing layers, data processing pipeline and sequence modelling.\n",
    "\n",
    "This project is peer-assessed. Within this notebook you will find instructions in each section for how to complete the project. Pay close attention to the instructions as the peer review will be carried out according to a grading rubric that checks key parts of the project instructions. Feel free to add extra cells into the notebook as required.\n",
    "\n",
    "### How to submit\n",
    "\n",
    "When you have completed the Capstone project notebook, you will submit a pdf of the notebook for peer review. First ensure that the notebook has been fully executed from beginning to end, and all of the cell outputs are visible. This is important, as the grading rubric depends on the reviewer being able to view the outputs of your notebook. Save the notebook as a pdf (you could download the notebook with File -> Download .ipynb, open the notebook locally, and then File -> Download as -> PDF via LaTeX), and then submit this pdf for review.\n",
    "\n",
    "### Let's get started!\n",
    "\n",
    "We'll start by running some imports, and loading the dataset. For this project you are free to make further imports throughout the notebook as you wish. "
   ]
  },
  {
   "cell_type": "code",
   "execution_count": 1,
   "metadata": {
    "id": "2VyTvxPN1iZn"
   },
   "outputs": [],
   "source": [
    "import tensorflow as tf\n",
    "import tensorflow_hub as hub\n",
    "import unicodedata\n",
    "import re\n",
    "from IPython.display import Image\n",
    "import pandas as pd"
   ]
  },
  {
   "cell_type": "markdown",
   "metadata": {
    "id": "wuIi4lAR1iZt"
   },
   "source": [
    "For the capstone project, you will use a language dataset from http://www.manythings.org/anki/ to build a neural translation model. This dataset consists of over 200,000 pairs of sentences in English and German. In order to make the training quicker, we will restrict to our dataset to 20,000 pairs. Feel free to change this if you wish - the size of the dataset used is not part of the grading rubric.\n",
    "\n",
    "Your goal is to develop a neural translation model from English to German, making use of a pre-trained English word embedding module."
   ]
  },
  {
   "cell_type": "markdown",
   "metadata": {
    "id": "pi9Dq6vv3FVO"
   },
   "source": [
    "#### Import the data\n",
    "\n",
    "The dataset is available for download as a zip file at the following link:\n",
    "\n",
    "https://drive.google.com/open?id=1KczOciG7sYY7SB9UlBeRP1T9659b121Q\n",
    "\n",
    "You should store the unzipped folder in Drive for use in this Colab notebook."
   ]
  },
  {
   "cell_type": "code",
   "execution_count": 2,
   "metadata": {
    "id": "Nw99tEEQ3bKL"
   },
   "outputs": [],
   "source": [
    "# Run this cell to connect to your Drive folder\n",
    "\n",
    "# from google.colab import drive\n",
    "# drive.mount('/content/gdrive')"
   ]
  },
  {
   "cell_type": "code",
   "execution_count": 3,
   "metadata": {
    "id": "o8PetPpw1iZu"
   },
   "outputs": [
    {
     "data": {
      "text/plain": [
       "['Hi.\\tHallo!\\tCC-BY 2.0 (France) Attribution: tatoeba.org #538123 (CM) & #380701 (cburgmer)\\n',\n",
       " 'Hi.\\tGrüß Gott!\\tCC-BY 2.0 (France) Attribution: tatoeba.org #538123 (CM) & #659813 (Esperantostern)\\n',\n",
       " 'Run!\\tLauf!\\tCC-BY 2.0 (France) Attribution: tatoeba.org #906328 (papabear) & #941078 (Fingerhut)\\n',\n",
       " 'Wow!\\tPotzdonner!\\tCC-BY 2.0 (France) Attribution: tatoeba.org #52027 (Zifre) & #2122382 (Pfirsichbaeumchen)\\n',\n",
       " 'Wow!\\tDonnerwetter!\\tCC-BY 2.0 (France) Attribution: tatoeba.org #52027 (Zifre) & #2122391 (Pfirsichbaeumchen)\\n',\n",
       " 'Fire!\\tFeuer!\\tCC-BY 2.0 (France) Attribution: tatoeba.org #1829639 (Spamster) & #1958697 (Tamy)\\n',\n",
       " 'Help!\\tHilfe!\\tCC-BY 2.0 (France) Attribution: tatoeba.org #435084 (lukaszpp) & #575889 (MUIRIEL)\\n',\n",
       " 'Help!\\tZu Hülf!\\tCC-BY 2.0 (France) Attribution: tatoeba.org #435084 (lukaszpp) & #2122375 (Pfirsichbaeumchen)\\n',\n",
       " 'Stop!\\tStopp!\\tCC-BY 2.0 (France) Attribution: tatoeba.org #448320 (FeuDRenais) & #626467 (jakov)\\n',\n",
       " 'Wait!\\tWarte!\\tCC-BY 2.0 (France) Attribution: tatoeba.org #1744314 (belgavox) & #2122378 (Pfirsichbaeumchen)\\n',\n",
       " 'Go on.\\tMach weiter.\\tCC-BY 2.0 (France) Attribution: tatoeba.org #2230774 (CK) & #6625701 (Felixjp)\\n',\n",
       " 'Hello!\\tHallo!\\tCC-BY 2.0 (France) Attribution: tatoeba.org #373330 (CK) & #380701 (cburgmer)\\n',\n",
       " 'I ran.\\tIch rannte.\\tCC-BY 2.0 (France) Attribution: tatoeba.org #5828607 (CK) & #6643977 (Felixjp)\\n',\n",
       " 'I see.\\tIch verstehe.\\tCC-BY 2.0 (France) Attribution: tatoeba.org #2111796 (CK) & #547386 (Espi)\\n',\n",
       " 'I see.\\tAha.\\tCC-BY 2.0 (France) Attribution: tatoeba.org #2111796 (CK) & #5677459 (eric2)\\n',\n",
       " 'I try.\\tIch probiere es.\\tCC-BY 2.0 (France) Attribution: tatoeba.org #20776 (CK) & #4944510 (Hans_Adler)\\n',\n",
       " 'I won!\\tIch hab gewonnen!\\tCC-BY 2.0 (France) Attribution: tatoeba.org #2005192 (CK) & #4941621 (Hans_Adler)\\n',\n",
       " 'I won!\\tIch habe gewonnen!\\tCC-BY 2.0 (France) Attribution: tatoeba.org #2005192 (CK) & #4941622 (Hans_Adler)\\n',\n",
       " 'Smile.\\tLächeln!\\tCC-BY 2.0 (France) Attribution: tatoeba.org #2764108 (CK) & #4659632 (AC)\\n',\n",
       " 'Cheers!\\tZum Wohl!\\tCC-BY 2.0 (France) Attribution: tatoeba.org #487006 (human600) & #957535 (Sudajaengi)\\n',\n",
       " 'Eat up.\\tIss auf.\\tCC-BY 2.0 (France) Attribution: tatoeba.org #4769344 (garborg) & #8227448 (MisterTrouser)\\n',\n",
       " 'Freeze!\\tKeine Bewegung!\\tCC-BY 2.0 (France) Attribution: tatoeba.org #2160489 (Dreamk33) & #3155388 (Pfirsichbaeumchen)\\n',\n",
       " 'Freeze!\\tStehenbleiben!\\tCC-BY 2.0 (France) Attribution: tatoeba.org #2160489 (Dreamk33) & #3155390 (Pfirsichbaeumchen)\\n',\n",
       " 'Got it?\\tKapiert?\\tCC-BY 2.0 (France) Attribution: tatoeba.org #455353 (FeuDRenais) & #455377 (MUIRIEL)\\n',\n",
       " 'Got it?\\tVerstanden?\\tCC-BY 2.0 (France) Attribution: tatoeba.org #455353 (FeuDRenais) & #455452 (Zaghawa)\\n',\n",
       " 'Got it?\\tEinverstanden?\\tCC-BY 2.0 (France) Attribution: tatoeba.org #455353 (FeuDRenais) & #1808892 (Tamy)\\n',\n",
       " 'He ran.\\tEr rannte.\\tCC-BY 2.0 (France) Attribution: tatoeba.org #672229 (CK) & #1401396 (Esperantostern)\\n',\n",
       " 'He ran.\\tEr lief.\\tCC-BY 2.0 (France) Attribution: tatoeba.org #672229 (CK) & #1401397 (Esperantostern)\\n',\n",
       " 'Hop in.\\tMach mit!\\tCC-BY 2.0 (France) Attribution: tatoeba.org #1111548 (Scott) & #4659678 (AC)\\n',\n",
       " 'Hug me.\\tDrück mich!\\tCC-BY 2.0 (France) Attribution: tatoeba.org #1852504 (CK) & #1846595 (Pfirsichbaeumchen)\\n',\n",
       " 'Hug me.\\tNimm mich in den Arm!\\tCC-BY 2.0 (France) Attribution: tatoeba.org #1852504 (CK) & #1846597 (Pfirsichbaeumchen)\\n',\n",
       " 'Hug me.\\tUmarme mich!\\tCC-BY 2.0 (France) Attribution: tatoeba.org #1852504 (CK) & #1854006 (Pfirsichbaeumchen)\\n',\n",
       " 'I fell.\\tIch fiel.\\tCC-BY 2.0 (France) Attribution: tatoeba.org #3824714 (CK) & #4942958 (Hans_Adler)\\n',\n",
       " 'I fell.\\tIch fiel hin.\\tCC-BY 2.0 (France) Attribution: tatoeba.org #3824714 (CK) & #4942959 (Hans_Adler)\\n',\n",
       " 'I fell.\\tIch stürzte.\\tCC-BY 2.0 (France) Attribution: tatoeba.org #3824714 (CK) & #4942960 (Hans_Adler)\\n',\n",
       " 'I fell.\\tIch bin hingefallen.\\tCC-BY 2.0 (France) Attribution: tatoeba.org #3824714 (CK) & #4942961 (Hans_Adler)\\n',\n",
       " 'I fell.\\tIch bin gestürzt.\\tCC-BY 2.0 (France) Attribution: tatoeba.org #3824714 (CK) & #4942963 (Hans_Adler)\\n',\n",
       " 'I know.\\tIch weiß.\\tCC-BY 2.0 (France) Attribution: tatoeba.org #319990 (CK) & #358382 (MUIRIEL)\\n',\n",
       " 'I lied.\\tIch habe gelogen.\\tCC-BY 2.0 (France) Attribution: tatoeba.org #3935374 (gianich73) & #3235040 (Manfredo)\\n',\n",
       " 'I lost.\\tIch habe verloren.\\tCC-BY 2.0 (France) Attribution: tatoeba.org #1755073 (Eldad) & #4659717 (AC)\\n',\n",
       " 'I paid.\\tIch habe bezahlt.\\tCC-BY 2.0 (France) Attribution: tatoeba.org #5828610 (CK) & #7141489 (Luiaard)\\n',\n",
       " 'I paid.\\tIch zahlte.\\tCC-BY 2.0 (France) Attribution: tatoeba.org #5828610 (CK) & #7141490 (Luiaard)\\n',\n",
       " 'I sang.\\tIch sang.\\tCC-BY 2.0 (France) Attribution: tatoeba.org #7290637 (shekitten) & #4781463 (Tamy)\\n',\n",
       " 'I swim.\\tIch schwimme.\\tCC-BY 2.0 (France) Attribution: tatoeba.org #5828611 (CK) & #7091837 (Luiaard)\\n',\n",
       " \"I'm 19.\\tIch bin 19 Jahre alt.\\tCC-BY 2.0 (France) Attribution: tatoeba.org #442400 (sacredceltic) & #345406 (MUIRIEL)\\n\",\n",
       " \"I'm 19.\\tIch bin 19.\\tCC-BY 2.0 (France) Attribution: tatoeba.org #442400 (sacredceltic) & #442436 (MUIRIEL)\\n\",\n",
       " \"I'm OK.\\tMir geht's gut.\\tCC-BY 2.0 (France) Attribution: tatoeba.org #433763 (CK) & #341452 (MUIRIEL)\\n\",\n",
       " \"I'm OK.\\tEs geht mir gut.\\tCC-BY 2.0 (France) Attribution: tatoeba.org #433763 (CK) & #2705321 (Pfirsichbaeumchen)\\n\",\n",
       " \"I'm up.\\tIch bin wach.\\tCC-BY 2.0 (France) Attribution: tatoeba.org #2765357 (arnxy20) & #1313714 (Pfirsichbaeumchen)\\n\",\n",
       " \"I'm up.\\tIch bin auf.\\tCC-BY 2.0 (France) Attribution: tatoeba.org #2765357 (arnxy20) & #6626001 (Felixjp)\\n\",\n",
       " 'No way!\\tUnmöglich!\\tCC-BY 2.0 (France) Attribution: tatoeba.org #2175 (CS) & #976 (MUIRIEL)\\n',\n",
       " 'No way!\\tDas kommt nicht in Frage!\\tCC-BY 2.0 (France) Attribution: tatoeba.org #2175 (CS) & #444494 (Espi)\\n',\n",
       " 'No way!\\tDas gibt’s doch nicht!\\tCC-BY 2.0 (France) Attribution: tatoeba.org #2175 (CS) & #722128 (Pfirsichbaeumchen)\\n',\n",
       " 'No way!\\tAusgeschlossen!\\tCC-BY 2.0 (France) Attribution: tatoeba.org #2175 (CS) & #1670006 (Pfirsichbaeumchen)\\n',\n",
       " 'No way!\\tIn keinster Weise!\\tCC-BY 2.0 (France) Attribution: tatoeba.org #2175 (CS) & #2344583 (Vortarulo)\\n',\n",
       " 'Really?\\tWirklich?\\tCC-BY 2.0 (France) Attribution: tatoeba.org #373216 (kotobaboke) & #373376 (lilygilder)\\n',\n",
       " 'Really?\\tEcht?\\tCC-BY 2.0 (France) Attribution: tatoeba.org #373216 (kotobaboke) & #808911 (Manfredo)\\n',\n",
       " 'Really?\\tIm Ernst?\\tCC-BY 2.0 (France) Attribution: tatoeba.org #373216 (kotobaboke) & #937379 (Sudajaengi)\\n',\n",
       " 'Thanks.\\tDanke!\\tCC-BY 2.0 (France) Attribution: tatoeba.org #2057650 (nava) & #397489 (MUIRIEL)\\n',\n",
       " 'Try it.\\tVersuch’s!\\tCC-BY 2.0 (France) Attribution: tatoeba.org #4756252 (cairnhead) & #4756673 (raggione)\\n',\n",
       " 'We try.\\tWir versuchen es.\\tCC-BY 2.0 (France) Attribution: tatoeba.org #247763 (CK) & #1300435 (cumori)\\n',\n",
       " 'We won.\\tWir haben gewonnen.\\tCC-BY 2.0 (France) Attribution: tatoeba.org #2107675 (CK) & #2122757 (Pfirsichbaeumchen)\\n',\n",
       " 'Why me?\\tWarum ich?\\tCC-BY 2.0 (France) Attribution: tatoeba.org #24958 (CK) & #397532 (MUIRIEL)\\n',\n",
       " 'Ask Tom.\\tFrag Tom!\\tCC-BY 2.0 (France) Attribution: tatoeba.org #1954263 (CK) & #1998578 (Tamy)\\n',\n",
       " 'Ask Tom.\\tFragen Sie Tom!\\tCC-BY 2.0 (France) Attribution: tatoeba.org #1954263 (CK) & #1998581 (Tamy)\\n',\n",
       " 'Ask Tom.\\tFragt Tom!\\tCC-BY 2.0 (France) Attribution: tatoeba.org #1954263 (CK) & #1998583 (Tamy)\\n',\n",
       " 'Awesome!\\tFantastisch!\\tCC-BY 2.0 (France) Attribution: tatoeba.org #433512 (CK) & #366461 (Wolf)\\n',\n",
       " 'Be cool.\\tEntspann dich!\\tCC-BY 2.0 (France) Attribution: tatoeba.org #1860752 (CK) & #1737099 (Espi)\\n',\n",
       " 'Be fair.\\tSei nicht ungerecht!\\tCC-BY 2.0 (France) Attribution: tatoeba.org #1916316 (CK) & #2144804 (Pfirsichbaeumchen)\\n',\n",
       " 'Be fair.\\tSei fair!\\tCC-BY 2.0 (France) Attribution: tatoeba.org #1916316 (CK) & #2270545 (Vortarulo)\\n',\n",
       " 'Be nice.\\tSei nett!\\tCC-BY 2.0 (France) Attribution: tatoeba.org #1916314 (CK) & #1998565 (Tamy)\\n',\n",
       " 'Be nice.\\tSeien Sie nett!\\tCC-BY 2.0 (France) Attribution: tatoeba.org #1916314 (CK) & #1998568 (Tamy)\\n',\n",
       " 'Beat it.\\tGeh weg!\\tCC-BY 2.0 (France) Attribution: tatoeba.org #37902 (CM) & #547378 (Espi)\\n',\n",
       " 'Beat it.\\tHau ab!\\tCC-BY 2.0 (France) Attribution: tatoeba.org #37902 (CM) & #662285 (stefz)\\n',\n",
       " 'Beat it.\\tVerschwinde!\\tCC-BY 2.0 (France) Attribution: tatoeba.org #37902 (CM) & #722834 (Esperantostern)\\n',\n",
       " 'Beat it.\\tVerdufte!\\tCC-BY 2.0 (France) Attribution: tatoeba.org #37902 (CM) & #795719 (BraveSentry)\\n',\n",
       " 'Beat it.\\tMach dich fort!\\tCC-BY 2.0 (France) Attribution: tatoeba.org #37902 (CM) & #795721 (BraveSentry)\\n',\n",
       " 'Beat it.\\tZieh Leine!\\tCC-BY 2.0 (France) Attribution: tatoeba.org #37902 (CM) & #917506 (Sudajaengi)\\n',\n",
       " 'Beat it.\\tMach dich vom Acker!\\tCC-BY 2.0 (France) Attribution: tatoeba.org #37902 (CM) & #917507 (Sudajaengi)\\n',\n",
       " 'Beat it.\\tVerzieh dich!\\tCC-BY 2.0 (France) Attribution: tatoeba.org #37902 (CM) & #917508 (Sudajaengi)\\n',\n",
       " 'Beat it.\\tVerkrümele dich!\\tCC-BY 2.0 (France) Attribution: tatoeba.org #37902 (CM) & #1203256 (Espi)\\n',\n",
       " 'Beat it.\\tTroll dich!\\tCC-BY 2.0 (France) Attribution: tatoeba.org #37902 (CM) & #2162750 (Vortarulo)\\n',\n",
       " 'Beat it.\\tZisch ab!\\tCC-BY 2.0 (France) Attribution: tatoeba.org #37902 (CM) & #2494154 (Pfirsichbaeumchen)\\n',\n",
       " 'Beat it.\\tPack dich!\\tCC-BY 2.0 (France) Attribution: tatoeba.org #37902 (CM) & #2494156 (Pfirsichbaeumchen)\\n',\n",
       " 'Beat it.\\tMach ’ne Fliege!\\tCC-BY 2.0 (France) Attribution: tatoeba.org #37902 (CM) & #2494157 (Pfirsichbaeumchen)\\n',\n",
       " 'Beat it.\\tSchwirr ab!\\tCC-BY 2.0 (France) Attribution: tatoeba.org #37902 (CM) & #2494158 (Pfirsichbaeumchen)\\n',\n",
       " 'Beat it.\\tMach die Sause!\\tCC-BY 2.0 (France) Attribution: tatoeba.org #37902 (CM) & #2494159 (Pfirsichbaeumchen)\\n',\n",
       " 'Beat it.\\tScher dich weg!\\tCC-BY 2.0 (France) Attribution: tatoeba.org #37902 (CM) & #2494160 (Pfirsichbaeumchen)\\n',\n",
       " 'Beat it.\\tScher dich fort!\\tCC-BY 2.0 (France) Attribution: tatoeba.org #37902 (CM) & #2494161 (Pfirsichbaeumchen)\\n',\n",
       " 'Call me.\\tRuf mich an.\\tCC-BY 2.0 (France) Attribution: tatoeba.org #1553532 (CK) & #1688178 (Pfirsichbaeumchen)\\n',\n",
       " 'Come in.\\tKomm herein.\\tCC-BY 2.0 (France) Attribution: tatoeba.org #348091 (Hertz) & #361822 (Wolf)\\n',\n",
       " 'Come in.\\tHerein!\\tCC-BY 2.0 (France) Attribution: tatoeba.org #348091 (Hertz) & #440148 (MUIRIEL)\\n',\n",
       " 'Come on!\\tKomm!\\tCC-BY 2.0 (France) Attribution: tatoeba.org #24697 (CK) & #4787438 (L3581)\\n',\n",
       " 'Come on!\\tKommt!\\tCC-BY 2.0 (France) Attribution: tatoeba.org #24697 (CK) & #4944467 (Hans_Adler)\\n',\n",
       " 'Come on!\\tMach schon!\\tCC-BY 2.0 (France) Attribution: tatoeba.org #24697 (CK) & #5362934 (RandomUsername)\\n',\n",
       " 'Come on!\\tMacht schon!\\tCC-BY 2.0 (France) Attribution: tatoeba.org #24697 (CK) & #5362935 (RandomUsername)\\n',\n",
       " 'Come on.\\tKomm schon!\\tCC-BY 2.0 (France) Attribution: tatoeba.org #1954266 (CK) & #6643321 (Felixjp)\\n',\n",
       " 'Get Tom.\\tHol Tom.\\tCC-BY 2.0 (France) Attribution: tatoeba.org #1972633 (CK) & #5227375 (jaz1313)\\n',\n",
       " 'Get out!\\tRaus!\\tCC-BY 2.0 (France) Attribution: tatoeba.org #266790 (CK) & #474497 (Espi)\\n',\n",
       " 'Get out!\\tGeht raus!\\tCC-BY 2.0 (France) Attribution: tatoeba.org #266790 (CK) & #7036913 (driini)\\n',\n",
       " 'Get out.\\tGeh raus.\\tCC-BY 2.0 (France) Attribution: tatoeba.org #22016 (Eldad) & #4944450 (Hans_Adler)\\n',\n",
       " 'Get out.\\tGeht raus!\\tCC-BY 2.0 (France) Attribution: tatoeba.org #22016 (Eldad) & #7036913 (driini)\\n',\n",
       " 'Go away!\\tGeh weg!\\tCC-BY 2.0 (France) Attribution: tatoeba.org #433518 (CK) & #547378 (Espi)\\n',\n",
       " 'Go away!\\tHau ab!\\tCC-BY 2.0 (France) Attribution: tatoeba.org #433518 (CK) & #662285 (stefz)\\n',\n",
       " 'Go away!\\tVerschwinde!\\tCC-BY 2.0 (France) Attribution: tatoeba.org #433518 (CK) & #722834 (Esperantostern)\\n',\n",
       " 'Go away!\\tVerdufte!\\tCC-BY 2.0 (France) Attribution: tatoeba.org #433518 (CK) & #795719 (BraveSentry)\\n',\n",
       " 'Go away!\\tMach dich fort!\\tCC-BY 2.0 (France) Attribution: tatoeba.org #433518 (CK) & #795721 (BraveSentry)\\n',\n",
       " 'Go away!\\tZieh Leine!\\tCC-BY 2.0 (France) Attribution: tatoeba.org #433518 (CK) & #917506 (Sudajaengi)\\n',\n",
       " 'Go away!\\tMach dich vom Acker!\\tCC-BY 2.0 (France) Attribution: tatoeba.org #433518 (CK) & #917507 (Sudajaengi)\\n',\n",
       " 'Go away!\\tVerzieh dich!\\tCC-BY 2.0 (France) Attribution: tatoeba.org #433518 (CK) & #917508 (Sudajaengi)\\n',\n",
       " 'Go away!\\tVerkrümele dich!\\tCC-BY 2.0 (France) Attribution: tatoeba.org #433518 (CK) & #1203256 (Espi)\\n',\n",
       " 'Go away!\\tTroll dich!\\tCC-BY 2.0 (France) Attribution: tatoeba.org #433518 (CK) & #2162750 (Vortarulo)\\n',\n",
       " 'Go away!\\tZisch ab!\\tCC-BY 2.0 (France) Attribution: tatoeba.org #433518 (CK) & #2494154 (Pfirsichbaeumchen)\\n',\n",
       " 'Go away!\\tPack dich!\\tCC-BY 2.0 (France) Attribution: tatoeba.org #433518 (CK) & #2494156 (Pfirsichbaeumchen)\\n',\n",
       " 'Go away!\\tMach ’ne Fliege!\\tCC-BY 2.0 (France) Attribution: tatoeba.org #433518 (CK) & #2494157 (Pfirsichbaeumchen)\\n',\n",
       " 'Go away!\\tSchwirr ab!\\tCC-BY 2.0 (France) Attribution: tatoeba.org #433518 (CK) & #2494158 (Pfirsichbaeumchen)\\n',\n",
       " 'Go away!\\tMach die Sause!\\tCC-BY 2.0 (France) Attribution: tatoeba.org #433518 (CK) & #2494159 (Pfirsichbaeumchen)\\n',\n",
       " 'Go away!\\tScher dich weg!\\tCC-BY 2.0 (France) Attribution: tatoeba.org #433518 (CK) & #2494160 (Pfirsichbaeumchen)\\n',\n",
       " 'Go away!\\tScher dich fort!\\tCC-BY 2.0 (France) Attribution: tatoeba.org #433518 (CK) & #2494161 (Pfirsichbaeumchen)\\n',\n",
       " 'Go away.\\tGeh weg!\\tCC-BY 2.0 (France) Attribution: tatoeba.org #433491 (CK) & #547378 (Espi)\\n',\n",
       " 'Go away.\\tVerpiss dich!\\tCC-BY 2.0 (France) Attribution: tatoeba.org #433491 (CK) & #584844 (MUIRIEL)\\n',\n",
       " 'Go away.\\tHau ab!\\tCC-BY 2.0 (France) Attribution: tatoeba.org #433491 (CK) & #662285 (stefz)\\n',\n",
       " 'Go away.\\tVerschwinde!\\tCC-BY 2.0 (France) Attribution: tatoeba.org #433491 (CK) & #722834 (Esperantostern)\\n',\n",
       " 'Go away.\\tVerdufte!\\tCC-BY 2.0 (France) Attribution: tatoeba.org #433491 (CK) & #795719 (BraveSentry)\\n',\n",
       " 'Go away.\\tMach dich fort!\\tCC-BY 2.0 (France) Attribution: tatoeba.org #433491 (CK) & #795721 (BraveSentry)\\n',\n",
       " 'Go away.\\tZieh Leine!\\tCC-BY 2.0 (France) Attribution: tatoeba.org #433491 (CK) & #917506 (Sudajaengi)\\n',\n",
       " 'Go away.\\tMach dich vom Acker!\\tCC-BY 2.0 (France) Attribution: tatoeba.org #433491 (CK) & #917507 (Sudajaengi)\\n',\n",
       " 'Go away.\\tVerzieh dich!\\tCC-BY 2.0 (France) Attribution: tatoeba.org #433491 (CK) & #917508 (Sudajaengi)\\n',\n",
       " 'Go away.\\tVerkrümele dich!\\tCC-BY 2.0 (France) Attribution: tatoeba.org #433491 (CK) & #1203256 (Espi)\\n',\n",
       " 'Go away.\\tTroll dich!\\tCC-BY 2.0 (France) Attribution: tatoeba.org #433491 (CK) & #2162750 (Vortarulo)\\n',\n",
       " 'Go away.\\tZisch ab!\\tCC-BY 2.0 (France) Attribution: tatoeba.org #433491 (CK) & #2494154 (Pfirsichbaeumchen)\\n',\n",
       " 'Go away.\\tPack dich!\\tCC-BY 2.0 (France) Attribution: tatoeba.org #433491 (CK) & #2494156 (Pfirsichbaeumchen)\\n',\n",
       " 'Go away.\\tMach ’ne Fliege!\\tCC-BY 2.0 (France) Attribution: tatoeba.org #433491 (CK) & #2494157 (Pfirsichbaeumchen)\\n',\n",
       " 'Go away.\\tSchwirr ab!\\tCC-BY 2.0 (France) Attribution: tatoeba.org #433491 (CK) & #2494158 (Pfirsichbaeumchen)\\n',\n",
       " 'Go away.\\tMach die Sause!\\tCC-BY 2.0 (France) Attribution: tatoeba.org #433491 (CK) & #2494159 (Pfirsichbaeumchen)\\n',\n",
       " 'Go away.\\tScher dich weg!\\tCC-BY 2.0 (France) Attribution: tatoeba.org #433491 (CK) & #2494160 (Pfirsichbaeumchen)\\n',\n",
       " 'Go away.\\tScher dich fort!\\tCC-BY 2.0 (France) Attribution: tatoeba.org #433491 (CK) & #2494161 (Pfirsichbaeumchen)\\n',\n",
       " 'Go away.\\tGehen Sie weg.\\tCC-BY 2.0 (France) Attribution: tatoeba.org #433491 (CK) & #4942536 (Hans_Adler)\\n',\n",
       " 'Go home.\\tGeh nach Hause.\\tCC-BY 2.0 (France) Attribution: tatoeba.org #2230769 (CK) & #6644930 (Felixjp)\\n',\n",
       " 'Go home.\\tGeh heim.\\tCC-BY 2.0 (France) Attribution: tatoeba.org #2230769 (CK) & #6644931 (Felixjp)\\n',\n",
       " 'Goodbye!\\tAuf Wiedersehen!\\tCC-BY 2.0 (France) Attribution: tatoeba.org #516745 (minshirui) & #409153 (MUIRIEL)\\n',\n",
       " 'Goodbye!\\tLeb wohl!\\tCC-BY 2.0 (France) Attribution: tatoeba.org #516745 (minshirui) & #438753 (xtofu80)\\n',\n",
       " 'Goodbye!\\tTschüss!\\tCC-BY 2.0 (France) Attribution: tatoeba.org #516745 (minshirui) & #647453 (Hans07)\\n',\n",
       " 'Hang on!\\tNicht nachlassen!\\tCC-BY 2.0 (France) Attribution: tatoeba.org #1894404 (Spamster) & #1921063 (Tamy)\\n',\n",
       " 'He came.\\tEr kam.\\tCC-BY 2.0 (France) Attribution: tatoeba.org #853153 (piksea) & #867797 (Espi)\\n',\n",
       " 'He runs.\\tEr rennt.\\tCC-BY 2.0 (France) Attribution: tatoeba.org #672254 (CK) & #672259 (Zaghawa)\\n',\n",
       " 'He runs.\\tEr läuft.\\tCC-BY 2.0 (France) Attribution: tatoeba.org #672254 (CK) & #5687977 (eric2)\\n',\n",
       " 'Help me.\\tHilf mir.\\tCC-BY 2.0 (France) Attribution: tatoeba.org #266065 (Zifre) & #368205 (Wolf)\\n',\n",
       " 'Help us.\\tHilf uns!\\tCC-BY 2.0 (France) Attribution: tatoeba.org #2187193 (CK) & #2199031 (Pfirsichbaeumchen)\\n',\n",
       " 'Help us.\\tHelft uns!\\tCC-BY 2.0 (France) Attribution: tatoeba.org #2187193 (CK) & #2199032 (Pfirsichbaeumchen)\\n',\n",
       " 'Help us.\\tHelfen Sie uns!\\tCC-BY 2.0 (France) Attribution: tatoeba.org #2187193 (CK) & #2199033 (Pfirsichbaeumchen)\\n',\n",
       " 'Hi, Tom.\\tHallo, Tom!\\tCC-BY 2.0 (France) Attribution: tatoeba.org #2549834 (CK) & #3298512 (Manfredo)\\n',\n",
       " 'Hit Tom.\\tSchlage Tom!\\tCC-BY 2.0 (France) Attribution: tatoeba.org #2203859 (CK) & #2203962 (Pfirsichbaeumchen)\\n',\n",
       " 'Hit Tom.\\tSchlagt Tom!\\tCC-BY 2.0 (France) Attribution: tatoeba.org #2203859 (CK) & #2203963 (Pfirsichbaeumchen)\\n',\n",
       " 'Hit Tom.\\tSchlagen Sie Tom!\\tCC-BY 2.0 (France) Attribution: tatoeba.org #2203859 (CK) & #2203964 (Pfirsichbaeumchen)\\n',\n",
       " 'Hold on.\\tWarten Sie kurz!\\tCC-BY 2.0 (France) Attribution: tatoeba.org #1357000 (sacredceltic) & #2116085 (Pfirsichbaeumchen)\\n',\n",
       " 'Hug Tom.\\tUmarme Tom!\\tCC-BY 2.0 (France) Attribution: tatoeba.org #2203860 (CK) & #2203965 (Pfirsichbaeumchen)\\n',\n",
       " 'Hug Tom.\\tUmarmen Sie Tom!\\tCC-BY 2.0 (France) Attribution: tatoeba.org #2203860 (CK) & #2203967 (Pfirsichbaeumchen)\\n',\n",
       " 'Hug Tom.\\tUmarmt Tom!\\tCC-BY 2.0 (France) Attribution: tatoeba.org #2203860 (CK) & #2203968 (Pfirsichbaeumchen)\\n',\n",
       " 'Hug Tom.\\tDrückt Tom!\\tCC-BY 2.0 (France) Attribution: tatoeba.org #2203860 (CK) & #2203969 (Pfirsichbaeumchen)\\n',\n",
       " 'Hug Tom.\\tDrücken Sie Tom!\\tCC-BY 2.0 (France) Attribution: tatoeba.org #2203860 (CK) & #2203970 (Pfirsichbaeumchen)\\n',\n",
       " 'Hug Tom.\\tDrück Tom!\\tCC-BY 2.0 (France) Attribution: tatoeba.org #2203860 (CK) & #2203971 (Pfirsichbaeumchen)\\n',\n",
       " 'I agree.\\tIch bin einverstanden.\\tCC-BY 2.0 (France) Attribution: tatoeba.org #436281 (lukaszpp) & #472 (MUIRIEL)\\n',\n",
       " 'I cried.\\tIch weinte.\\tCC-BY 2.0 (France) Attribution: tatoeba.org #5828613 (CK) & #7091838 (Luiaard)\\n',\n",
       " 'I cried.\\tIch habe geweint.\\tCC-BY 2.0 (France) Attribution: tatoeba.org #5828613 (CK) & #7091839 (Luiaard)\\n',\n",
       " 'I snore.\\tIch schnarche.\\tCC-BY 2.0 (France) Attribution: tatoeba.org #5828618 (CK) & #7091840 (Luiaard)\\n',\n",
       " \"I'll go.\\tIch gehe.\\tCC-BY 2.0 (France) Attribution: tatoeba.org #1174876 (CK) & #439366 (Robroy)\\n\",\n",
       " \"I'm bad.\\tIch bin schlecht.\\tCC-BY 2.0 (France) Attribution: tatoeba.org #5828622 (CK) & #8191860 (driini)\\n\",\n",
       " \"I'm fat.\\tIch bin fett.\\tCC-BY 2.0 (France) Attribution: tatoeba.org #1120816 (cntrational) & #1137134 (Esperantostern)\\n\",\n",
       " \"I'm fat.\\tIch bin dick.\\tCC-BY 2.0 (France) Attribution: tatoeba.org #1120816 (cntrational) & #1187988 (Tlustulimu)\\n\",\n",
       " \"I'm hit!\\tIch wurde getroffen!\\tCC-BY 2.0 (France) Attribution: tatoeba.org #1829472 (Spamster) & #7369708 (Yorwba)\\n\",\n",
       " \"I'm new.\\tIch bin neu.\\tCC-BY 2.0 (France) Attribution: tatoeba.org #5828624 (CK) & #6644699 (Felixjp)\\n\",\n",
       " \"I'm old.\\tIch bin alt.\\tCC-BY 2.0 (France) Attribution: tatoeba.org #1924560 (Zaghawa) & #1703743 (Esperantostern)\\n\",\n",
       " \"I'm sad.\\tIch bin traurig.\\tCC-BY 2.0 (France) Attribution: tatoeba.org #317741 (CK) & #345365 (MUIRIEL)\\n\",\n",
       " \"I'm shy.\\tIch bin schüchtern.\\tCC-BY 2.0 (France) Attribution: tatoeba.org #2203346 (CK) & #2655326 (Pfirsichbaeumchen)\\n\",\n",
       " \"I'm wet.\\tIch bin nass.\\tCC-BY 2.0 (France) Attribution: tatoeba.org #1780075 (Spamster) & #7354609 (Yorwba)\\n\",\n",
       " \"It's OK.\\tEs ist in Ordnung.\\tCC-BY 2.0 (France) Attribution: tatoeba.org #413756 (CK) & #6626109 (Felixjp)\\n\",\n",
       " \"It's me!\\tIch bin's.\\tCC-BY 2.0 (France) Attribution: tatoeba.org #1349952 (sacredceltic) & #356299 (MUIRIEL)\\n\",\n",
       " \"It's me.\\tIch bin's.\\tCC-BY 2.0 (France) Attribution: tatoeba.org #42400 (sysko) & #356299 (MUIRIEL)\\n\",\n",
       " 'Keep it.\\tBehalt es!\\tCC-BY 2.0 (France) Attribution: tatoeba.org #1913087 (CK) & #8211336 (raggione)\\n',\n",
       " 'Keep it.\\tBehalt ihn!\\tCC-BY 2.0 (France) Attribution: tatoeba.org #1913087 (CK) & #8211337 (raggione)\\n',\n",
       " 'Keep it.\\tBehalt sie!\\tCC-BY 2.0 (France) Attribution: tatoeba.org #1913087 (CK) & #8211339 (raggione)\\n',\n",
       " 'Keep it.\\tBehalten Sie ihn!\\tCC-BY 2.0 (France) Attribution: tatoeba.org #1913087 (CK) & #8211451 (raggione)\\n',\n",
       " 'Keep it.\\tBehalten Sie sie!\\tCC-BY 2.0 (France) Attribution: tatoeba.org #1913087 (CK) & #8211453 (raggione)\\n',\n",
       " 'Keep it.\\tBehalten Sie es!\\tCC-BY 2.0 (France) Attribution: tatoeba.org #1913087 (CK) & #8211454 (raggione)\\n',\n",
       " 'Keep it.\\tBehaltet ihn!\\tCC-BY 2.0 (France) Attribution: tatoeba.org #1913087 (CK) & #8211455 (raggione)\\n',\n",
       " 'Keep it.\\tBehaltet sie!\\tCC-BY 2.0 (France) Attribution: tatoeba.org #1913087 (CK) & #8211456 (raggione)\\n',\n",
       " 'Keep it.\\tBehaltet es!\\tCC-BY 2.0 (France) Attribution: tatoeba.org #1913087 (CK) & #8211457 (raggione)\\n',\n",
       " 'Kiss me.\\tKüsst mich.\\tCC-BY 2.0 (France) Attribution: tatoeba.org #565931 (Fish) & #851631 (MUIRIEL)\\n',\n",
       " 'Lock it.\\tSchließ es ab.\\tCC-BY 2.0 (France) Attribution: tatoeba.org #5350433 (mailohilohi) & #6138659 (raggione)\\n',\n",
       " 'Lock it.\\tSchließe sie ab.\\tCC-BY 2.0 (France) Attribution: tatoeba.org #5350433 (mailohilohi) & #6138660 (raggione)\\n',\n",
       " 'Lock it.\\tSchließ ihn ab.\\tCC-BY 2.0 (France) Attribution: tatoeba.org #5350433 (mailohilohi) & #6138661 (raggione)\\n',\n",
       " 'Perfect!\\tPerfekt!\\tCC-BY 2.0 (France) Attribution: tatoeba.org #374568 (blay_paul) & #4659630 (AC)\\n',\n",
       " 'Pull it.\\tZieh dran.\\tCC-BY 2.0 (France) Attribution: tatoeba.org #6049384 (mailohilohi) & #8227464 (MisterTrouser)\\n',\n",
       " 'Push it.\\tDrück drauf.\\tCC-BY 2.0 (France) Attribution: tatoeba.org #6049385 (mailohilohi) & #8227465 (MisterTrouser)\\n',\n",
       " 'See you.\\tWir sehen uns.\\tCC-BY 2.0 (France) Attribution: tatoeba.org #1151432 (Roggy) & #2073170 (Espi)\\n',\n",
       " \"Show me.\\tZeig's mir!\\tCC-BY 2.0 (France) Attribution: tatoeba.org #1972649 (CK) & #1973162 (Vortarulo)\\n\",\n",
       " \"Shut up!\\tHalt's Maul!\\tCC-BY 2.0 (France) Attribution: tatoeba.org #462430 (lukaszpp) & #533020 (Espi)\\n\",\n",
       " 'So long.\\tBis später!\\tCC-BY 2.0 (France) Attribution: tatoeba.org #2267731 (_undertoad) & #367027 (MUIRIEL)\\n',\n",
       " 'Stop it.\\tHör auf.\\tCC-BY 2.0 (France) Attribution: tatoeba.org #2111499 (CK) & #6644774 (Felixjp)\\n',\n",
       " 'Take it.\\tNimm es.\\tCC-BY 2.0 (France) Attribution: tatoeba.org #1913089 (CK) & #4732110 (bonny37)\\n',\n",
       " 'Take it.\\tNehmt es.\\tCC-BY 2.0 (France) Attribution: tatoeba.org #1913089 (CK) & #6023199 (Zaghawa)\\n',\n",
       " 'Take it.\\tNehmen Sie es.\\tCC-BY 2.0 (France) Attribution: tatoeba.org #1913089 (CK) & #6023200 (Zaghawa)\\n',\n",
       " 'Tom ate.\\tTom aß.\\tCC-BY 2.0 (France) Attribution: tatoeba.org #2203599 (CK) & #2205386 (Pfirsichbaeumchen)\\n',\n",
       " 'Tom ate.\\tTom hat gegessen.\\tCC-BY 2.0 (France) Attribution: tatoeba.org #2203599 (CK) & #2205387 (Pfirsichbaeumchen)\\n',\n",
       " 'Tom ran.\\tTom rannte.\\tCC-BY 2.0 (France) Attribution: tatoeba.org #2203766 (CK) & #2204129 (Pfirsichbaeumchen)\\n',\n",
       " 'Tom ran.\\tTom ist gerannt.\\tCC-BY 2.0 (France) Attribution: tatoeba.org #2203766 (CK) & #2204130 (Pfirsichbaeumchen)\\n',\n",
       " 'Tom won.\\tTom hat gewonnen.\\tCC-BY 2.0 (France) Attribution: tatoeba.org #2005191 (CK) & #2153027 (Pfirsichbaeumchen)\\n',\n",
       " 'Wait up.\\tWarte mal!\\tCC-BY 2.0 (France) Attribution: tatoeba.org #2954108 (CK) & #2095332 (Pfirsichbaeumchen)\\n',\n",
       " 'Wait up.\\tWarten Sie mal!\\tCC-BY 2.0 (France) Attribution: tatoeba.org #2954108 (CK) & #2954330 (Tamy)\\n',\n",
       " 'Wait up.\\tWartet mal!\\tCC-BY 2.0 (France) Attribution: tatoeba.org #2954108 (CK) & #2954332 (Tamy)\\n',\n",
       " 'Wake up!\\tWach auf!\\tCC-BY 2.0 (France) Attribution: tatoeba.org #323780 (CK) & #355345 (MUIRIEL)\\n',\n",
       " 'Wake up!\\tWachen Sie auf!\\tCC-BY 2.0 (France) Attribution: tatoeba.org #323780 (CK) & #1851545 (Pfirsichbaeumchen)\\n',\n",
       " 'Wake up.\\tWach auf!\\tCC-BY 2.0 (France) Attribution: tatoeba.org #1850243 (CK) & #355345 (MUIRIEL)\\n',\n",
       " 'Wake up.\\tWachen Sie auf!\\tCC-BY 2.0 (France) Attribution: tatoeba.org #1850243 (CK) & #1851545 (Pfirsichbaeumchen)\\n',\n",
       " 'We lost.\\tWir haben verloren.\\tCC-BY 2.0 (France) Attribution: tatoeba.org #2107666 (CK) & #2122765 (Pfirsichbaeumchen)\\n',\n",
       " 'Welcome.\\tWillkommen!\\tCC-BY 2.0 (France) Attribution: tatoeba.org #138919 (CM) & #362772 (Kerstin)\\n',\n",
       " 'Who ate?\\tWer hat gegessen?\\tCC-BY 2.0 (France) Attribution: tatoeba.org #2203598 (CK) & #712317 (conker)\\n',\n",
       " 'Who ate?\\tWer aß?\\tCC-BY 2.0 (France) Attribution: tatoeba.org #2203598 (CK) & #2205383 (Pfirsichbaeumchen)\\n',\n",
       " 'Who ran?\\tWer rannte?\\tCC-BY 2.0 (France) Attribution: tatoeba.org #2203765 (CK) & #2204127 (Pfirsichbaeumchen)\\n',\n",
       " 'Who ran?\\tWer ist gerannt?\\tCC-BY 2.0 (France) Attribution: tatoeba.org #2203765 (CK) & #2204128 (Pfirsichbaeumchen)\\n',\n",
       " 'You run.\\tDu läufst.\\tCC-BY 2.0 (France) Attribution: tatoeba.org #672252 (CK) & #4732107 (bonny37)\\n',\n",
       " 'You run.\\tSie laufen.\\tCC-BY 2.0 (France) Attribution: tatoeba.org #672252 (CK) & #4732108 (bonny37)\\n',\n",
       " 'You won.\\tDu hast gewonnen.\\tCC-BY 2.0 (France) Attribution: tatoeba.org #2549833 (CK) & #3481047 (Esperantostern)\\n',\n",
       " 'Am I fat?\\tBin ich dick?\\tCC-BY 2.0 (France) Attribution: tatoeba.org #2214296 (Hybrid) & #2214362 (Pfirsichbaeumchen)\\n',\n",
       " 'Ask them.\\tFrag sie.\\tCC-BY 2.0 (France) Attribution: tatoeba.org #3820042 (CK) & #4942946 (Hans_Adler)\\n',\n",
       " 'Back off.\\tKomm nicht näher!\\tCC-BY 2.0 (France) Attribution: tatoeba.org #1553533 (CK) & #1846342 (Tamy)\\n',\n",
       " 'Be a man.\\tSei ein Mann!\\tCC-BY 2.0 (France) Attribution: tatoeba.org #2221008 (Hybrid) & #2221017 (Pfirsichbaeumchen)\\n',\n",
       " 'Be brave.\\tSei tapfer!\\tCC-BY 2.0 (France) Attribution: tatoeba.org #4054941 (CK) & #4057729 (Pfirsichbaeumchen)\\n',\n",
       " 'Be brave.\\tSeien Sie tapfer!\\tCC-BY 2.0 (France) Attribution: tatoeba.org #4054941 (CK) & #4057731 (Pfirsichbaeumchen)\\n',\n",
       " 'Be brave.\\tSeid tapfer!\\tCC-BY 2.0 (France) Attribution: tatoeba.org #4054941 (CK) & #4057732 (Pfirsichbaeumchen)\\n',\n",
       " 'Be brief.\\tFassen Sie sich kurz.\\tCC-BY 2.0 (France) Attribution: tatoeba.org #3826022 (CK) & #4942973 (Hans_Adler)\\n',\n",
       " 'Be brief.\\tFass dich kurz.\\tCC-BY 2.0 (France) Attribution: tatoeba.org #3826022 (CK) & #4942974 (Hans_Adler)\\n',\n",
       " 'Be brief.\\tFasst euch kurz.\\tCC-BY 2.0 (France) Attribution: tatoeba.org #3826022 (CK) & #4942975 (Hans_Adler)\\n',\n",
       " 'Call Tom.\\tRuf Tom an!\\tCC-BY 2.0 (France) Attribution: tatoeba.org #2203855 (CK) & #2203997 (Pfirsichbaeumchen)\\n',\n",
       " 'Call Tom.\\tRufe Tom an!\\tCC-BY 2.0 (France) Attribution: tatoeba.org #2203855 (CK) & #2203998 (Pfirsichbaeumchen)\\n',\n",
       " 'Call Tom.\\tRufen Sie Tom an!\\tCC-BY 2.0 (France) Attribution: tatoeba.org #2203855 (CK) & #2203999 (Pfirsichbaeumchen)\\n',\n",
       " 'Call Tom.\\tRuft Tom an!\\tCC-BY 2.0 (France) Attribution: tatoeba.org #2203855 (CK) & #2204000 (Pfirsichbaeumchen)\\n',\n",
       " 'Can I go?\\tKann ich gehen?\\tCC-BY 2.0 (France) Attribution: tatoeba.org #5825527 (CK) & #7789053 (raggione)\\n',\n",
       " 'Cheer up!\\tKopf hoch!\\tCC-BY 2.0 (France) Attribution: tatoeba.org #239441 (CM) & #342091 (lilygilder)\\n',\n",
       " 'Cool off!\\tReg dich ab!\\tCC-BY 2.0 (France) Attribution: tatoeba.org #280162 (CM) & #446596 (al_ex_an_der)\\n',\n",
       " 'Cuff him.\\tLeg ihm Handschellen an.\\tCC-BY 2.0 (France) Attribution: tatoeba.org #1954267 (CK) & #4941575 (Hans_Adler)\\n',\n",
       " 'Cuff him.\\tLegen Sie ihm Handschellen an.\\tCC-BY 2.0 (France) Attribution: tatoeba.org #1954267 (CK) & #4941576 (Hans_Adler)\\n',\n",
       " \"Don't go.\\tGeh nicht.\\tCC-BY 2.0 (France) Attribution: tatoeba.org #773587 (marloncori) & #782815 (Chris)\\n\",\n",
       " 'Find Tom.\\tFinde Tom.\\tCC-BY 2.0 (France) Attribution: tatoeba.org #2111838 (CK) & #4942841 (Hans_Adler)\\n',\n",
       " 'Find Tom.\\tFindet Tom.\\tCC-BY 2.0 (France) Attribution: tatoeba.org #2111838 (CK) & #4942842 (Hans_Adler)\\n',\n",
       " 'Find Tom.\\tFinden Sie Tom.\\tCC-BY 2.0 (France) Attribution: tatoeba.org #2111838 (CK) & #4942843 (Hans_Adler)\\n',\n",
       " 'Fix this.\\tBeheben Sie das.\\tCC-BY 2.0 (France) Attribution: tatoeba.org #3172185 (CK) & #7281107 (Yorwba)\\n',\n",
       " 'Fix this.\\tBehebe das.\\tCC-BY 2.0 (France) Attribution: tatoeba.org #3172185 (CK) & #7281109 (Yorwba)\\n',\n",
       " 'Fix this.\\tRepariere das.\\tCC-BY 2.0 (France) Attribution: tatoeba.org #3172185 (CK) & #7281111 (Yorwba)\\n',\n",
       " 'Fix this.\\tReparieren Sie das.\\tCC-BY 2.0 (France) Attribution: tatoeba.org #3172185 (CK) & #7281114 (Yorwba)\\n',\n",
       " 'Get away!\\tGeh weg!\\tCC-BY 2.0 (France) Attribution: tatoeba.org #240634 (CM) & #547378 (Espi)\\n',\n",
       " 'Get away!\\tVerpiss dich!\\tCC-BY 2.0 (France) Attribution: tatoeba.org #240634 (CM) & #584844 (MUIRIEL)\\n',\n",
       " 'Get away!\\tHau ab!\\tCC-BY 2.0 (France) Attribution: tatoeba.org #240634 (CM) & #662285 (stefz)\\n',\n",
       " 'Get away!\\tVerschwinde!\\tCC-BY 2.0 (France) Attribution: tatoeba.org #240634 (CM) & #722834 (Esperantostern)\\n',\n",
       " 'Get away!\\tVerdufte!\\tCC-BY 2.0 (France) Attribution: tatoeba.org #240634 (CM) & #795719 (BraveSentry)\\n',\n",
       " 'Get away!\\tMach dich fort!\\tCC-BY 2.0 (France) Attribution: tatoeba.org #240634 (CM) & #795721 (BraveSentry)\\n',\n",
       " 'Get away!\\tZieh Leine!\\tCC-BY 2.0 (France) Attribution: tatoeba.org #240634 (CM) & #917506 (Sudajaengi)\\n',\n",
       " 'Get away!\\tMach dich vom Acker!\\tCC-BY 2.0 (France) Attribution: tatoeba.org #240634 (CM) & #917507 (Sudajaengi)\\n',\n",
       " 'Get away!\\tVerzieh dich!\\tCC-BY 2.0 (France) Attribution: tatoeba.org #240634 (CM) & #917508 (Sudajaengi)\\n',\n",
       " 'Get away!\\tVerkrümele dich!\\tCC-BY 2.0 (France) Attribution: tatoeba.org #240634 (CM) & #1203256 (Espi)\\n',\n",
       " 'Get away!\\tTroll dich!\\tCC-BY 2.0 (France) Attribution: tatoeba.org #240634 (CM) & #2162750 (Vortarulo)\\n',\n",
       " 'Get away!\\tZisch ab!\\tCC-BY 2.0 (France) Attribution: tatoeba.org #240634 (CM) & #2494154 (Pfirsichbaeumchen)\\n',\n",
       " 'Get away!\\tPack dich!\\tCC-BY 2.0 (France) Attribution: tatoeba.org #240634 (CM) & #2494156 (Pfirsichbaeumchen)\\n',\n",
       " 'Get away!\\tMach ’ne Fliege!\\tCC-BY 2.0 (France) Attribution: tatoeba.org #240634 (CM) & #2494157 (Pfirsichbaeumchen)\\n',\n",
       " 'Get away!\\tSchwirr ab!\\tCC-BY 2.0 (France) Attribution: tatoeba.org #240634 (CM) & #2494158 (Pfirsichbaeumchen)\\n',\n",
       " 'Get away!\\tMach die Sause!\\tCC-BY 2.0 (France) Attribution: tatoeba.org #240634 (CM) & #2494159 (Pfirsichbaeumchen)\\n',\n",
       " 'Get away!\\tScher dich weg!\\tCC-BY 2.0 (France) Attribution: tatoeba.org #240634 (CM) & #2494160 (Pfirsichbaeumchen)\\n',\n",
       " 'Get away!\\tScher dich fort!\\tCC-BY 2.0 (France) Attribution: tatoeba.org #240634 (CM) & #2494161 (Pfirsichbaeumchen)\\n',\n",
       " 'Get down!\\tRunter!\\tCC-BY 2.0 (France) Attribution: tatoeba.org #268087 (CM) & #6643143 (Felixjp)\\n',\n",
       " 'Get down!\\tHinlegen!\\tCC-BY 2.0 (France) Attribution: tatoeba.org #268087 (CM) & #6644792 (Felixjp)\\n',\n",
       " 'Get down!\\tIn Deckung!\\tCC-BY 2.0 (France) Attribution: tatoeba.org #268087 (CM) & #6681267 (Felixjp)\\n',\n",
       " 'Get down.\\tKomm runter.\\tCC-BY 2.0 (France) Attribution: tatoeba.org #1954269 (CK) & #4941578 (Hans_Adler)\\n',\n",
       " 'Get down.\\tKommen Sie runter.\\tCC-BY 2.0 (France) Attribution: tatoeba.org #1954269 (CK) & #4941580 (Hans_Adler)\\n',\n",
       " 'Get lost!\\tGeh weg!\\tCC-BY 2.0 (France) Attribution: tatoeba.org #623565 (Dorenda) & #547378 (Espi)\\n',\n",
       " 'Get lost!\\tVerpiss dich!\\tCC-BY 2.0 (France) Attribution: tatoeba.org #623565 (Dorenda) & #584844 (MUIRIEL)\\n',\n",
       " 'Get lost!\\tHau ab!\\tCC-BY 2.0 (France) Attribution: tatoeba.org #623565 (Dorenda) & #662285 (stefz)\\n',\n",
       " 'Get lost!\\tVerschwinde!\\tCC-BY 2.0 (France) Attribution: tatoeba.org #623565 (Dorenda) & #722834 (Esperantostern)\\n',\n",
       " 'Get lost!\\tVerdufte!\\tCC-BY 2.0 (France) Attribution: tatoeba.org #623565 (Dorenda) & #795719 (BraveSentry)\\n',\n",
       " 'Get lost!\\tMach dich fort!\\tCC-BY 2.0 (France) Attribution: tatoeba.org #623565 (Dorenda) & #795721 (BraveSentry)\\n',\n",
       " 'Get lost!\\tZieh Leine!\\tCC-BY 2.0 (France) Attribution: tatoeba.org #623565 (Dorenda) & #917506 (Sudajaengi)\\n',\n",
       " 'Get lost!\\tMach dich vom Acker!\\tCC-BY 2.0 (France) Attribution: tatoeba.org #623565 (Dorenda) & #917507 (Sudajaengi)\\n',\n",
       " 'Get lost!\\tVerzieh dich!\\tCC-BY 2.0 (France) Attribution: tatoeba.org #623565 (Dorenda) & #917508 (Sudajaengi)\\n',\n",
       " 'Get lost!\\tVerkrümele dich!\\tCC-BY 2.0 (France) Attribution: tatoeba.org #623565 (Dorenda) & #1203256 (Espi)\\n',\n",
       " 'Get lost!\\tTroll dich!\\tCC-BY 2.0 (France) Attribution: tatoeba.org #623565 (Dorenda) & #2162750 (Vortarulo)\\n',\n",
       " 'Get lost!\\tZisch ab!\\tCC-BY 2.0 (France) Attribution: tatoeba.org #623565 (Dorenda) & #2494154 (Pfirsichbaeumchen)\\n',\n",
       " 'Get lost!\\tPack dich!\\tCC-BY 2.0 (France) Attribution: tatoeba.org #623565 (Dorenda) & #2494156 (Pfirsichbaeumchen)\\n',\n",
       " 'Get lost!\\tMach ’ne Fliege!\\tCC-BY 2.0 (France) Attribution: tatoeba.org #623565 (Dorenda) & #2494157 (Pfirsichbaeumchen)\\n',\n",
       " 'Get lost!\\tSchwirr ab!\\tCC-BY 2.0 (France) Attribution: tatoeba.org #623565 (Dorenda) & #2494158 (Pfirsichbaeumchen)\\n',\n",
       " 'Get lost!\\tMach die Sause!\\tCC-BY 2.0 (France) Attribution: tatoeba.org #623565 (Dorenda) & #2494159 (Pfirsichbaeumchen)\\n',\n",
       " 'Get lost!\\tScher dich weg!\\tCC-BY 2.0 (France) Attribution: tatoeba.org #623565 (Dorenda) & #2494160 (Pfirsichbaeumchen)\\n',\n",
       " 'Get lost!\\tScher dich fort!\\tCC-BY 2.0 (France) Attribution: tatoeba.org #623565 (Dorenda) & #2494161 (Pfirsichbaeumchen)\\n',\n",
       " 'Get real!\\tJetzt mal ernsthaft!\\tCC-BY 2.0 (France) Attribution: tatoeba.org #326067 (CM) & #4659664 (AC)\\n',\n",
       " 'Go ahead!\\tNur zu!\\tCC-BY 2.0 (France) Attribution: tatoeba.org #38590 (CM) & #3331180 (brauchinet)\\n',\n",
       " 'Go ahead.\\tMach weiter!\\tCC-BY 2.0 (France) Attribution: tatoeba.org #38546 (CM) & #1068331 (Hans07)\\n',\n",
       " 'Grab Tom.\\tHol Tom.\\tCC-BY 2.0 (France) Attribution: tatoeba.org #1972639 (CK) & #5227375 (jaz1313)\\n',\n",
       " 'Grab him.\\tGreif ihn dir!\\tCC-BY 2.0 (France) Attribution: tatoeba.org #285184 (CK) & #4659653 (AC)\\n',\n",
       " 'Have fun.\\tViel Vergnügen!\\tCC-BY 2.0 (France) Attribution: tatoeba.org #21267 (CK) & #466678 (Espi)\\n',\n",
       " 'Have fun.\\tViel Spaß!\\tCC-BY 2.0 (France) Attribution: tatoeba.org #21267 (CK) & #521359 (Espi)\\n',\n",
       " 'Have fun.\\tFeier schön!\\tCC-BY 2.0 (France) Attribution: tatoeba.org #21267 (CK) & #1079989 (al_ex_an_der)\\n',\n",
       " 'He spoke.\\tEr sprach.\\tCC-BY 2.0 (France) Attribution: tatoeba.org #1564976 (marcelostockle) & #772231 (samueldora)\\n',\n",
       " 'He tries.\\tEr versucht es.\\tCC-BY 2.0 (France) Attribution: tatoeba.org #288166 (CM) & #413525 (MUIRIEL)\\n',\n",
       " 'Help Tom.\\tHilf Tom!\\tCC-BY 2.0 (France) Attribution: tatoeba.org #2203858 (CK) & #2203959 (Pfirsichbaeumchen)\\n',\n",
       " 'Help Tom.\\tHelft Tom!\\tCC-BY 2.0 (France) Attribution: tatoeba.org #2203858 (CK) & #2203960 (Pfirsichbaeumchen)\\n',\n",
       " 'Help Tom.\\tHelfen Sie Tom!\\tCC-BY 2.0 (France) Attribution: tatoeba.org #2203858 (CK) & #2203961 (Pfirsichbaeumchen)\\n',\n",
       " 'How cute!\\tWas ist das nicht süß!\\tCC-BY 2.0 (France) Attribution: tatoeba.org #36097 (CM) & #332133 (SeeVogel)\\n',\n",
       " 'How cute!\\tWie süß!\\tCC-BY 2.0 (France) Attribution: tatoeba.org #36097 (CM) & #356164 (MUIRIEL)\\n',\n",
       " 'How deep?\\tWie tief?\\tCC-BY 2.0 (France) Attribution: tatoeba.org #37612 (CM) & #4659638 (AC)\\n',\n",
       " 'How nice!\\tWie schön!\\tCC-BY 2.0 (France) Attribution: tatoeba.org #1913091 (CK) & #3943128 (Kuraimegami)\\n',\n",
       " 'Humor me.\\tTu mir den Gefallen.\\tCC-BY 2.0 (France) Attribution: tatoeba.org #1954271 (CM) & #4941581 (Hans_Adler)\\n',\n",
       " 'Humor me.\\tTun Sie mir den Gefallen.\\tCC-BY 2.0 (France) Attribution: tatoeba.org #1954271 (CM) & #4941582 (Hans_Adler)\\n',\n",
       " 'Hurry up.\\tBeeil dich!\\tCC-BY 2.0 (France) Attribution: tatoeba.org #1329 (brauliobezerra) & #131 (MUIRIEL)\\n',\n",
       " 'Hurry up.\\tBeeil dich.\\tCC-BY 2.0 (France) Attribution: tatoeba.org #1329 (brauliobezerra) & #355342 (MUIRIEL)\\n',\n",
       " 'Hurry up.\\tMach hin!\\tCC-BY 2.0 (France) Attribution: tatoeba.org #1329 (brauliobezerra) & #1367862 (al_ex_an_der)\\n',\n",
       " 'I am fat.\\tIch bin dick.\\tCC-BY 2.0 (France) Attribution: tatoeba.org #2523975 (CM) & #1187988 (Tlustulimu)\\n',\n",
       " 'I can go.\\tIch kann gehen.\\tCC-BY 2.0 (France) Attribution: tatoeba.org #3092548 (CK) & #4521701 (Emtyra)\\n',\n",
       " 'I did it.\\tIch habe es geschafft.\\tCC-BY 2.0 (France) Attribution: tatoeba.org #2549832 (CK) & #1223697 (BraveSentry)\\n',\n",
       " \"I did it.\\tIch hab's gemacht.\\tCC-BY 2.0 (France) Attribution: tatoeba.org #2549832 (CK) & #2981343 (pne)\\n\",\n",
       " 'I get by.\\tIch komme klar.\\tCC-BY 2.0 (France) Attribution: tatoeba.org #2476830 (arnxy20) & #2800938 (freddy1)\\n',\n",
       " 'I get by.\\tIch komme zurecht.\\tCC-BY 2.0 (France) Attribution: tatoeba.org #2476830 (arnxy20) & #6644236 (Felixjp)\\n',\n",
       " 'I get by.\\tIch komme über die Runden.\\tCC-BY 2.0 (France) Attribution: tatoeba.org #2476830 (arnxy20) & #6644244 (Felixjp)\\n',\n",
       " 'I get it.\\tIch verstehe.\\tCC-BY 2.0 (France) Attribution: tatoeba.org #1691393 (aka_aj) & #547386 (Espi)\\n',\n",
       " 'I got it.\\tIch habe es verstanden.\\tCC-BY 2.0 (France) Attribution: tatoeba.org #433472 (CK) & #1313701 (al_ex_an_der)\\n',\n",
       " 'I got it.\\tIch habe es bekommen.\\tCC-BY 2.0 (France) Attribution: tatoeba.org #433472 (CK) & #1313702 (al_ex_an_der)\\n',\n",
       " \"I got it.\\tIch hab's.\\tCC-BY 2.0 (France) Attribution: tatoeba.org #433472 (CK) & #3128448 (samueldora)\\n\",\n",
       " 'I helped.\\tIch half.\\tCC-BY 2.0 (France) Attribution: tatoeba.org #5828630 (CK) & #7091842 (Luiaard)\\n',\n",
       " 'I helped.\\tIch habe geholfen.\\tCC-BY 2.0 (France) Attribution: tatoeba.org #5828630 (CK) & #7091843 (Luiaard)\\n',\n",
       " 'I jumped.\\tIch bin gesprungen.\\tCC-BY 2.0 (France) Attribution: tatoeba.org #5828631 (CK) & #4098517 (Esperantostern)\\n',\n",
       " 'I refuse.\\tIch weigere mich.\\tCC-BY 2.0 (France) Attribution: tatoeba.org #3930181 (Youmu970) & #4942976 (Hans_Adler)\\n',\n",
       " 'I resign.\\tIch trete zurück.\\tCC-BY 2.0 (France) Attribution: tatoeba.org #731590 (Eldad) & #731476 (jakov)\\n',\n",
       " 'I shaved.\\tIch rasierte mich.\\tCC-BY 2.0 (France) Attribution: tatoeba.org #5828638 (CK) & #4785325 (Tamy)\\n',\n",
       " 'I shaved.\\tIch habe mich rasiert.\\tCC-BY 2.0 (France) Attribution: tatoeba.org #5828638 (CK) & #7141491 (Luiaard)\\n',\n",
       " 'I smiled.\\tIch lächelte.\\tCC-BY 2.0 (France) Attribution: tatoeba.org #3651941 (Luciosp) & #4942940 (Hans_Adler)\\n',\n",
       " 'I stayed.\\tIch blieb.\\tCC-BY 2.0 (France) Attribution: tatoeba.org #2123630 (CK) & #2139195 (Pfirsichbaeumchen)\\n',\n",
       " 'I stayed.\\tIch bin dageblieben.\\tCC-BY 2.0 (France) Attribution: tatoeba.org #2123630 (CK) & #5606600 (Vortarulo)\\n',\n",
       " 'I use it.\\tIch benutze es.\\tCC-BY 2.0 (France) Attribution: tatoeba.org #254813 (CK) & #1401401 (Esperantostern)\\n',\n",
       " 'I waited.\\tIch habe gewartet.\\tCC-BY 2.0 (France) Attribution: tatoeba.org #2123628 (CK) & #2139192 (Pfirsichbaeumchen)\\n',\n",
       " 'I yawned.\\tIch gähnte.\\tCC-BY 2.0 (France) Attribution: tatoeba.org #5828642 (CK) & #2202301 (Esperantostern)\\n',\n",
       " 'I yawned.\\tIch habe gegähnt.\\tCC-BY 2.0 (France) Attribution: tatoeba.org #5828642 (CK) & #4844863 (Tamy)\\n',\n",
       " \"I'll pay.\\tIch werde zahlen.\\tCC-BY 2.0 (France) Attribution: tatoeba.org #411285 (CK) & #6155050 (arved)\\n\",\n",
       " \"I'll try.\\tIch werde es versuchen.\\tCC-BY 2.0 (France) Attribution: tatoeba.org #2111768 (CK) & #643552 (Pfirsichbaeumchen)\\n\",\n",
       " \"I'm back.\\tIch bin wieder da.\\tCC-BY 2.0 (France) Attribution: tatoeba.org #564159 (darinmex) & #817356 (Manfredo)\\n\",\n",
       " \"I'm bald.\\tIch bin glatzköpfig.\\tCC-BY 2.0 (France) Attribution: tatoeba.org #3330667 (CK) & #2293098 (al_ex_an_der)\\n\",\n",
       " \"I'm bald.\\tIch habe eine Glatze.\\tCC-BY 2.0 (France) Attribution: tatoeba.org #3330667 (CK) & #2293099 (al_ex_an_der)\\n\",\n",
       " \"I'm busy.\\tIch bin beschäftigt.\\tCC-BY 2.0 (France) Attribution: tatoeba.org #261721 (CK) & #351599 (MUIRIEL)\\n\",\n",
       " \"I'm busy.\\tIch habe zu tun.\\tCC-BY 2.0 (France) Attribution: tatoeba.org #261721 (CK) & #2624978 (Pfirsichbaeumchen)\\n\",\n",
       " \"I'm deaf.\\tIch bin taub.\\tCC-BY 2.0 (France) Attribution: tatoeba.org #5828646 (CK) & #2730977 (Pfirsichbaeumchen)\\n\",\n",
       " \"I'm fair.\\tIch bin gerecht.\\tCC-BY 2.0 (France) Attribution: tatoeba.org #2202832 (CK) & #7374179 (Yorwba)\\n\",\n",
       " \"I'm fine.\\tMir geht's gut.\\tCC-BY 2.0 (France) Attribution: tatoeba.org #257272 (Eldad) & #341452 (MUIRIEL)\\n\",\n",
       " \"I'm fine.\\tMir geht es gut.\\tCC-BY 2.0 (France) Attribution: tatoeba.org #257272 (Eldad) & #659407 (Esperantostern)\\n\",\n",
       " \"I'm fine.\\tEs geht mir gut.\\tCC-BY 2.0 (France) Attribution: tatoeba.org #257272 (Eldad) & #2705321 (Pfirsichbaeumchen)\\n\",\n",
       " \"I'm free.\\tIch bin frei.\\tCC-BY 2.0 (France) Attribution: tatoeba.org #23959 (CK) & #340890 (MUIRIEL)\\n\",\n",
       " \"I'm full.\\tIch bin satt.\\tCC-BY 2.0 (France) Attribution: tatoeba.org #433863 (CK) & #547397 (Espi)\\n\",\n",
       " \"I'm game.\\tIch bin dabei.\\tCC-BY 2.0 (France) Attribution: tatoeba.org #835972 (CM) & #835978 (Pfirsichbaeumchen)\\n\",\n",
       " \"I'm game.\\tIch mache mit.\\tCC-BY 2.0 (France) Attribution: tatoeba.org #835972 (CM) & #835979 (Pfirsichbaeumchen)\\n\",\n",
       " \"I'm good.\\tMir geht's gut.\\tCC-BY 2.0 (France) Attribution: tatoeba.org #5828648 (CK) & #341452 (MUIRIEL)\\n\",\n",
       " \"I'm here.\\tIch bin hier.\\tCC-BY 2.0 (France) Attribution: tatoeba.org #2111726 (CK) & #2323643 (pne)\\n\",\n",
       " \"I'm home.\\tIch bin zu Hause.\\tCC-BY 2.0 (France) Attribution: tatoeba.org #2111725 (CK) & #375496 (MUIRIEL)\\n\",\n",
       " \"I'm late.\\tIch komme zu spät.\\tCC-BY 2.0 (France) Attribution: tatoeba.org #2123622 (CK) & #2139207 (Pfirsichbaeumchen)\\n\",\n",
       " \"I'm lost.\\tIch habe mich verirrt.\\tCC-BY 2.0 (France) Attribution: tatoeba.org #455833 (lukaszpp) & #785454 (Pfirsichbaeumchen)\\n\",\n",
       " \"I'm mean.\\tIch bin gemein.\\tCC-BY 2.0 (France) Attribution: tatoeba.org #2203077 (CK) & #7451361 (Yorwba)\\n\",\n",
       " \"I'm next.\\tIch bin der Nächste.\\tCC-BY 2.0 (France) Attribution: tatoeba.org #3171892 (CK) & #6546704 (Espi)\\n\",\n",
       " \"I'm okay.\\tEs geht mir gut.\\tCC-BY 2.0 (France) Attribution: tatoeba.org #2283729 (CK) & #2705321 (Pfirsichbaeumchen)\\n\",\n",
       " \"I'm rich.\\tIch bin reich.\\tCC-BY 2.0 (France) Attribution: tatoeba.org #2203289 (CK) & #2067087 (al_ex_an_der)\\n\",\n",
       " \"I'm safe.\\tIch bin sicher.\\tCC-BY 2.0 (France) Attribution: tatoeba.org #2203309 (CK) & #399166 (MUIRIEL)\\n\",\n",
       " \"I'm sick.\\tIch bin krank!\\tCC-BY 2.0 (France) Attribution: tatoeba.org #780304 (vgigregg) & #448234 (Lars224)\\n\",\n",
       " \"I'm sure.\\tIch bin sicher.\\tCC-BY 2.0 (France) Attribution: tatoeba.org #2283730 (CK) & #399166 (MUIRIEL)\\n\",\n",
       " \"I'm tall.\\tIch bin groß.\\tCC-BY 2.0 (France) Attribution: tatoeba.org #2764439 (CK) & #576296 (Pfirsichbaeumchen)\\n\",\n",
       " \"I'm thin.\\tIch bin dünn.\\tCC-BY 2.0 (France) Attribution: tatoeba.org #2203445 (CK) & #7413423 (Yorwba)\\n\",\n",
       " \"I'm tidy.\\tIch bin ordentlich.\\tCC-BY 2.0 (France) Attribution: tatoeba.org #2203456 (CK) & #7413435 (Yorwba)\\n\",\n",
       " \"I'm ugly.\\tIch bin hässlich.\\tCC-BY 2.0 (France) Attribution: tatoeba.org #2428556 (CK) & #2182960 (Esperantostern)\\n\",\n",
       " \"I'm weak.\\tIch bin schwach.\\tCC-BY 2.0 (France) Attribution: tatoeba.org #2203572 (CK) & #2205477 (Pfirsichbaeumchen)\\n\",\n",
       " \"I'm well.\\tMir geht es gut.\\tCC-BY 2.0 (France) Attribution: tatoeba.org #4207033 (stevegrant) & #659407 (Esperantostern)\\n\",\n",
       " 'It helps.\\tDas hilft.\\tCC-BY 2.0 (France) Attribution: tatoeba.org #2123616 (CK) & #2139206 (Pfirsichbaeumchen)\\n',\n",
       " 'It hurts.\\tEs tut weh.\\tCC-BY 2.0 (France) Attribution: tatoeba.org #2649251 (CK) & #4942926 (Hans_Adler)\\n',\n",
       " 'It hurts.\\tEs schmerzt.\\tCC-BY 2.0 (France) Attribution: tatoeba.org #2649251 (CK) & #4942927 (Hans_Adler)\\n',\n",
       " 'It works.\\tEs klappt.\\tCC-BY 2.0 (France) Attribution: tatoeba.org #1365269 (sacredceltic) & #4514429 (raggione)\\n',\n",
       " 'It works.\\tEs funktioniert.\\tCC-BY 2.0 (France) Attribution: tatoeba.org #1365269 (sacredceltic) & #4949724 (raggione)\\n',\n",
       " \"It's Tom.\\tEs ist Tom.\\tCC-BY 2.0 (France) Attribution: tatoeba.org #2123573 (CK) & #6626099 (Felixjp)\\n\",\n",
       " \"It's his.\\tEs ist seins.\\tCC-BY 2.0 (France) Attribution: tatoeba.org #2187229 (CK) & #6626100 (Felixjp)\\n\",\n",
       " \"It's hot.\\tEs ist heiß.\\tCC-BY 2.0 (France) Attribution: tatoeba.org #423405 (cristina_fulginiti) & #438749 (xtofu80)\\n\",\n",
       " \"It's hot.\\tSie ist heiß.\\tCC-BY 2.0 (France) Attribution: tatoeba.org #423405 (cristina_fulginiti) & #8193006 (raggione)\\n\",\n",
       " \"It's hot.\\tEr ist heiß.\\tCC-BY 2.0 (France) Attribution: tatoeba.org #423405 (cristina_fulginiti) & #8193009 (raggione)\\n\",\n",
       " \"It's new.\\tEs ist neu.\\tCC-BY 2.0 (France) Attribution: tatoeba.org #42304 (CK) & #1313704 (al_ex_an_der)\\n\",\n",
       " \"It's sad.\\tEs ist traurig.\\tCC-BY 2.0 (France) Attribution: tatoeba.org #2515077 (CK) & #3459049 (Zaghawa)\\n\",\n",
       " 'Keep out!\\tEintritt verboten!\\tCC-BY 2.0 (France) Attribution: tatoeba.org #325436 (CK) & #842034 (Espi)\\n',\n",
       " 'Keep out.\\tKomm nicht herein.\\tCC-BY 2.0 (France) Attribution: tatoeba.org #325435 (CK) & #469904 (Espi)\\n',\n",
       " 'Keep out.\\tKein Zutritt.\\tCC-BY 2.0 (France) Attribution: tatoeba.org #325435 (CK) & #1313706 (al_ex_an_der)\\n',\n",
       " 'Kiss Tom.\\tKüsse Tom!\\tCC-BY 2.0 (France) Attribution: tatoeba.org #2203863 (CK) & #2203972 (Pfirsichbaeumchen)\\n',\n",
       " 'Kiss Tom.\\tKüssen Sie Tom!\\tCC-BY 2.0 (France) Attribution: tatoeba.org #2203863 (CK) & #2203973 (Pfirsichbaeumchen)\\n',\n",
       " 'Kiss Tom.\\tKüsst Tom!\\tCC-BY 2.0 (France) Attribution: tatoeba.org #2203863 (CK) & #2203974 (Pfirsichbaeumchen)\\n',\n",
       " 'Leave us.\\tGeh weg!\\tCC-BY 2.0 (France) Attribution: tatoeba.org #1954274 (CK) & #547378 (Espi)\\n',\n",
       " 'Leave us.\\tGehen Sie weg.\\tCC-BY 2.0 (France) Attribution: tatoeba.org #1954274 (CK) & #4942536 (Hans_Adler)\\n',\n",
       " 'Leave us.\\tLass uns allein.\\tCC-BY 2.0 (France) Attribution: tatoeba.org #1954274 (CK) & #4942538 (Hans_Adler)\\n',\n",
       " 'Leave us.\\tLassen Sie uns allein.\\tCC-BY 2.0 (France) Attribution: tatoeba.org #1954274 (CK) & #4942539 (Hans_Adler)\\n',\n",
       " \"Let's go!\\tLass uns gehen!\\tCC-BY 2.0 (France) Attribution: tatoeba.org #241077 (CK) & #370055 (xtofu80)\\n\",\n",
       " \"Let's go!\\tAuf geht's!\\tCC-BY 2.0 (France) Attribution: tatoeba.org #241077 (CK) & #975131 (Sudajaengi)\\n\",\n",
       " \"Let's go!\\tGehen wir!\\tCC-BY 2.0 (France) Attribution: tatoeba.org #241077 (CK) & #1225381 (al_ex_an_der)\\n\",\n",
       " \"Let's go!\\tLasst uns gehen.\\tCC-BY 2.0 (France) Attribution: tatoeba.org #241077 (CK) & #1324269 (Pfirsichbaeumchen)\\n\",\n",
       " \"Let's go!\\tLass uns losgehen.\\tCC-BY 2.0 (France) Attribution: tatoeba.org #241077 (CK) & #1324270 (Pfirsichbaeumchen)\\n\",\n",
       " \"Let's go!\\tLasst uns losgehen.\\tCC-BY 2.0 (France) Attribution: tatoeba.org #241077 (CK) & #1324271 (Pfirsichbaeumchen)\\n\",\n",
       " \"Let's go!\\tAuf, auf!\\tCC-BY 2.0 (France) Attribution: tatoeba.org #241077 (CK) & #2456755 (Pfirsichbaeumchen)\\n\",\n",
       " 'Look out!\\tVorsicht!\\tCC-BY 2.0 (France) Attribution: tatoeba.org #20719 (CK) & #834162 (Esperantostern)\\n',\n",
       " 'Marry me.\\tHeirate mich.\\tCC-BY 2.0 (France) Attribution: tatoeba.org #1954275 (CK) & #4732111 (bonny37)\\n',\n",
       " 'May I go?\\tDarf ich gehen?\\tCC-BY 2.0 (France) Attribution: tatoeba.org #2163138 (Source_VOA) & #879228 (Esperantostern)\\n',\n",
       " 'Save Tom.\\tRette Tom!\\tCC-BY 2.0 (France) Attribution: tatoeba.org #2203865 (CK) & #2203978 (Pfirsichbaeumchen)\\n',\n",
       " 'Save Tom.\\tRettet Tom!\\tCC-BY 2.0 (France) Attribution: tatoeba.org #2203865 (CK) & #2203979 (Pfirsichbaeumchen)\\n',\n",
       " 'Save Tom.\\tRetten Sie Tom!\\tCC-BY 2.0 (France) Attribution: tatoeba.org #2203865 (CK) & #2203980 (Pfirsichbaeumchen)\\n',\n",
       " 'She came.\\tSie kam.\\tCC-BY 2.0 (France) Attribution: tatoeba.org #853152 (piksea) & #867796 (Espi)\\n',\n",
       " 'She lied.\\tSie log.\\tCC-BY 2.0 (France) Attribution: tatoeba.org #2774739 (CS) & #3939890 (Giulio)\\n',\n",
       " 'She runs.\\tSie rennt.\\tCC-BY 2.0 (France) Attribution: tatoeba.org #672264 (CM) & #672265 (Zaghawa)\\n',\n",
       " 'Sit down!\\tSetz dich!\\tCC-BY 2.0 (France) Attribution: tatoeba.org #1349166 (sacredceltic) & #1174265 (MUIRIEL)\\n',\n",
       " 'Sit down!\\tSetzen Sie sich!\\tCC-BY 2.0 (France) Attribution: tatoeba.org #1349166 (sacredceltic) & #1791537 (Pfirsichbaeumchen)\\n',\n",
       " 'Sit down.\\tSetz dich!\\tCC-BY 2.0 (France) Attribution: tatoeba.org #1553397 (CK) & #1174265 (MUIRIEL)\\n',\n",
       " 'Speak up!\\tSprich lauter!\\tCC-BY 2.0 (France) Attribution: tatoeba.org #35175 (CK) & #500393 (Espi)\\n',\n",
       " 'Stand up!\\tStehen Sie auf!\\tCC-BY 2.0 (France) Attribution: tatoeba.org #325429 (CK) & #925574 (Sudajaengi)\\n',\n",
       " 'Stand up!\\tSteht auf!\\tCC-BY 2.0 (France) Attribution: tatoeba.org #325429 (CK) & #1313708 (al_ex_an_der)\\n',\n",
       " 'Stand up!\\tStehe auf!\\tCC-BY 2.0 (France) Attribution: tatoeba.org #325429 (CK) & #1923381 (Pfirsichbaeumchen)\\n',\n",
       " 'Stop Tom.\\tHalte Tom auf!\\tCC-BY 2.0 (France) Attribution: tatoeba.org #2203866 (CK) & #2203981 (Pfirsichbaeumchen)\\n',\n",
       " 'Stop Tom.\\tHalten Sie Tom auf!\\tCC-BY 2.0 (France) Attribution: tatoeba.org #2203866 (CK) & #2203982 (Pfirsichbaeumchen)\\n',\n",
       " 'Stop Tom.\\tHaltet Tom auf!\\tCC-BY 2.0 (France) Attribution: tatoeba.org #2203866 (CK) & #2203983 (Pfirsichbaeumchen)\\n',\n",
       " 'Take Tom.\\tNimm Tom.\\tCC-BY 2.0 (France) Attribution: tatoeba.org #2111478 (CK) & #4734011 (bonny37)\\n',\n",
       " 'Taste it.\\tProbier es mal.\\tCC-BY 2.0 (France) Attribution: tatoeba.org #6890476 (Eccles17) & #8227472 (MisterTrouser)\\n',\n",
       " 'Tell Tom.\\tSag es Tom.\\tCC-BY 2.0 (France) Attribution: tatoeba.org #2111475 (CK) & #4942629 (Hans_Adler)\\n',\n",
       " 'Tell Tom.\\tSagen Sie es Tom.\\tCC-BY 2.0 (France) Attribution: tatoeba.org #2111475 (CK) & #4942630 (Hans_Adler)\\n',\n",
       " 'Tell Tom.\\tErzähl es Tom.\\tCC-BY 2.0 (France) Attribution: tatoeba.org #2111475 (CK) & #4942632 (Hans_Adler)\\n',\n",
       " 'Tell Tom.\\tErzählen Sie Tom davon.\\tCC-BY 2.0 (France) Attribution: tatoeba.org #2111475 (CK) & #4942633 (Hans_Adler)\\n',\n",
       " 'Tell Tom.\\tSagt es Tom.\\tCC-BY 2.0 (France) Attribution: tatoeba.org #2111475 (CK) & #4942637 (Hans_Adler)\\n',\n",
       " 'Terrific!\\tHervorragend!\\tCC-BY 2.0 (France) Attribution: tatoeba.org #52022 (Zifre) & #5362915 (RandomUsername)\\n',\n",
       " 'Terrific!\\tSagenhaft!\\tCC-BY 2.0 (France) Attribution: tatoeba.org #52022 (Zifre) & #5362916 (RandomUsername)\\n',\n",
       " 'Terrific!\\tWunderbar!\\tCC-BY 2.0 (France) Attribution: tatoeba.org #52022 (Zifre) & #5362918 (RandomUsername)\\n',\n",
       " 'They won.\\tSie haben gewonnen.\\tCC-BY 2.0 (France) Attribution: tatoeba.org #1618734 (CK) & #4659697 (AC)\\n',\n",
       " 'Tom came.\\tTom kam.\\tCC-BY 2.0 (France) Attribution: tatoeba.org #2203606 (CK) & #2205389 (Pfirsichbaeumchen)\\n',\n",
       " 'Tom came.\\tTom ist gekommen.\\tCC-BY 2.0 (France) Attribution: tatoeba.org #2203606 (CK) & #2205390 (Pfirsichbaeumchen)\\n',\n",
       " 'Tom died.\\tTom ist gestorben.\\tCC-BY 2.0 (France) Attribution: tatoeba.org #2005188 (CK) & #2122770 (Pfirsichbaeumchen)\\n',\n",
       " 'Tom died.\\tTom starb.\\tCC-BY 2.0 (France) Attribution: tatoeba.org #2005188 (CK) & #5830114 (Pfirsichbaeumchen)\\n',\n",
       " 'Tom fell.\\tTom fiel.\\tCC-BY 2.0 (France) Attribution: tatoeba.org #2203679 (CK) & #2204244 (Pfirsichbaeumchen)\\n',\n",
       " 'Tom fell.\\tTom ist gefallen.\\tCC-BY 2.0 (France) Attribution: tatoeba.org #2203679 (CK) & #2204245 (Pfirsichbaeumchen)\\n',\n",
       " 'Tom knew.\\tTom wusste es.\\tCC-BY 2.0 (France) Attribution: tatoeba.org #2203721 (CK) & #2204189 (Pfirsichbaeumchen)\\n',\n",
       " 'Tom knew.\\tTom hat es gewusst.\\tCC-BY 2.0 (France) Attribution: tatoeba.org #2203721 (CK) & #2204190 (Pfirsichbaeumchen)\\n',\n",
       " 'Tom knew.\\tTom wusste Bescheid.\\tCC-BY 2.0 (France) Attribution: tatoeba.org #2203721 (CK) & #3879104 (raggione)\\n',\n",
       " 'Tom left.\\tTom ist gegangen.\\tCC-BY 2.0 (France) Attribution: tatoeba.org #2005178 (CK) & #3768754 (Zaghawa)\\n',\n",
       " 'Tom left.\\tTom ging.\\tCC-BY 2.0 (France) Attribution: tatoeba.org #2005178 (CK) & #5830112 (Pfirsichbaeumchen)\\n',\n",
       " 'Tom lied.\\tTom log.\\tCC-BY 2.0 (France) Attribution: tatoeba.org #2005179 (CK) & #4705997 (Esperantostern)\\n',\n",
       " 'Tom lies.\\tTom lügt.\\tCC-BY 2.0 (France) Attribution: tatoeba.org #2203722 (CK) & #1662964 (Pfirsichbaeumchen)\\n',\n",
       " 'Tom lost.\\tTom hat verloren.\\tCC-BY 2.0 (France) Attribution: tatoeba.org #2005180 (CK) & #4378249 (pullnosemans)\\n',\n",
       " 'Tom paid.\\tTom hat gezahlt.\\tCC-BY 2.0 (France) Attribution: tatoeba.org #2111155 (CK) & #4378251 (pullnosemans)\\n',\n",
       " 'Tom quit.\\tTom hat aufgehört.\\tCC-BY 2.0 (France) Attribution: tatoeba.org #2005183 (CK) & #5830113 (Pfirsichbaeumchen)\\n',\n",
       " 'Tom swam.\\tTom schwamm.\\tCC-BY 2.0 (France) Attribution: tatoeba.org #2203845 (CK) & #2204021 (Pfirsichbaeumchen)\\n',\n",
       " 'Tom swam.\\tTom ist geschwommen.\\tCC-BY 2.0 (France) Attribution: tatoeba.org #2203845 (CK) & #2204022 (Pfirsichbaeumchen)\\n',\n",
       " 'Tom wept.\\tTom weinte.\\tCC-BY 2.0 (France) Attribution: tatoeba.org #1524763 (Spamster) & #1692967 (Pfirsichbaeumchen)\\n',\n",
       " \"Tom's up.\\tTom ist auf.\\tCC-BY 2.0 (France) Attribution: tatoeba.org #2107644 (CK) & #6625513 (Felixjp)\\n\",\n",
       " 'Too late.\\tZu spät.\\tCC-BY 2.0 (France) Attribution: tatoeba.org #1875 (Swift) & #687 (MUIRIEL)\\n',\n",
       " 'Touch it.\\tFass es an.\\tCC-BY 2.0 (France) Attribution: tatoeba.org #6049392 (mailohilohi) & #8227466 (MisterTrouser)\\n',\n",
       " 'Trust me.\\tVertraue mir.\\tCC-BY 2.0 (France) Attribution: tatoeba.org #954991 (FeuDRenais) & #975631 (Esperantostern)\\n',\n",
       " 'Trust me.\\tVertraut mir!\\tCC-BY 2.0 (France) Attribution: tatoeba.org #954991 (FeuDRenais) & #1527201 (Pfirsichbaeumchen)\\n',\n",
       " 'Trust me.\\tVertrauen Sie mir!\\tCC-BY 2.0 (France) Attribution: tatoeba.org #954991 (FeuDRenais) & #1527202 (Pfirsichbaeumchen)\\n',\n",
       " 'Try hard.\\tVersuch es richtig!\\tCC-BY 2.0 (France) Attribution: tatoeba.org #271901 (Zifre) & #4659651 (AC)\\n',\n",
       " 'Use this.\\tNimm das hier!\\tCC-BY 2.0 (France) Attribution: tatoeba.org #1954278 (CK) & #2108804 (Pfirsichbaeumchen)\\n',\n",
       " 'Warn Tom.\\tWarnen Sie Tom.\\tCC-BY 2.0 (France) Attribution: tatoeba.org #1954279 (CK) & #4941624 (Hans_Adler)\\n',\n",
       " 'Warn Tom.\\tWarne Tom.\\tCC-BY 2.0 (France) Attribution: tatoeba.org #1954279 (CK) & #4941625 (Hans_Adler)\\n',\n",
       " 'Watch me.\\tSchau mir zu.\\tCC-BY 2.0 (France) Attribution: tatoeba.org #1954282 (CK) & #4941628 (Hans_Adler)\\n',\n",
       " 'Watch us.\\tBeobachte uns.\\tCC-BY 2.0 (France) Attribution: tatoeba.org #1954283 (CK) & #4941626 (Hans_Adler)\\n',\n",
       " 'Watch us.\\tBeobachten Sie uns.\\tCC-BY 2.0 (France) Attribution: tatoeba.org #1954283 (CK) & #4941627 (Hans_Adler)\\n',\n",
       " 'Watch us.\\tSchau uns zu.\\tCC-BY 2.0 (France) Attribution: tatoeba.org #1954283 (CK) & #7986561 (Hans_Adler)\\n',\n",
       " 'Watch us.\\tSchaut uns zu.\\tCC-BY 2.0 (France) Attribution: tatoeba.org #1954283 (CK) & #7986562 (Hans_Adler)\\n',\n",
       " 'Watch us.\\tSchauen Sie uns zu.\\tCC-BY 2.0 (France) Attribution: tatoeba.org #1954283 (CK) & #7986563 (Hans_Adler)\\n',\n",
       " 'Watch us.\\tBeobachtet uns.\\tCC-BY 2.0 (France) Attribution: tatoeba.org #1954283 (CK) & #7986564 (Hans_Adler)\\n',\n",
       " 'We agree.\\tWir stimmen zu.\\tCC-BY 2.0 (France) Attribution: tatoeba.org #628230 (CK) & #3345900 (freddy1)\\n',\n",
       " 'We agree.\\tWir sind einverstanden.\\tCC-BY 2.0 (France) Attribution: tatoeba.org #628230 (CK) & #3345901 (freddy1)\\n',\n",
       " 'We tried.\\tWir haben es versucht.\\tCC-BY 2.0 (France) Attribution: tatoeba.org #4488381 (PentheusPuddleglum) & #3213581 (Zaghawa)\\n',\n",
       " 'We tried.\\tWir versuchten es.\\tCC-BY 2.0 (France) Attribution: tatoeba.org #4488381 (PentheusPuddleglum) & #4942984 (Hans_Adler)\\n',\n",
       " \"We'll go.\\tWir werden gehen.\\tCC-BY 2.0 (France) Attribution: tatoeba.org #2203688 (CK) & #2204231 (Pfirsichbaeumchen)\\n\",\n",
       " \"We're OK.\\tWir sind in Ordnung.\\tCC-BY 2.0 (France) Attribution: tatoeba.org #2203135 (CK) & #6624815 (Felixjp)\\n\",\n",
       " 'What for?\\tWozu?\\tCC-BY 2.0 (France) Attribution: tatoeba.org #24867 (CK) & #784579 (al_ex_an_der)\\n',\n",
       " 'What fun!\\tWas für ein Spaß!\\tCC-BY 2.0 (France) Attribution: tatoeba.org #36026 (CM) & #2202284 (Pfirsichbaeumchen)\\n',\n",
       " 'Who am I?\\tWer bin ich?\\tCC-BY 2.0 (France) Attribution: tatoeba.org #259378 (Zifre) & #556318 (samueldora)\\n',\n",
       " 'Who came?\\tWer ist gekommen?\\tCC-BY 2.0 (France) Attribution: tatoeba.org #2203607 (CK) & #2205351 (Pfirsichbaeumchen)\\n',\n",
       " 'Who came?\\tWer kam?\\tCC-BY 2.0 (France) Attribution: tatoeba.org #2203607 (CK) & #2205353 (Pfirsichbaeumchen)\\n',\n",
       " 'Who died?\\tWer ist gestorben?\\tCC-BY 2.0 (France) Attribution: tatoeba.org #2005187 (CK) & #2741910 (freddy1)\\n',\n",
       " 'Who fell?\\tWer fiel?\\tCC-BY 2.0 (France) Attribution: tatoeba.org #2203678 (CK) & #2204242 (Pfirsichbaeumchen)\\n',\n",
       " 'Who fell?\\tWer ist gefallen?\\tCC-BY 2.0 (France) Attribution: tatoeba.org #2203678 (CK) & #2204243 (Pfirsichbaeumchen)\\n',\n",
       " 'Who quit?\\tWer hat aufgehört?\\tCC-BY 2.0 (France) Attribution: tatoeba.org #2005182 (CK) & #4941612 (Hans_Adler)\\n',\n",
       " 'Who quit?\\tWer ist ausgeschieden?\\tCC-BY 2.0 (France) Attribution: tatoeba.org #2005182 (CK) & #4941613 (Hans_Adler)\\n',\n",
       " 'Who swam?\\tWer schwamm?\\tCC-BY 2.0 (France) Attribution: tatoeba.org #2203844 (CK) & #2204019 (Pfirsichbaeumchen)\\n',\n",
       " 'Who swam?\\tWer ist geschwommen?\\tCC-BY 2.0 (France) Attribution: tatoeba.org #2203844 (CK) & #2204020 (Pfirsichbaeumchen)\\n',\n",
       " \"Who's he?\\tWer ist er?\\tCC-BY 2.0 (France) Attribution: tatoeba.org #2203694 (CK) & #362092 (Wolf)\\n\",\n",
       " 'Write me.\\tSchreib mir!\\tCC-BY 2.0 (France) Attribution: tatoeba.org #1954284 (CK) & #2297034 (freddy1)\\n',\n",
       " 'Write me.\\tSchreiben Sie mir!\\tCC-BY 2.0 (France) Attribution: tatoeba.org #1954284 (CK) & #3291013 (Pfirsichbaeumchen)\\n',\n",
       " 'Write me.\\tSchreibt mir!\\tCC-BY 2.0 (France) Attribution: tatoeba.org #1954284 (CK) & #3291015 (Pfirsichbaeumchen)\\n',\n",
       " 'You lost.\\tSie haben verloren.\\tCC-BY 2.0 (France) Attribution: tatoeba.org #6440636 (CK) & #4941722 (Hans_Adler)\\n',\n",
       " 'You lost.\\tDu hast verloren.\\tCC-BY 2.0 (France) Attribution: tatoeba.org #6440636 (CK) & #6476834 (raggione)\\n',\n",
       " 'You lost.\\tIhr habt verloren.\\tCC-BY 2.0 (France) Attribution: tatoeba.org #6440636 (CK) & #6476835 (raggione)\\n',\n",
       " 'Aim. Fire!\\tZielen. Feuer!\\tCC-BY 2.0 (France) Attribution: tatoeba.org #1954262 (CK) & #7277172 (Yorwba)\\n',\n",
       " 'Am I late?\\tBin ich zu spät?\\tCC-BY 2.0 (France) Attribution: tatoeba.org #3442146 (CK) & #3610895 (Jan_Schreiber)\\n',\n",
       " 'Answer me.\\tAntworten Sie mir.\\tCC-BY 2.0 (France) Attribution: tatoeba.org #251060 (Eldad) & #358366 (MUIRIEL)\\n',\n",
       " 'Birds fly.\\tVögel fliegen.\\tCC-BY 2.0 (France) Attribution: tatoeba.org #278213 (CK) & #544600 (al_ex_an_der)\\n',\n",
       " 'Bless you.\\tGesundheit.\\tCC-BY 2.0 (France) Attribution: tatoeba.org #2111946 (CK) & #2235463 (Vortarulo)\\n',\n",
       " 'Call home!\\tRuf zuhause an!\\tCC-BY 2.0 (France) Attribution: tatoeba.org #1730009 (CK) & #1958628 (Tamy)\\n',\n",
       " 'Call home!\\tRufen Sie zuhause an!\\tCC-BY 2.0 (France) Attribution: tatoeba.org #1730009 (CK) & #1958630 (Tamy)\\n',\n",
       " 'Calm down!\\tBeruhige dich!\\tCC-BY 2.0 (France) Attribution: tatoeba.org #1123494 (Scott) & #351642 (MUIRIEL)\\n',\n",
       " 'Calm down.\\tBeruhige dich!\\tCC-BY 2.0 (France) Attribution: tatoeba.org #435575 (CK) & #351642 (MUIRIEL)\\n',\n",
       " 'Calm down.\\tBeruhigen Sie sich!\\tCC-BY 2.0 (France) Attribution: tatoeba.org #435575 (CK) & #1215459 (PeterR)\\n',\n",
       " 'Calm down.\\tBeruhigen Sie sich.\\tCC-BY 2.0 (France) Attribution: tatoeba.org #435575 (CK) & #1970681 (Zaghawa)\\n',\n",
       " 'Can I eat?\\tKann ich essen?\\tCC-BY 2.0 (France) Attribution: tatoeba.org #1564744 (kerbear407) & #1611462 (Esperantostern)\\n',\n",
       " 'Can we go?\\tKönnen wir gehen?\\tCC-BY 2.0 (France) Attribution: tatoeba.org #2005176 (CK) & #2005278 (Manfredo)\\n',\n",
       " 'Catch Tom.\\tFang Tom!\\tCC-BY 2.0 (France) Attribution: tatoeba.org #2203856 (CK) & #2204001 (Pfirsichbaeumchen)\\n',\n",
       " 'Catch Tom.\\tFange Tom!\\tCC-BY 2.0 (France) Attribution: tatoeba.org #2203856 (CK) & #2204002 (Pfirsichbaeumchen)\\n',\n",
       " 'Catch Tom.\\tFangen Sie Tom!\\tCC-BY 2.0 (France) Attribution: tatoeba.org #2203856 (CK) & #2204003 (Pfirsichbaeumchen)\\n',\n",
       " 'Catch Tom.\\tFangt Tom!\\tCC-BY 2.0 (France) Attribution: tatoeba.org #2203856 (CK) & #2204004 (Pfirsichbaeumchen)\\n',\n",
       " 'Chill out.\\tEntspann dich.\\tCC-BY 2.0 (France) Attribution: tatoeba.org #2951593 (CK) & #3172031 (dinkel_girl)\\n',\n",
       " 'Come back.\\tKomm wieder!\\tCC-BY 2.0 (France) Attribution: tatoeba.org #1972611 (CK) & #3040044 (roeschter)\\n',\n",
       " 'Come here.\\tKomm hierher.\\tCC-BY 2.0 (France) Attribution: tatoeba.org #39944 (Swift) & #358403 (MUIRIEL)\\n',\n",
       " 'Come here.\\tKomm her!\\tCC-BY 2.0 (France) Attribution: tatoeba.org #39944 (Swift) & #915223 (Esperantostern)\\n',\n",
       " 'Come home.\\tKommt heim!\\tCC-BY 2.0 (France) Attribution: tatoeba.org #413767 (Scott) & #1989265 (Alois)\\n',\n",
       " 'Come home.\\tKomm heim!\\tCC-BY 2.0 (France) Attribution: tatoeba.org #413767 (Scott) & #1989267 (Alois)\\n',\n",
       " 'Come over!\\tKomm hierher!\\tCC-BY 2.0 (France) Attribution: tatoeba.org #472477 (blay_paul) & #1430527 (Esperantostern)\\n',\n",
       " 'Come over.\\tKomm her!\\tCC-BY 2.0 (France) Attribution: tatoeba.org #1972617 (CK) & #915223 (Esperantostern)\\n',\n",
       " 'Come soon.\\tKomm bald.\\tCC-BY 2.0 (France) Attribution: tatoeba.org #1972619 (CK) & #4941630 (Hans_Adler)\\n',\n",
       " 'Come soon.\\tKommen Sie bald.\\tCC-BY 2.0 (France) Attribution: tatoeba.org #1972619 (CK) & #4941631 (Hans_Adler)\\n',\n",
       " 'Cool down.\\tBeruhige dich!\\tCC-BY 2.0 (France) Attribution: tatoeba.org #1860739 (CK) & #351642 (MUIRIEL)\\n',\n",
       " 'Did I win?\\tHabe ich gewonnen?\\tCC-BY 2.0 (France) Attribution: tatoeba.org #2005189 (CK) & #4422617 (Dokuyaku)\\n',\n",
       " 'Do it now.\\tMach es jetzt!\\tCC-BY 2.0 (France) Attribution: tatoeba.org #435763 (CK) & #784305 (Manfredo)\\n',\n",
       " 'Dogs bark.\\tHunde bellen.\\tCC-BY 2.0 (France) Attribution: tatoeba.org #1357070 (sacredceltic) & #934436 (Fingerhut)\\n',\n",
       " \"Don't ask.\\tFrag nicht.\\tCC-BY 2.0 (France) Attribution: tatoeba.org #320080 (CM) & #766800 (dima555)\\n\",\n",
       " \"Don't cry.\\tWeine nicht!\\tCC-BY 2.0 (France) Attribution: tatoeba.org #953247 (CK) & #1324274 (Pfirsichbaeumchen)\\n\",\n",
       " \"Don't cry.\\tWeint nicht.\\tCC-BY 2.0 (France) Attribution: tatoeba.org #953247 (CK) & #1324275 (al_ex_an_der)\\n\",\n",
       " \"Don't cry.\\tWeinen Sie nicht.\\tCC-BY 2.0 (France) Attribution: tatoeba.org #953247 (CK) & #1324276 (al_ex_an_der)\\n\",\n",
       " \"Don't cry.\\tWeinen Sie nicht!\\tCC-BY 2.0 (France) Attribution: tatoeba.org #953247 (CK) & #2144520 (Tamy)\\n\",\n",
       " \"Don't cry.\\tWeint nicht!\\tCC-BY 2.0 (France) Attribution: tatoeba.org #953247 (CK) & #2144521 (Tamy)\\n\",\n",
       " \"Don't die.\\tStirb nicht!\\tCC-BY 2.0 (France) Attribution: tatoeba.org #1860499 (CK) & #2109050 (Pfirsichbaeumchen)\\n\",\n",
       " \"Don't lie.\\tLüge nicht.\\tCC-BY 2.0 (France) Attribution: tatoeba.org #2111913 (CK) & #967143 (Esperantostern)\\n\",\n",
       " \"Don't run.\\tLauf nicht.\\tCC-BY 2.0 (France) Attribution: tatoeba.org #2111907 (CK) & #6643290 (Felixjp)\\n\",\n",
       " 'Excuse me.\\tEs tut mir leid.\\tCC-BY 2.0 (France) Attribution: tatoeba.org #433504 (CK) & #397871 (MikeMolto)\\n',\n",
       " 'Excuse me.\\tEntschuldigung!\\tCC-BY 2.0 (France) Attribution: tatoeba.org #433504 (CK) & #397872 (MikeMolto)\\n',\n",
       " 'Excuse me.\\tEntschuldigung.\\tCC-BY 2.0 (France) Attribution: tatoeba.org #433504 (CK) & #410211 (MUIRIEL)\\n',\n",
       " 'Excuse me.\\tEntschuldigen Sie!\\tCC-BY 2.0 (France) Attribution: tatoeba.org #433504 (CK) & #499092 (Pfirsichbaeumchen)\\n',\n",
       " 'Fantastic!\\tFantastisch!\\tCC-BY 2.0 (France) Attribution: tatoeba.org #433511 (CK) & #366461 (Wolf)\\n',\n",
       " 'Fantastic!\\tGanz toll!\\tCC-BY 2.0 (France) Attribution: tatoeba.org #433511 (CK) & #5587659 (raggione)\\n',\n",
       " 'Feel this.\\tFühl mal.\\tCC-BY 2.0 (France) Attribution: tatoeba.org #1972624 (CK) & #7277176 (Yorwba)\\n',\n",
       " 'Follow me.\\tFolge mir.\\tCC-BY 2.0 (France) Attribution: tatoeba.org #250135 (CK) & #990067 (Peanutfan)\\n',\n",
       " 'Forget it!\\tVergiss es!\\tCC-BY 2.0 (France) Attribution: tatoeba.org #1178694 (CK) & #1009327 (MUIRIEL)\\n',\n",
       " 'Forget it!\\tDaraus wird nichts.\\tCC-BY 2.0 (France) Attribution: tatoeba.org #1178694 (CK) & #2144201 (freddy1)\\n',\n",
       " 'Forget it.\\tVergiss es.\\tCC-BY 2.0 (France) Attribution: tatoeba.org #20398 (Eldad) & #916052 (Fingerhut)\\n',\n",
       " 'Forget it.\\tDas kannst du knicken.\\tCC-BY 2.0 (France) Attribution: tatoeba.org #20398 (Eldad) & #1458124 (al_ex_an_der)\\n',\n",
       " 'Go for it.\\tNur zu!\\tCC-BY 2.0 (France) Attribution: tatoeba.org #4394847 (CK) & #3331180 (brauchinet)\\n',\n",
       " 'Go for it.\\tTue es.\\tCC-BY 2.0 (France) Attribution: tatoeba.org #4394847 (CK) & #6625084 (Felixjp)\\n',\n",
       " \"Go get it.\\tHol's dir!\\tCC-BY 2.0 (France) Attribution: tatoeba.org #1972634 (CK) & #2169176 (Vortarulo)\\n\",\n",
       " 'Go inside.\\tGeh rein!\\tCC-BY 2.0 (France) Attribution: tatoeba.org #2428954 (CK) & #2431183 (Pfirsichbaeumchen)\\n',\n",
       " 'Go inside.\\tKomm rein.\\tCC-BY 2.0 (France) Attribution: tatoeba.org #2428954 (CK) & #3040106 (roeschter)\\n',\n",
       " 'Go to bed.\\tGeh schlafen!\\tCC-BY 2.0 (France) Attribution: tatoeba.org #2649250 (CK) & #662117 (stefz)\\n',\n",
       " 'Go to bed.\\tGeh ins Bett!\\tCC-BY 2.0 (France) Attribution: tatoeba.org #2649250 (CK) & #2436846 (Pfirsichbaeumchen)\\n',\n",
       " 'Go to bed.\\tGeht ins Bett!\\tCC-BY 2.0 (France) Attribution: tatoeba.org #2649250 (CK) & #2657189 (Pfirsichbaeumchen)\\n',\n",
       " 'Go to bed.\\tLegt euch schlafen!\\tCC-BY 2.0 (France) Attribution: tatoeba.org #2649250 (CK) & #2657190 (Pfirsichbaeumchen)\\n',\n",
       " 'Hands off.\\tHände weg!\\tCC-BY 2.0 (France) Attribution: tatoeba.org #268620 (CM) & #1814451 (Tamy)\\n',\n",
       " 'Have some.\\tNimm dir davon.\\tCC-BY 2.0 (France) Attribution: tatoeba.org #2111823 (CK) & #4942814 (Hans_Adler)\\n',\n",
       " 'Have some.\\tNehmen Sie davon.\\tCC-BY 2.0 (France) Attribution: tatoeba.org #2111823 (CK) & #4942816 (Hans_Adler)\\n',\n",
       " 'He is ill.\\tEr ist krank.\\tCC-BY 2.0 (France) Attribution: tatoeba.org #371409 (saeb) & #450240 (al_ex_an_der)\\n',\n",
       " 'He is old.\\tEr ist alt.\\tCC-BY 2.0 (France) Attribution: tatoeba.org #302334 (CK) & #364435 (Wolf)\\n',\n",
       " 'He smiled.\\tEr lächelte.\\tCC-BY 2.0 (France) Attribution: tatoeba.org #1320015 (Eldad) & #7712483 (wolfgangth)\\n',\n",
       " \"He's a DJ.\\tEr ist DJ.\\tCC-BY 2.0 (France) Attribution: tatoeba.org #1383444 (CK) & #1386432 (al_ex_an_der)\\n\",\n",
       " \"He's a DJ.\\tEr ist Plattenaufleger.\\tCC-BY 2.0 (France) Attribution: tatoeba.org #1383444 (CK) & #1833392 (Pfirsichbaeumchen)\\n\",\n",
       " \"He's fast.\\tEr ist schnell.\\tCC-BY 2.0 (France) Attribution: tatoeba.org #838848 (Scott) & #860311 (Esperantostern)\\n\",\n",
       " \"He's good.\\tEr ist gut.\\tCC-BY 2.0 (France) Attribution: tatoeba.org #1855193 (Spamster) & #1857848 (Pfirsichbaeumchen)\\n\",\n",
       " \"He's lazy.\\tEr ist träge.\\tCC-BY 2.0 (France) Attribution: tatoeba.org #2030108 (Spamster) & #2030506 (Pfirsichbaeumchen)\\n\",\n",
       " \"He's rich.\\tEr ist reich.\\tCC-BY 2.0 (France) Attribution: tatoeba.org #1790802 (Spamster) & #1790810 (Pfirsichbaeumchen)\\n\",\n",
       " 'Here I am.\\tHier bin ich.\\tCC-BY 2.0 (France) Attribution: tatoeba.org #1540806 (CK) & #3033800 (Pfirsichbaeumchen)\\n',\n",
       " \"Here's $5.\\tHier sind fünf Dollar.\\tCC-BY 2.0 (France) Attribution: tatoeba.org #72539 (CS) & #369772 (MUIRIEL)\\n\",\n",
       " 'Hold fire.\\tNicht schießen!\\tCC-BY 2.0 (France) Attribution: tatoeba.org #1972642 (CK) & #1684247 (Pfirsichbaeumchen)\\n',\n",
       " 'Hold this.\\tHalt das!\\tCC-BY 2.0 (France) Attribution: tatoeba.org #1972645 (CK) & #4941591 (Hans_Adler)\\n',\n",
       " 'Hold this.\\tHalt das mal.\\tCC-BY 2.0 (France) Attribution: tatoeba.org #1972645 (CK) & #4941592 (Hans_Adler)\\n',\n",
       " 'Hold this.\\tHalten Sie das!\\tCC-BY 2.0 (France) Attribution: tatoeba.org #1972645 (CK) & #4941594 (Hans_Adler)\\n',\n",
       " 'Hold this.\\tHaltet das!\\tCC-BY 2.0 (France) Attribution: tatoeba.org #1972645 (CK) & #4941596 (Hans_Adler)\\n',\n",
       " 'How awful!\\tSchrecklich!\\tCC-BY 2.0 (France) Attribution: tatoeba.org #72077 (CM) & #2940050 (Manfredo)\\n',\n",
       " 'How is it?\\tWie ist die Lage?\\tCC-BY 2.0 (France) Attribution: tatoeba.org #1487691 (marshmallowcat) & #2116023 (Pfirsichbaeumchen)\\n',\n",
       " 'How weird!\\tWie seltsam!\\tCC-BY 2.0 (France) Attribution: tatoeba.org #4462562 (CK) & #4941572 (Hans_Adler)\\n',\n",
       " 'Humor Tom.\\tLass Tom doch seinen Willen.\\tCC-BY 2.0 (France) Attribution: tatoeba.org #2203861 (CK) & #7141488 (Luiaard)\\n',\n",
       " 'Humor Tom.\\tLasst Tom doch seinen Willen.\\tCC-BY 2.0 (France) Attribution: tatoeba.org #2203861 (CK) & #7141498 (Luiaard)\\n',\n",
       " 'I am busy.\\tIch bin beschäftigt.\\tCC-BY 2.0 (France) Attribution: tatoeba.org #2425776 (bionicboy) & #351599 (MUIRIEL)\\n',\n",
       " 'I am busy.\\tIch habe zu tun.\\tCC-BY 2.0 (France) Attribution: tatoeba.org #2425776 (bionicboy) & #2624978 (Pfirsichbaeumchen)\\n',\n",
       " 'I am fine.\\tMir geht es gut.\\tCC-BY 2.0 (France) Attribution: tatoeba.org #1196240 (waeltken) & #659407 (Esperantostern)\\n',\n",
       " 'I am fine.\\tEs geht mir gut.\\tCC-BY 2.0 (France) Attribution: tatoeba.org #1196240 (waeltken) & #2705321 (Pfirsichbaeumchen)\\n',\n",
       " 'I am here.\\tIch bin hier.\\tCC-BY 2.0 (France) Attribution: tatoeba.org #2778806 (CK) & #2323643 (pne)\\n',\n",
       " 'I am okay.\\tEs geht mir gut.\\tCC-BY 2.0 (France) Attribution: tatoeba.org #376402 (saeb) & #2705321 (Pfirsichbaeumchen)\\n',\n",
       " 'I am sure.\\tIch bin sicher.\\tCC-BY 2.0 (France) Attribution: tatoeba.org #436433 (lukaszpp) & #399166 (MUIRIEL)\\n',\n",
       " 'I am tall.\\tIch bin groß.\\tCC-BY 2.0 (France) Attribution: tatoeba.org #436275 (lukaszpp) & #576296 (Pfirsichbaeumchen)\\n',\n",
       " 'I am weak.\\tIch bin schwach.\\tCC-BY 2.0 (France) Attribution: tatoeba.org #2681118 (CM) & #2205477 (Pfirsichbaeumchen)\\n',\n",
       " 'I am well.\\tMir geht es gut.\\tCC-BY 2.0 (France) Attribution: tatoeba.org #574624 (Zac2333) & #659407 (Esperantostern)\\n',\n",
       " 'I am well.\\tEs geht mir gut.\\tCC-BY 2.0 (France) Attribution: tatoeba.org #574624 (Zac2333) & #2705321 (Pfirsichbaeumchen)\\n',\n",
       " 'I can fly.\\tIch kann fliegen.\\tCC-BY 2.0 (France) Attribution: tatoeba.org #774825 (marloncori) & #782641 (Chris)\\n',\n",
       " 'I can run.\\tIch kann laufen.\\tCC-BY 2.0 (France) Attribution: tatoeba.org #1173661 (CK) & #1074395 (Esperantostern)\\n',\n",
       " 'I can run.\\tIch kann rennen.\\tCC-BY 2.0 (France) Attribution: tatoeba.org #1173661 (CK) & #1313711 (Pfirsichbaeumchen)\\n',\n",
       " 'I can ski.\\tIch kann Ski fahren.\\tCC-BY 2.0 (France) Attribution: tatoeba.org #52315 (CK) & #358380 (MUIRIEL)\\n',\n",
       " 'I can win.\\tIch kann gewinnen.\\tCC-BY 2.0 (France) Attribution: tatoeba.org #6358763 (CK) & #6400838 (Pfirsichbaeumchen)\\n',\n",
       " 'I cheated.\\tIch habe geschummelt.\\tCC-BY 2.0 (France) Attribution: tatoeba.org #5828659 (CK) & #7141500 (Luiaard)\\n',\n",
       " 'I fainted.\\tIch wurde ohnmächtig.\\tCC-BY 2.0 (France) Attribution: tatoeba.org #20364 (CK) & #407486 (MUIRIEL)\\n',\n",
       " 'I fainted.\\tIch fiel in Ohnmacht.\\tCC-BY 2.0 (France) Attribution: tatoeba.org #20364 (CK) & #428527 (MUIRIEL)\\n',\n",
       " 'I fear so.\\tIch fürchte, ja.\\tCC-BY 2.0 (France) Attribution: tatoeba.org #245257 (Zifre) & #3062837 (Pfirsichbaeumchen)\\n',\n",
       " 'I gave up.\\tIch habe aufgegeben.\\tCC-BY 2.0 (France) Attribution: tatoeba.org #2863162 (Amastan) & #6644373 (Felixjp)\\n',\n",
       " 'I gave up.\\tIch gab auf.\\tCC-BY 2.0 (France) Attribution: tatoeba.org #2863162 (Amastan) & #6644471 (Felixjp)\\n',\n",
       " 'I get you.\\tIch verstehe, was du meinst.\\tCC-BY 2.0 (France) Attribution: tatoeba.org #904789 (Trailsend) & #900088 (Esperantostern)\\n',\n",
       " 'I giggled.\\tIch kicherte.\\tCC-BY 2.0 (France) Attribution: tatoeba.org #5828665 (CK) & #6589453 (Pfirsichbaeumchen)\\n',\n",
       " 'I give in.\\tIch gebe nach.\\tCC-BY 2.0 (France) Attribution: tatoeba.org #454503 (FeuDRenais) & #6644456 (Felixjp)\\n',\n",
       " 'I give in.\\tIch füge mich.\\tCC-BY 2.0 (France) Attribution: tatoeba.org #454503 (FeuDRenais) & #6644472 (Felixjp)\\n',\n",
       " 'I got mad.\\tIch wurde wütend.\\tCC-BY 2.0 (France) Attribution: tatoeba.org #2245795 (CK) & #2393716 (Pfirsichbaeumchen)\\n',\n",
       " 'I got mad.\\tIch wurde böse.\\tCC-BY 2.0 (France) Attribution: tatoeba.org #2245795 (CK) & #6842893 (Pfirsichbaeumchen)\\n',\n",
       " 'I had fun.\\tIch hatte Spaß.\\tCC-BY 2.0 (France) Attribution: tatoeba.org #2245851 (CK) & #2999883 (pne)\\n',\n",
       " 'I had fun.\\tIch habe mich amüsiert.\\tCC-BY 2.0 (France) Attribution: tatoeba.org #2245851 (CK) & #3464420 (Zaghawa)\\n',\n",
       " 'I hit Tom.\\tIch habe Tom geschlagen.\\tCC-BY 2.0 (France) Attribution: tatoeba.org #2235723 (CK) & #5245285 (christian42)\\n',\n",
       " 'I hope so.\\tDas hoffe ich.\\tCC-BY 2.0 (France) Attribution: tatoeba.org #51142 (CK) & #340885 (MUIRIEL)\\n',\n",
       " 'I hope so.\\tIch hoffe es.\\tCC-BY 2.0 (France) Attribution: tatoeba.org #51142 (CK) & #759593 (Bellinger)\\n',\n",
       " 'I hung up.\\tIch habe aufgelegt.\\tCC-BY 2.0 (France) Attribution: tatoeba.org #7768432 (OmkarM) & #2201887 (Esperantostern)\\n',\n",
       " 'I knew it.\\tIch wusste es.\\tCC-BY 2.0 (France) Attribution: tatoeba.org #1209117 (CK) & #2030483 (Pfirsichbaeumchen)\\n',\n",
       " 'I knew it.\\tIch wusste das.\\tCC-BY 2.0 (France) Attribution: tatoeba.org #1209117 (CK) & #3879112 (raggione)\\n',\n",
       " 'I laughed.\\tIch lachte.\\tCC-BY 2.0 (France) Attribution: tatoeba.org #258713 (CK) & #547385 (Espi)\\n',\n",
       " 'I like it.\\tDas gefällt mir.\\tCC-BY 2.0 (France) Attribution: tatoeba.org #1520245 (ABChessel) & #1358067 (Manfredo)\\n',\n",
       " 'I lost it.\\tIch habe ihn verloren.\\tCC-BY 2.0 (France) Attribution: tatoeba.org #2245956 (CK) & #7253037 (raggione)\\n',\n",
       " 'I love it!\\tIch liebe es!\\tCC-BY 2.0 (France) Attribution: tatoeba.org #1132072 (CK) & #6644199 (Felixjp)\\n',\n",
       " 'I love it.\\tIch liebe es.\\tCC-BY 2.0 (France) Attribution: tatoeba.org #3812708 (robbieheslop) & #6644198 (Felixjp)\\n',\n",
       " 'I made it.\\tIch habe es gemacht.\\tCC-BY 2.0 (France) Attribution: tatoeba.org #5828672 (CK) & #700384 (Alois)\\n',\n",
       " 'I made it.\\tIch habe es geschafft.\\tCC-BY 2.0 (France) Attribution: tatoeba.org #5828672 (CK) & #1223697 (BraveSentry)\\n',\n",
       " 'I may win.\\tVielleicht gewinne ich.\\tCC-BY 2.0 (France) Attribution: tatoeba.org #6358757 (CK) & #6400839 (Pfirsichbaeumchen)\\n',\n",
       " 'I mean it!\\tIch meine es so!\\tCC-BY 2.0 (France) Attribution: tatoeba.org #322125 (jakov) & #657092 (samueldora)\\n',\n",
       " 'I mean it!\\tIch meine es ernst!\\tCC-BY 2.0 (France) Attribution: tatoeba.org #322125 (jakov) & #2997934 (pne)\\n',\n",
       " 'I mean it.\\tIch meine es ernst.\\tCC-BY 2.0 (France) Attribution: tatoeba.org #250804 (CK) & #1768662 (Pfirsichbaeumchen)\\n',\n",
       " 'I mean it.\\tEs ist ernst gemeint von mir.\\tCC-BY 2.0 (France) Attribution: tatoeba.org #250804 (CK) & #1806646 (Tamy)\\n',\n",
       " 'I met Tom.\\tIch habe Tom getroffen.\\tCC-BY 2.0 (France) Attribution: tatoeba.org #6196260 (CK) & #3753519 (Zaghawa)\\n',\n",
       " 'I met Tom.\\tIch traf Tom.\\tCC-BY 2.0 (France) Attribution: tatoeba.org #6196260 (CK) & #7592174 (wolfgangth)\\n',\n",
       " 'I met Tom.\\tIch bin Tom begegnet.\\tCC-BY 2.0 (France) Attribution: tatoeba.org #6196260 (CK) & #7592175 (wolfgangth)\\n',\n",
       " 'I met him.\\tIch habe ihn getroffen.\\tCC-BY 2.0 (France) Attribution: tatoeba.org #2771581 (CK) & #3172032 (dinkel_girl)\\n',\n",
       " 'I miss it.\\tIch vermisse es.\\tCC-BY 2.0 (France) Attribution: tatoeba.org #1337519 (CK) & #6625839 (Felixjp)\\n',\n",
       " 'I miss it.\\tEs fehlt mir.\\tCC-BY 2.0 (France) Attribution: tatoeba.org #1337519 (CK) & #6627179 (raggione)\\n',\n",
       " \"I promise.\\tIch versprech's.\\tCC-BY 2.0 (France) Attribution: tatoeba.org #2111800 (CK) & #2159648 (Vortarulo)\\n\",\n",
       " 'I promise.\\tIch verspreche es.\\tCC-BY 2.0 (France) Attribution: tatoeba.org #2111800 (CK) & #2159649 (Vortarulo)\\n',\n",
       " 'I said no.\\tIch sagte nein.\\tCC-BY 2.0 (France) Attribution: tatoeba.org #2405884 (CK) & #6625855 (Felixjp)\\n',\n",
       " 'I saw Tom.\\tIch habe Tom gesehen.\\tCC-BY 2.0 (France) Attribution: tatoeba.org #2244569 (CK) & #3753516 (Zaghawa)\\n',\n",
       " 'I saw him.\\tIch habe ihn gesehen.\\tCC-BY 2.0 (France) Attribution: tatoeba.org #519963 (darinmex) & #359066 (MUIRIEL)\\n',\n",
       " 'I saw one.\\tIch habe einen gesehen.\\tCC-BY 2.0 (France) Attribution: tatoeba.org #3168241 (CK) & #6611552 (Felixjp)\\n',\n",
       " 'I saw you.\\tIch habe dich gesehen.\\tCC-BY 2.0 (France) Attribution: tatoeba.org #2247402 (CK) & #2527672 (Pfirsichbaeumchen)\\n',\n",
       " 'I saw you.\\tIch habe euch gesehen.\\tCC-BY 2.0 (France) Attribution: tatoeba.org #2247402 (CK) & #2527674 (Pfirsichbaeumchen)\\n',\n",
       " 'I see Tom.\\tIch sehe Tom.\\tCC-BY 2.0 (France) Attribution: tatoeba.org #2235735 (CK) & #2559901 (Pfirsichbaeumchen)\\n',\n",
       " 'I took it.\\tIch nahm es.\\tCC-BY 2.0 (France) Attribution: tatoeba.org #5828682 (CK) & #6643992 (Felixjp)\\n',\n",
       " 'I took it.\\tIch habe es genommen.\\tCC-BY 2.0 (France) Attribution: tatoeba.org #5828682 (CK) & #6644347 (Felixjp)\\n',\n",
       " 'I want it.\\tIch möchte es.\\tCC-BY 2.0 (France) Attribution: tatoeba.org #1148324 (cntrational) & #2296175 (Tamy)\\n',\n",
       " 'I want it.\\tIch will es.\\tCC-BY 2.0 (France) Attribution: tatoeba.org #1148324 (cntrational) & #6625772 (Felixjp)\\n',\n",
       " 'I was new.\\tIch war neu.\\tCC-BY 2.0 (France) Attribution: tatoeba.org #3822076 (CK) & #6611521 (Felixjp)\\n',\n",
       " 'I was shy.\\tIch war schüchtern.\\tCC-BY 2.0 (France) Attribution: tatoeba.org #4695537 (Hybrid) & #4701236 (dannylow)\\n',\n",
       " 'I will go.\\tIch gehe.\\tCC-BY 2.0 (France) Attribution: tatoeba.org #2247573 (CK) & #439366 (Robroy)\\n',\n",
       " 'I will go.\\tIch werde gehen.\\tCC-BY 2.0 (France) Attribution: tatoeba.org #2247573 (CK) & #4454179 (rocco_granata)\\n',\n",
       " 'I woke up.\\tIch wachte auf.\\tCC-BY 2.0 (France) Attribution: tatoeba.org #3818967 (CK) & #3940126 (Tamy)\\n',\n",
       " \"I'd do it.\\tIch würde es tun.\\tCC-BY 2.0 (France) Attribution: tatoeba.org #3823427 (CK) & #6625751 (Felixjp)\\n\",\n",
       " \"I'd leave.\\tIch würde gehen.\\tCC-BY 2.0 (France) Attribution: tatoeba.org #2111789 (CK) & #7374105 (Yorwba)\\n\",\n",
       " \"I'll call.\\tIch werde anrufen.\\tCC-BY 2.0 (France) Attribution: tatoeba.org #2111787 (CK) & #7277213 (Yorwba)\\n\",\n",
       " \"I'll come.\\tIch werde kommen.\\tCC-BY 2.0 (France) Attribution: tatoeba.org #5828685 (CK) & #4776708 (Germic)\\n\",\n",
       " \"I'll cook.\\tIch werde kochen.\\tCC-BY 2.0 (France) Attribution: tatoeba.org #2111783 (CK) & #6643577 (Felixjp)\\n\",\n",
       " \"I'll help.\\tIch helfe.\\tCC-BY 2.0 (France) Attribution: tatoeba.org #2549831 (CK) & #3303103 (Pfirsichbaeumchen)\\n\",\n",
       " \"I'll live.\\tIch werde leben.\\tCC-BY 2.0 (France) Attribution: tatoeba.org #2123627 (CK) & #2139191 (Pfirsichbaeumchen)\\n\",\n",
       " \"I'll obey.\\tIch werde gehorchen.\\tCC-BY 2.0 (France) Attribution: tatoeba.org #2111777 (CK) & #7451628 (Yorwba)\\n\",\n",
       " \"I'll quit.\\tIch werde aufhören.\\tCC-BY 2.0 (France) Attribution: tatoeba.org #2111775 (CK) & #6643669 (Felixjp)\\n\",\n",
       " \"I'll quit.\\tIch werde abbrechen.\\tCC-BY 2.0 (France) Attribution: tatoeba.org #2111775 (CK) & #7374104 (Yorwba)\\n\",\n",
       " \"I'll sing.\\tIch werde singen.\\tCC-BY 2.0 (France) Attribution: tatoeba.org #2111772 (CK) & #3766290 (Jens_Odo)\\n\",\n",
       " \"I'll stay.\\tIch werde bleiben.\\tCC-BY 2.0 (France) Attribution: tatoeba.org #2111769 (CK) & #2980574 (pne)\\n\",\n",
       " \"I'll stop.\\tIch werde aufhören.\\tCC-BY 2.0 (France) Attribution: tatoeba.org #2878242 (CK) & #6643669 (Felixjp)\\n\",\n",
       " \"I'll talk.\\tIch werde reden.\\tCC-BY 2.0 (France) Attribution: tatoeba.org #2878243 (CK) & #7281091 (Yorwba)\\n\",\n",
       " \"I'll wait.\\tIch werde warten.\\tCC-BY 2.0 (France) Attribution: tatoeba.org #2111766 (CK) & #2982909 (pne)\\n\",\n",
       " \"I'll walk.\\tIch gehe zu Fuß.\\tCC-BY 2.0 (France) Attribution: tatoeba.org #2111765 (CK) & #182037 (MUIRIEL)\\n\",\n",
       " \"I'm a man.\\tIch bin ein Mann.\\tCC-BY 2.0 (France) Attribution: tatoeba.org #580774 (FeuDRenais) & #139166 (MUIRIEL)\\n\",\n",
       " \"I'm angry.\\tIch bin sauer.\\tCC-BY 2.0 (France) Attribution: tatoeba.org #507444 (callmath) & #4333608 (Wuzzy)\\n\",\n",
       " \"I'm awake.\\tIch bin wach.\\tCC-BY 2.0 (France) Attribution: tatoeba.org #323761 (CK) & #1313714 (Pfirsichbaeumchen)\\n\",\n",
       " \"I'm blind.\\tIch bin blind.\\tCC-BY 2.0 (France) Attribution: tatoeba.org #2111753 (CK) & #7277209 (Yorwba)\\n\",\n",
       " \"I'm bored.\\tIch bin gelangweilt.\\tCC-BY 2.0 (France) Attribution: tatoeba.org #431539 (Clavain) & #520026 (Espi)\\n\",\n",
       " \"I'm bored.\\tMir ist langweilig.\\tCC-BY 2.0 (France) Attribution: tatoeba.org #431539 (Clavain) & #534038 (joha2)\\n\",\n",
       " \"I'm broke.\\tIch bin knapp bei Kasse.\\tCC-BY 2.0 (France) Attribution: tatoeba.org #18547 (CK) & #368545 (xtofu80)\\n\",\n",
       " \"I'm broke.\\tIch bin pleite.\\tCC-BY 2.0 (France) Attribution: tatoeba.org #18547 (CK) & #450464 (al_ex_an_der)\\n\",\n",
       " \"I'm cured.\\tIch bin geheilt.\\tCC-BY 2.0 (France) Attribution: tatoeba.org #2283727 (CK) & #7463705 (Yorwba)\\n\",\n",
       " \"I'm drunk.\\tIch bin betrunken.\\tCC-BY 2.0 (France) Attribution: tatoeba.org #958784 (FeuDRenais) & #370902 (xtofu80)\\n\",\n",
       " \"I'm drunk.\\tIch bin blau.\\tCC-BY 2.0 (France) Attribution: tatoeba.org #958784 (FeuDRenais) & #940616 (Hans07)\\n\",\n",
       " \"I'm dying.\\tIch werde bald sterben.\\tCC-BY 2.0 (France) Attribution: tatoeba.org #2051764 (Shishir) & #3836805 (Pfirsichbaeumchen)\\n\",\n",
       " \"I'm early.\\tIch bin früh dran.\\tCC-BY 2.0 (France) Attribution: tatoeba.org #2111737 (CK) & #7374081 (Yorwba)\\n\",\n",
       " \"I'm first.\\tIch bin Erster.\\tCC-BY 2.0 (France) Attribution: tatoeba.org #2202863 (CK) & #7451335 (Yorwba)\\n\",\n",
       " \"I'm first.\\tIch bin Erste.\\tCC-BY 2.0 (France) Attribution: tatoeba.org #2202863 (CK) & #7451337 (Yorwba)\\n\",\n",
       " \"I'm going.\\tIch gehe jetzt.\\tCC-BY 2.0 (France) Attribution: tatoeba.org #495219 (adjusting) & #360920 (MUIRIEL)\\n\",\n",
       " \"I'm happy.\\tIch bin glücklich.\\tCC-BY 2.0 (France) Attribution: tatoeba.org #1872056 (Eldad) & #626253 (kolonjano)\\n\",\n",
       " \"I'm happy.\\tIch bin froh.\\tCC-BY 2.0 (France) Attribution: tatoeba.org #1872056 (Eldad) & #1657039 (Esperantostern)\\n\",\n",
       " \"I'm lying.\\tIch lüge.\\tCC-BY 2.0 (France) Attribution: tatoeba.org #2111712 (CK) & #7369981 (Yorwba)\\n\",\n",
       " \"I'm needy.\\tIch bin bedürftig.\\tCC-BY 2.0 (France) Attribution: tatoeba.org #2203101 (CK) & #7451368 (Yorwba)\\n\",\n",
       " \"I'm obese.\\tIch bin fett.\\tCC-BY 2.0 (France) Attribution: tatoeba.org #3330257 (CK) & #1137134 (Esperantostern)\\n\",\n",
       " \"I'm ready!\\tIch bin soweit!\\tCC-BY 2.0 (France) Attribution: tatoeba.org #2123619 (CK) & #2139202 (Pfirsichbaeumchen)\\n\",\n",
       " \"I'm ready.\\tIch bin soweit.\\tCC-BY 2.0 (France) Attribution: tatoeba.org #1891110 (CK) & #2153181 (Pfirsichbaeumchen)\\n\",\n",
       " \"I'm ready.\\tIch bin so weit.\\tCC-BY 2.0 (France) Attribution: tatoeba.org #1891110 (CK) & #7372546 (raggione)\\n\",\n",
       " \"I'm right.\\tIch habe recht.\\tCC-BY 2.0 (France) Attribution: tatoeba.org #321343 (CK) & #801040 (jakov)\\n\",\n",
       " \"I'm right.\\tIch habe Recht.\\tCC-BY 2.0 (France) Attribution: tatoeba.org #321343 (CK) & #817440 (jakov)\\n\",\n",
       " \"I'm sober.\\tIch bin nüchtern.\\tCC-BY 2.0 (France) Attribution: tatoeba.org #2361904 (CK) & #3068308 (Pfirsichbaeumchen)\\n\",\n",
       " \"I'm sorry.\\tEs tut mir leid.\\tCC-BY 2.0 (France) Attribution: tatoeba.org #38387 (CK) & #397871 (MikeMolto)\\n\",\n",
       " \"I'm sorry.\\tEntschuldigung!\\tCC-BY 2.0 (France) Attribution: tatoeba.org #38387 (CK) & #397872 (MikeMolto)\\n\",\n",
       " \"I'm stuck.\\tIch stecke fest.\\tCC-BY 2.0 (France) Attribution: tatoeba.org #2203412 (CK) & #7413404 (Yorwba)\\n\",\n",
       " \"I'm tired.\\tIch bin müde!\\tCC-BY 2.0 (France) Attribution: tatoeba.org #1705 (brauliobezerra) & #372642 (MUIRIEL)\\n\",\n",
       " \"I'm tired.\\tIch bin müde.\\tCC-BY 2.0 (France) Attribution: tatoeba.org #1705 (brauliobezerra) & #459131 (Espi)\\n\",\n",
       " \"I'm tough.\\tIch bin zäh.\\tCC-BY 2.0 (France) Attribution: tatoeba.org #2203467 (CK) & #7413439 (Yorwba)\\n\",\n",
       " \"I'm upset.\\tIch bin verärgert.\\tCC-BY 2.0 (France) Attribution: tatoeba.org #2203558 (CK) & #2205500 (Pfirsichbaeumchen)\\n\",\n",
       " \"I'm upset.\\tIch bin bestürzt.\\tCC-BY 2.0 (France) Attribution: tatoeba.org #2203558 (CK) & #4019285 (raggione)\\n\",\n",
       " \"I'm yours.\\tIch gehöre dir.\\tCC-BY 2.0 (France) Attribution: tatoeba.org #2111665 (CK) & #6625985 (Felixjp)\\n\",\n",
       " \"I've lost.\\tIch habe verloren.\\tCC-BY 2.0 (France) Attribution: tatoeba.org #1126967 (CK) & #4659717 (AC)\\n\",\n",
       " 'Ignore it.\\tBeachte es gar nicht!\\tCC-BY 2.0 (France) Attribution: tatoeba.org #2649249 (CK) & #2657185 (Pfirsichbaeumchen)\\n',\n",
       " 'Ignore it.\\tBeachten Sie es gar nicht!\\tCC-BY 2.0 (France) Attribution: tatoeba.org #2649249 (CK) & #2657186 (Pfirsichbaeumchen)\\n',\n",
       " 'Is Tom OK?\\tIst Tom okay?\\tCC-BY 2.0 (France) Attribution: tatoeba.org #2244627 (CK) & #6625709 (Felixjp)\\n',\n",
       " 'Is Tom in?\\tIst Tom da?\\tCC-BY 2.0 (France) Attribution: tatoeba.org #2244609 (CK) & #3049564 (pne)\\n',\n",
       " 'Is he Tom?\\tIst er Tom?\\tCC-BY 2.0 (France) Attribution: tatoeba.org #6196259 (CK) & #6625724 (Felixjp)\\n',\n",
       " 'Is it bad?\\tIst es schlimm?\\tCC-BY 2.0 (France) Attribution: tatoeba.org #1665 (CK) & #470 (MUIRIEL)\\n',\n",
       " 'Is it far?\\tIst das weit?\\tCC-BY 2.0 (France) Attribution: tatoeba.org #1308427 (CK) & #2078166 (Manfredo)\\n',\n",
       " 'Is it hot?\\tIst es heiß?\\tCC-BY 2.0 (France) Attribution: tatoeba.org #456027 (lukaszpp) & #5363181 (RandomUsername)\\n',\n",
       " 'Is it new?\\tIst es neu?\\tCC-BY 2.0 (France) Attribution: tatoeba.org #1910886 (Zaghawa) & #1910884 (Zaghawa)\\n',\n",
       " 'It burned.\\tEs brannte.\\tCC-BY 2.0 (France) Attribution: tatoeba.org #3825991 (CK) & #4942971 (Hans_Adler)\\n',\n",
       " 'It burned.\\tEs verbrannte.\\tCC-BY 2.0 (France) Attribution: tatoeba.org #3825991 (CK) & #4942972 (Hans_Adler)\\n',\n",
       " 'It snowed.\\tEs hat geschneit.\\tCC-BY 2.0 (France) Attribution: tatoeba.org #1181168 (Eldad) & #1552159 (Zaghawa)\\n',\n",
       " 'It worked.\\tEs hat geklappt.\\tCC-BY 2.0 (France) Attribution: tatoeba.org #2283736 (CK) & #4514430 (raggione)\\n',\n",
       " 'It worked.\\tDas hat funktioniert.\\tCC-BY 2.0 (France) Attribution: tatoeba.org #2283736 (CK) & #7749134 (raggione)\\n',\n",
       " \"It's 3:30.\\tEs ist halb vier.\\tCC-BY 2.0 (France) Attribution: tatoeba.org #456175 (lukaszpp) & #1304700 (Manfredo)\\n\",\n",
       " \"It's 7:45.\\tEs ist 7:45 Uhr.\\tCC-BY 2.0 (France) Attribution: tatoeba.org #2762784 (CK) & #1602317 (Sudajaengi)\\n\",\n",
       " \"It's 7:45.\\tEs ist sieben Uhr fünfundvierzig.\\tCC-BY 2.0 (France) Attribution: tatoeba.org #2762784 (CK) & #3172228 (dinkel_girl)\\n\",\n",
       " \"It's 8:30.\\tEs ist 8:30 Uhr.\\tCC-BY 2.0 (France) Attribution: tatoeba.org #4636492 (CK) & #6626120 (Felixjp)\\n\",\n",
       " \"It's 9:15.\\tEs ist Viertel nach neun.\\tCC-BY 2.0 (France) Attribution: tatoeba.org #2762785 (CK) & #344350 (MUIRIEL)\\n\",\n",
       " \"It's 9:15.\\tEs ist 9.15\\xa0Uhr.\\tCC-BY 2.0 (France) Attribution: tatoeba.org #2762785 (CK) & #2763078 (Pfirsichbaeumchen)\\n\",\n",
       " \"It's a TV.\\tDas ist ein Fernseher.\\tCC-BY 2.0 (France) Attribution: tatoeba.org #42698 (CK) & #356174 (MUIRIEL)\\n\",\n",
       " \"It's cold.\\tEs ist kalt.\\tCC-BY 2.0 (France) Attribution: tatoeba.org #1813 (CK) & #623 (MUIRIEL)\\n\",\n",
       " \"It's cool.\\tEs ist kühl.\\tCC-BY 2.0 (France) Attribution: tatoeba.org #2123609 (CK) & #2157495 (Pfirsichbaeumchen)\\n\",\n",
       " \"It's dark.\\tEs ist dunkel.\\tCC-BY 2.0 (France) Attribution: tatoeba.org #2123608 (CK) & #2139215 (Pfirsichbaeumchen)\\n\",\n",
       " \"It's easy.\\tDas ist einfach.\\tCC-BY 2.0 (France) Attribution: tatoeba.org #561962 (CK) & #564337 (MUIRIEL)\\n\",\n",
       " \"It's easy.\\tEs ist einfach.\\tCC-BY 2.0 (France) Attribution: tatoeba.org #561962 (CK) & #1313715 (Pfirsichbaeumchen)\\n\",\n",
       " \"It's fair.\\tEs ist gerecht.\\tCC-BY 2.0 (France) Attribution: tatoeba.org #2123604 (CK) & #7413206 (Yorwba)\\n\",\n",
       " \"It's free.\\tEs ist frei.\\tCC-BY 2.0 (France) Attribution: tatoeba.org #435782 (CK) & #1210584 (Espi)\\n\",\n",
       " \"It's hard.\\tDas ist hart.\\tCC-BY 2.0 (France) Attribution: tatoeba.org #1568774 (Sharaf78) & #1584301 (Esperantostern)\\n\",\n",
       " \"It's here.\\tEs ist hier.\\tCC-BY 2.0 (France) Attribution: tatoeba.org #2123598 (CK) & #5284084 (bonny37)\\n\",\n",
       " \"It's late.\\tEs ist spät.\\tCC-BY 2.0 (France) Attribution: tatoeba.org #31195 (CK) & #338438 (Sprachprofi)\\n\",\n",
       " \"It's mine.\\tEs ist meins.\\tCC-BY 2.0 (France) Attribution: tatoeba.org #2123592 (CK) & #5331782 (bonny37)\\n\",\n",
       " \"It's mine.\\tSie gehört mir.\\tCC-BY 2.0 (France) Attribution: tatoeba.org #2123592 (CK) & #7975639 (raggione)\\n\",\n",
       " \"It's mine.\\tEr gehört mir.\\tCC-BY 2.0 (France) Attribution: tatoeba.org #2123592 (CK) & #7975642 (raggione)\\n\",\n",
       " \"It's okay.\\tEs ist in Ordnung.\\tCC-BY 2.0 (France) Attribution: tatoeba.org #2123589 (CK) & #6626109 (Felixjp)\\n\",\n",
       " \"It's open.\\tEs ist geöffnet.\\tCC-BY 2.0 (France) Attribution: tatoeba.org #2283743 (CK) & #4750028 (bonny37)\\n\",\n",
       " \"It's ours.\\tEs ist unsers.\\tCC-BY 2.0 (France) Attribution: tatoeba.org #2123588 (CK) & #5331780 (bonny37)\\n\",\n",
       " \"It's over.\\tEs ist vorbei.\\tCC-BY 2.0 (France) Attribution: tatoeba.org #1107969 (Scott) & #8087505 (driini)\\n\",\n",
       " \"It's sand.\\tEs ist Sand.\\tCC-BY 2.0 (France) Attribution: tatoeba.org #2123581 (CK) & #7413201 (Yorwba)\\n\",\n",
       " \"It's true.\\tEs ist wahr.\\tCC-BY 2.0 (France) Attribution: tatoeba.org #54868 (CK) & #396608 (MikeMolto)\\n\",\n",
       " \"It's work.\\tEs ist Arbeit.\\tCC-BY 2.0 (France) Attribution: tatoeba.org #433520 (CK) & #547271 (Espi)\\n\",\n",
       " \"It's work.\\tDas ist meine Arbeit.\\tCC-BY 2.0 (France) Attribution: tatoeba.org #433520 (CK) & #3771311 (mauersegler)\\n\",\n",
       " 'Jump down.\\tSpring runter!\\tCC-BY 2.0 (France) Attribution: tatoeba.org #4356531 (CK) & #4356758 (pullnosemans)\\n',\n",
       " 'Keep away.\\tBleib weg.\\tCC-BY 2.0 (France) Attribution: tatoeba.org #2111655 (CK) & #4942778 (Hans_Adler)\\n',\n",
       " 'Keep away.\\tBleibt weg.\\tCC-BY 2.0 (France) Attribution: tatoeba.org #2111655 (CK) & #4942779 (Hans_Adler)\\n',\n",
       " 'Keep away.\\tBleiben Sie weg.\\tCC-BY 2.0 (France) Attribution: tatoeba.org #2111655 (CK) & #4942780 (Hans_Adler)\\n',\n",
       " 'Keep back.\\tBleiben Sie zurück.\\tCC-BY 2.0 (France) Attribution: tatoeba.org #2111654 (CK) & #4942777 (Hans_Adler)\\n',\n",
       " 'Keep cool.\\tBleib gelassen!\\tCC-BY 2.0 (France) Attribution: tatoeba.org #2111652 (CK) & #2717264 (Pfirsichbaeumchen)\\n',\n",
       " 'Keep that.\\tBehalt’s!\\tCC-BY 2.0 (France) Attribution: tatoeba.org #2111634 (CK) & #2717339 (Pfirsichbaeumchen)\\n',\n",
       " 'Keep them.\\tBehalte sie.\\tCC-BY 2.0 (France) Attribution: tatoeba.org #2111633 (CK) & #4942770 (Hans_Adler)\\n',\n",
       " 'Keep them.\\tBehalten Sie sie.\\tCC-BY 2.0 (France) Attribution: tatoeba.org #2111633 (CK) & #4942771 (Hans_Adler)\\n',\n",
       " 'Keep them.\\tBehaltet sie.\\tCC-BY 2.0 (France) Attribution: tatoeba.org #2111633 (CK) & #4942773 (Hans_Adler)\\n',\n",
       " 'Keep them.\\tBehalt sie!\\tCC-BY 2.0 (France) Attribution: tatoeba.org #2111633 (CK) & #8211339 (raggione)\\n',\n",
       " 'Keep warm.\\tHalt dich warm.\\tCC-BY 2.0 (France) Attribution: tatoeba.org #2111630 (CK) & #4942764 (Hans_Adler)\\n',\n",
       " 'Keep warm.\\tHaltet euch warm.\\tCC-BY 2.0 (France) Attribution: tatoeba.org #2111630 (CK) & #4942765 (Hans_Adler)\\n',\n",
       " 'Keep warm.\\tHalten Sie sich warm.\\tCC-BY 2.0 (France) Attribution: tatoeba.org #2111630 (CK) & #4942766 (Hans_Adler)\\n',\n",
       " 'Leave Tom.\\tVerlasse Tom.\\tCC-BY 2.0 (France) Attribution: tatoeba.org #2111626 (CK) & #4942755 (Hans_Adler)\\n',\n",
       " 'Leave Tom.\\tVerlassen Sie Tom.\\tCC-BY 2.0 (France) Attribution: tatoeba.org #2111626 (CK) & #4942756 (Hans_Adler)\\n',\n",
       " 'Leave now.\\tGeh jetzt!\\tCC-BY 2.0 (France) Attribution: tatoeba.org #52067 (CM) & #1853898 (Tamy)\\n',\n",
       " 'Leave now.\\tGeht jetzt!\\tCC-BY 2.0 (France) Attribution: tatoeba.org #52067 (CM) & #1853899 (Tamy)\\n',\n",
       " 'Let it be.\\tLass es sein.\\tCC-BY 2.0 (France) Attribution: tatoeba.org #764592 (U2FS) & #4943091 (Hans_Adler)\\n',\n",
       " 'Let it be.\\tLass es bleiben.\\tCC-BY 2.0 (France) Attribution: tatoeba.org #764592 (U2FS) & #4943092 (Hans_Adler)\\n',\n",
       " 'Let me be.\\tLass mich in Ruhe.\\tCC-BY 2.0 (France) Attribution: tatoeba.org #660426 (CM) & #358368 (MUIRIEL)\\n',\n",
       " 'Let me go!\\tLassen Sie mich gehen!\\tCC-BY 2.0 (France) Attribution: tatoeba.org #250112 (CK) & #582412 (MUIRIEL)\\n',\n",
       " 'Let me go!\\tLass mich gehen!\\tCC-BY 2.0 (France) Attribution: tatoeba.org #250112 (CK) & #838639 (Espi)\\n',\n",
       " 'Let me in.\\tLass mich herein.\\tCC-BY 2.0 (France) Attribution: tatoeba.org #277466 (CK) & #444002 (al_ex_an_der)\\n',\n",
       " 'Let us go.\\tLass uns gehen.\\tCC-BY 2.0 (France) Attribution: tatoeba.org #4945628 (_anna) & #4944498 (Hans_Adler)\\n',\n",
       " 'Let us go.\\tLassen Sie uns gehen.\\tCC-BY 2.0 (France) Attribution: tatoeba.org #4945628 (_anna) & #4944500 (Hans_Adler)\\n',\n",
       " \"Let's eat.\\tEssen wir etwas!\\tCC-BY 2.0 (France) Attribution: tatoeba.org #1830543 (CK) & #3359873 (Pfirsichbaeumchen)\\n\",\n",
       " \"Let's see.\\tSchauen wir mal.\\tCC-BY 2.0 (France) Attribution: tatoeba.org #2111618 (CK) & #640939 (samueldora)\\n\",\n",
       " \"Let's try!\\tLasst es uns versuchen!\\tCC-BY 2.0 (France) Attribution: tatoeba.org #1176908 (bart) & #3779152 (Pfirsichbaeumchen)\\n\",\n",
       " \"Let's try!\\tLass es uns versuchen!\\tCC-BY 2.0 (France) Attribution: tatoeba.org #1176908 (bart) & #3886105 (Tickler)\\n\",\n",
       " \"Let's try!\\tLass es uns probieren!\\tCC-BY 2.0 (France) Attribution: tatoeba.org #1176908 (bart) & #5349743 (RandomUsername)\\n\",\n",
       " 'Lie still.\\tLieg still und beweg dich nicht.\\tCC-BY 2.0 (France) Attribution: tatoeba.org #1839430 (CK) & #4659721 (AC)\\n',\n",
       " 'Listen up.\\tHör zu.\\tCC-BY 2.0 (France) Attribution: tatoeba.org #3171862 (CK) & #5337423 (Ganbatte94)\\n',\n",
       " 'Look back!\\tSchau nach hinten!\\tCC-BY 2.0 (France) Attribution: tatoeba.org #240166 (CK) & #631884 (BraveSentry)\\n',\n",
       " 'Look down.\\tGuck runter.\\tCC-BY 2.0 (France) Attribution: tatoeba.org #7466072 (megamanenm) & #8227480 (MisterTrouser)\\n',\n",
       " 'Look here.\\tSchau hier.\\tCC-BY 2.0 (France) Attribution: tatoeba.org #2111606 (CK) & #6643120 (Felixjp)\\n',\n",
       " 'Look here.\\tSchau her.\\tCC-BY 2.0 (France) Attribution: tatoeba.org #2111606 (CK) & #6643121 (Felixjp)\\n',\n",
       " 'Loosen it.\\tDreh es auf.\\tCC-BY 2.0 (France) Attribution: tatoeba.org #2111605 (CK) & #2204797 (Manfredo)\\n',\n",
       " 'Loosen up.\\tMach dich locker!\\tCC-BY 2.0 (France) Attribution: tatoeba.org #1845492 (CK) & #4659727 (AC)\\n',\n",
       " 'Move over.\\tRutsch mal ein Stück!\\tCC-BY 2.0 (France) Attribution: tatoeba.org #1553407 (CK) & #4659686 (AC)\\n',\n",
       " 'Nice shot!\\tGuter Schuss!\\tCC-BY 2.0 (France) Attribution: tatoeba.org #1857550 (Spamster) & #1857783 (Pfirsichbaeumchen)\\n',\n",
       " 'Of course!\\tNatürlich!\\tCC-BY 2.0 (France) Attribution: tatoeba.org #433730 (CK) & #778367 (BraveSentry)\\n',\n",
       " 'Of course!\\tSelbstverständlich!\\tCC-BY 2.0 (France) Attribution: tatoeba.org #433730 (CK) & #778368 (BraveSentry)\\n',\n",
       " 'Of course!\\tAuf jeden Fall!\\tCC-BY 2.0 (France) Attribution: tatoeba.org #433730 (CK) & #778369 (BraveSentry)\\n',\n",
       " 'Of course!\\tNa klar!\\tCC-BY 2.0 (France) Attribution: tatoeba.org #433730 (CK) & #778370 (BraveSentry)\\n',\n",
       " 'Of course!\\tAber sicher doch!\\tCC-BY 2.0 (France) Attribution: tatoeba.org #433730 (CK) & #778371 (BraveSentry)\\n',\n",
       " 'Please go.\\tBitte geh.\\tCC-BY 2.0 (France) Attribution: tatoeba.org #3171854 (CK) & #4942934 (Hans_Adler)\\n',\n",
       " 'Please go.\\tBitte geht.\\tCC-BY 2.0 (France) Attribution: tatoeba.org #3171854 (CK) & #4942935 (Hans_Adler)\\n',\n",
       " 'Please go.\\tBitte gehen Sie.\\tCC-BY 2.0 (France) Attribution: tatoeba.org #3171854 (CK) & #4942937 (Hans_Adler)\\n',\n",
       " 'Put it on.\\tSetz es auf.\\tCC-BY 2.0 (France) Attribution: tatoeba.org #1231218 (fengli) & #4943236 (Hans_Adler)\\n',\n",
       " 'Put it on.\\tTu es drauf.\\tCC-BY 2.0 (France) Attribution: tatoeba.org #1231218 (fengli) & #4943237 (Hans_Adler)\\n',\n",
       " 'Put it on.\\tSetz ihn auf.\\tCC-BY 2.0 (France) Attribution: tatoeba.org #1231218 (fengli) & #4943980 (raggione)\\n',\n",
       " 'Put it on.\\tZieh sie an.\\tCC-BY 2.0 (France) Attribution: tatoeba.org #1231218 (fengli) & #4943982 (raggione)\\n',\n",
       " 'Put it on.\\tSetz sie auf.\\tCC-BY 2.0 (France) Attribution: tatoeba.org #1231218 (fengli) & #4943984 (raggione)\\n',\n",
       " 'Put it on.\\tSetz sie dir auf.\\tCC-BY 2.0 (France) Attribution: tatoeba.org #1231218 (fengli) & #4943986 (raggione)\\n',\n",
       " 'Put it on.\\tZieh sie dir an.\\tCC-BY 2.0 (France) Attribution: tatoeba.org #1231218 (fengli) & #4943988 (raggione)\\n',\n",
       " 'Put it on.\\tSetz ihn dir auf.\\tCC-BY 2.0 (France) Attribution: tatoeba.org #1231218 (fengli) & #4943990 (raggione)\\n',\n",
       " 'Read this.\\tLies das hier.\\tCC-BY 2.0 (France) Attribution: tatoeba.org #1098659 (cntrational) & #1099265 (MUIRIEL)\\n',\n",
       " 'Say \"aah.\"\\tSag „Ah!“\\tCC-BY 2.0 (France) Attribution: tatoeba.org #2852741 (CK) & #5897067 (Pfirsichbaeumchen)\\n',\n",
       " 'Say hello.\\tSag Hallo.\\tCC-BY 2.0 (France) Attribution: tatoeba.org #2111563 (CK) & #6625643 (Felixjp)\\n',\n",
       " 'See below.\\tSiehe unten.\\tCC-BY 2.0 (France) Attribution: tatoeba.org #25377 (CM) & #5255405 (Pfirsichbaeumchen)\\n',\n",
       " 'Seize him!\\tFass ihn!\\tCC-BY 2.0 (France) Attribution: tatoeba.org #2111558 (CK) & #7369937 (Yorwba)\\n',\n",
       " 'Seize him!\\tFassen Sie ihn!\\tCC-BY 2.0 (France) Attribution: tatoeba.org #2111558 (CK) & #7369939 (Yorwba)\\n',\n",
       " 'Seize him!\\tFasst ihn!\\tCC-BY 2.0 (France) Attribution: tatoeba.org #2111558 (CK) & #7369941 (Yorwba)\\n',\n",
       " 'Seriously?\\tWirklich?\\tCC-BY 2.0 (France) Attribution: tatoeba.org #1327057 (bmaynard87) & #373376 (lilygilder)\\n',\n",
       " 'Seriously?\\tEcht?\\tCC-BY 2.0 (France) Attribution: tatoeba.org #1327057 (bmaynard87) & #808911 (Manfredo)\\n',\n",
       " 'Seriously?\\tErnsthaft?\\tCC-BY 2.0 (France) Attribution: tatoeba.org #1327057 (bmaynard87) & #937378 (Sudajaengi)\\n',\n",
       " 'Seriously?\\tIm Ernst?\\tCC-BY 2.0 (France) Attribution: tatoeba.org #1327057 (bmaynard87) & #937379 (Sudajaengi)\\n',\n",
       " 'She cried.\\tSie weinte.\\tCC-BY 2.0 (France) Attribution: tatoeba.org #313193 (CK) & #851915 (Esperantostern)\\n',\n",
       " \"She tried.\\tSie hat's versucht.\\tCC-BY 2.0 (France) Attribution: tatoeba.org #309976 (CK) & #924662 (Sudajaengi)\\n\",\n",
       " 'She walks.\\tSie geht.\\tCC-BY 2.0 (France) Attribution: tatoeba.org #316925 (CK) & #6402227 (Hannivar)\\n',\n",
       " 'She walks.\\tSie geht zu Fuß.\\tCC-BY 2.0 (France) Attribution: tatoeba.org #316925 (CK) & #8067950 (driini)\\n',\n",
       " 'Sign here.\\tUnterschreibe hier.\\tCC-BY 2.0 (France) Attribution: tatoeba.org #1526517 (pauldhunt) & #949228 (Sudajaengi)\\n',\n",
       " 'Sign here.\\tUnterschreiben Sie hier.\\tCC-BY 2.0 (France) Attribution: tatoeba.org #1526517 (pauldhunt) & #3033622 (pne)\\n',\n",
       " 'Sign this.\\tUnterschreiben Sie das.\\tCC-BY 2.0 (France) Attribution: tatoeba.org #2111555 (CK) & #4941778 (Hans_Adler)\\n',\n",
       " 'Sign this.\\tUnterschreib das.\\tCC-BY 2.0 (France) Attribution: tatoeba.org #2111555 (CK) & #4941779 (Hans_Adler)\\n',\n",
       " 'Sit by me.\\tSetz dich zu mir!\\tCC-BY 2.0 (France) Attribution: tatoeba.org #2249967 (CK) & #2696100 (Pfirsichbaeumchen)\\n',\n",
       " 'Sit still.\\tSitz still.\\tCC-BY 2.0 (France) Attribution: tatoeba.org #2111552 (CK) & #4941776 (Hans_Adler)\\n',\n",
       " 'Sit still.\\tSitzen Sie still.\\tCC-BY 2.0 (France) Attribution: tatoeba.org #2111552 (CK) & #4941777 (Hans_Adler)\\n',\n",
       " 'Sit there.\\tSetz dich dorthin.\\tCC-BY 2.0 (France) Attribution: tatoeba.org #2111551 (CK) & #1519500 (Espi)\\n',\n",
       " 'Sit tight.\\tHarre aus!\\tCC-BY 2.0 (France) Attribution: tatoeba.org #40196 (CM) & #1012489 (Manfredo)\\n',\n",
       " 'Start now.\\tBeginnen Sie jetzt.\\tCC-BY 2.0 (France) Attribution: tatoeba.org #2111523 (CK) & #4941757 (Hans_Adler)\\n',\n",
       " 'Start now.\\tFang jetzt an.\\tCC-BY 2.0 (France) Attribution: tatoeba.org #2111523 (CK) & #4941759 (Hans_Adler)\\n',\n",
       " 'Stay away.\\tBleiben Sie weg.\\tCC-BY 2.0 (France) Attribution: tatoeba.org #2111516 (CK) & #4942780 (Hans_Adler)\\n',\n",
       " 'Stay back.\\tBleibt zurück!\\tCC-BY 2.0 (France) Attribution: tatoeba.org #1850251 (CK) & #4659728 (AC)\\n',\n",
       " 'Stay calm.\\tBleib ruhig.\\tCC-BY 2.0 (France) Attribution: tatoeba.org #788304 (hrin) & #788437 (BraveSentry)\\n',\n",
       " 'Stay calm.\\tBleiben Sie ruhig.\\tCC-BY 2.0 (France) Attribution: tatoeba.org #788304 (hrin) & #1076801 (MUIRIEL)\\n',\n",
       " 'Stay cool.\\tBleib ruhig.\\tCC-BY 2.0 (France) Attribution: tatoeba.org #2111514 (CK) & #788437 (BraveSentry)\\n',\n",
       " 'Stay cool.\\tBleibt ruhig.\\tCC-BY 2.0 (France) Attribution: tatoeba.org #2111514 (CK) & #1076800 (MUIRIEL)\\n',\n",
       " 'Stay cool.\\tBleiben Sie ruhig.\\tCC-BY 2.0 (France) Attribution: tatoeba.org #2111514 (CK) & #1076801 (MUIRIEL)\\n',\n",
       " 'Stay cool.\\tBleib cool.\\tCC-BY 2.0 (France) Attribution: tatoeba.org #2111514 (CK) & #2398607 (Zaghawa)\\n',\n",
       " 'Stay cool.\\tBleibt cool.\\tCC-BY 2.0 (France) Attribution: tatoeba.org #2111514 (CK) & #2398612 (Zaghawa)\\n',\n",
       " 'Stay down!\\tBleib unten!\\tCC-BY 2.0 (France) Attribution: tatoeba.org #1777435 (Spamster) & #4659720 (AC)\\n',\n",
       " 'Stay down.\\tBleib unten!\\tCC-BY 2.0 (France) Attribution: tatoeba.org #1841182 (CK) & #4659720 (AC)\\n',\n",
       " 'Stay thin.\\tBleiben Sie dünn.\\tCC-BY 2.0 (France) Attribution: tatoeba.org #275014 (CM) & #4825509 (rumpelstilzchen)\\n',\n",
       " 'Stay thin.\\tBleib dünn.\\tCC-BY 2.0 (France) Attribution: tatoeba.org #275014 (CM) & #4825510 (rumpelstilzchen)\\n',\n",
       " 'Step back.\\tTritt zurück!\\tCC-BY 2.0 (France) Attribution: tatoeba.org #1553393 (CK) & #1688328 (Pfirsichbaeumchen)\\n',\n",
       " 'Stop here.\\tHör hier auf.\\tCC-BY 2.0 (France) Attribution: tatoeba.org #2111500 (CK) & #6644773 (Felixjp)\\n',\n",
       " 'Stop here.\\tHalte hier.\\tCC-BY 2.0 (France) Attribution: tatoeba.org #2111500 (CK) & #6644867 (Felixjp)\\n',\n",
       " 'Stop here.\\tHalte hier an.\\tCC-BY 2.0 (France) Attribution: tatoeba.org #2111500 (CK) & #6644868 (Felixjp)\\n',\n",
       " 'Stop here.\\tBleib hier stehen.\\tCC-BY 2.0 (France) Attribution: tatoeba.org #2111500 (CK) & #6645723 (Felixjp)\\n',\n",
       " 'Stop that!\\tLass das!\\tCC-BY 2.0 (France) Attribution: tatoeba.org #651592 (orbpic) & #440925 (Espi)\\n',\n",
       " 'Stop that!\\tHör auf damit!\\tCC-BY 2.0 (France) Attribution: tatoeba.org #651592 (orbpic) & #579371 (kroko)\\n',\n",
       " 'Stop that!\\tHör mal auf!\\tCC-BY 2.0 (France) Attribution: tatoeba.org #651592 (orbpic) & #1238664 (al_ex_an_der)\\n',\n",
       " 'Stop that!\\tHör mal auf damit!\\tCC-BY 2.0 (France) Attribution: tatoeba.org #651592 (orbpic) & #1238665 (al_ex_an_der)\\n',\n",
       " 'Stop them.\\tStopp sie.\\tCC-BY 2.0 (France) Attribution: tatoeba.org #2111491 (CK) & #5480547 (RandomUsername)\\n',\n",
       " 'Stop them.\\tStoppen Sie sie.\\tCC-BY 2.0 (France) Attribution: tatoeba.org #2111491 (CK) & #5480548 (RandomUsername)\\n',\n",
       " 'Take care!\\tPass auf dich auf!\\tCC-BY 2.0 (France) Attribution: tatoeba.org #324861 (CK) & #1239683 (Esperantostern)\\n',\n",
       " \"Take care.\\tMach's gut.\\tCC-BY 2.0 (France) Attribution: tatoeba.org #20362 (sacredceltic) & #2024754 (Vortarulo)\\n\",\n",
       " 'Take mine.\\tNimm meins.\\tCC-BY 2.0 (France) Attribution: tatoeba.org #2111483 (CK) & #4942662 (Hans_Adler)\\n',\n",
       " 'Take mine.\\tNimm meine.\\tCC-BY 2.0 (France) Attribution: tatoeba.org #2111483 (CK) & #4942663 (Hans_Adler)\\n',\n",
       " 'Take mine.\\tNimm meinen.\\tCC-BY 2.0 (France) Attribution: tatoeba.org #2111483 (CK) & #4942664 (Hans_Adler)\\n',\n",
       " 'Take mine.\\tNehmt meins.\\tCC-BY 2.0 (France) Attribution: tatoeba.org #2111483 (CK) & #4942666 (Hans_Adler)\\n',\n",
       " 'Take mine.\\tNehmt meine.\\tCC-BY 2.0 (France) Attribution: tatoeba.org #2111483 (CK) & #4942667 (Hans_Adler)\\n',\n",
       " 'Take mine.\\tNehmt meinen.\\tCC-BY 2.0 (France) Attribution: tatoeba.org #2111483 (CK) & #4942668 (Hans_Adler)\\n',\n",
       " 'Take mine.\\tNehmen Sie meins.\\tCC-BY 2.0 (France) Attribution: tatoeba.org #2111483 (CK) & #4942669 (Hans_Adler)\\n',\n",
       " 'Take mine.\\tNehmen Sie meinen.\\tCC-BY 2.0 (France) Attribution: tatoeba.org #2111483 (CK) & #4942670 (Hans_Adler)\\n',\n",
       " 'Take mine.\\tNehmen Sie meine.\\tCC-BY 2.0 (France) Attribution: tatoeba.org #2111483 (CK) & #4942671 (Hans_Adler)\\n',\n",
       " 'Take over.\\tÜbernimm du.\\tCC-BY 2.0 (France) Attribution: tatoeba.org #2111482 (CK) & #4942658 (Hans_Adler)\\n',\n",
       " 'Take over.\\tÜbernehmt ihr.\\tCC-BY 2.0 (France) Attribution: tatoeba.org #2111482 (CK) & #4942659 (Hans_Adler)\\n',\n",
       " 'Take over.\\tÜbernehmen Sie.\\tCC-BY 2.0 (France) Attribution: tatoeba.org #2111482 (CK) & #4942660 (Hans_Adler)\\n',\n",
       " 'Take this.\\tNimm das.\\tCC-BY 2.0 (France) Attribution: tatoeba.org #2111479 (CK) & #6643157 (Felixjp)\\n',\n",
       " 'Thank you.\\tDanke!\\tCC-BY 2.0 (France) Attribution: tatoeba.org #1876041 (Asma) & #397489 (MUIRIEL)\\n',\n",
       " \"That's OK.\\tDas ist o.k.\\tCC-BY 2.0 (France) Attribution: tatoeba.org #2111418 (CK) & #6626295 (Felixjp)\\n\",\n",
       " \"That's it.\\tDas war's.\\tCC-BY 2.0 (France) Attribution: tatoeba.org #270709 (mamat) & #2318384 (al_ex_an_der)\\n\",\n",
       " \"That's me.\\tDas bin ich!\\tCC-BY 2.0 (France) Attribution: tatoeba.org #1250350 (CK) & #3811992 (Trebalor)\\n\",\n",
       " \"That's me.\\tIch bin jetzt fertig.\\tCC-BY 2.0 (France) Attribution: tatoeba.org #1250350 (CK) & #4380940 (raggione)\\n\",\n",
       " 'Then what?\\tNa und?\\tCC-BY 2.0 (France) Attribution: tatoeba.org #53035 (CM) & #142 (MUIRIEL)\\n',\n",
       " 'They fell.\\tSie fielen.\\tCC-BY 2.0 (France) Attribution: tatoeba.org #2111371 (CK) & #4941728 (Hans_Adler)\\n',\n",
       " 'They fell.\\tSie stürzten.\\tCC-BY 2.0 (France) Attribution: tatoeba.org #2111371 (CK) & #4941730 (Hans_Adler)\\n',\n",
       " 'They lied.\\tSie haben gelogen.\\tCC-BY 2.0 (France) Attribution: tatoeba.org #2111367 (CK) & #2169441 (Vortarulo)\\n',\n",
       " 'They lost.\\tSie verloren.\\tCC-BY 2.0 (France) Attribution: tatoeba.org #2111366 (CK) & #4941721 (Hans_Adler)\\n',\n",
       " 'They lost.\\tSie haben verloren.\\tCC-BY 2.0 (France) Attribution: tatoeba.org #2111366 (CK) & #4941722 (Hans_Adler)\\n',\n",
       " 'They swam.\\tSie schwammen.\\tCC-BY 2.0 (France) Attribution: tatoeba.org #1963280 (CK) & #503688 (MUIRIEL)\\n',\n",
       " \"Time's up.\\tDie Zeit ist um.\\tCC-BY 2.0 (France) Attribution: tatoeba.org #6611926 (Eccles17) & #2435909 (Pfirsichbaeumchen)\\n\",\n",
       " 'Tom bowed.\\tTom verneigte sich.\\tCC-BY 2.0 (France) Attribution: tatoeba.org #3721790 (CM) & #4942943 (Hans_Adler)\\n',\n",
       " 'Tom cried.\\tTom weinte.\\tCC-BY 2.0 (France) Attribution: tatoeba.org #2111190 (CK) & #1692967 (Pfirsichbaeumchen)\\n',\n",
       " 'Tom dozed.\\tTom döste.\\tCC-BY 2.0 (France) Attribution: tatoeba.org #2111188 (CK) & #4941663 (Hans_Adler)\\n',\n",
       " 'Tom drove.\\tTom fuhr.\\tCC-BY 2.0 (France) Attribution: tatoeba.org #2111185 (CK) & #4941662 (Hans_Adler)\\n',\n",
       " 'Tom froze.\\tTom erstarrte.\\tCC-BY 2.0 (France) Attribution: tatoeba.org #7367727 (CM) & #7592277 (wolfgangth)\\n',\n",
       " 'Tom is OK.\\tTom ist in Ordnung.\\tCC-BY 2.0 (France) Attribution: tatoeba.org #2203136 (CK) & #6625484 (Felixjp)\\n',\n",
       " 'Tom is in.\\tTom ist hier.\\tCC-BY 2.0 (France) Attribution: tatoeba.org #2236731 (CK) & #4422550 (Dokuyaku)\\n',\n",
       " 'Tom is up.\\tTom ist auf.\\tCC-BY 2.0 (France) Attribution: tatoeba.org #2236907 (CK) & #6625513 (Felixjp)\\n',\n",
       " 'Tom knits.\\tTom strickt.\\tCC-BY 2.0 (France) Attribution: tatoeba.org #2111161 (CK) & #5480530 (RandomUsername)\\n',\n",
       " 'Tom knows.\\tTom weiß es.\\tCC-BY 2.0 (France) Attribution: tatoeba.org #2111160 (CK) & #3933843 (Zaghawa)\\n',\n",
       " 'Tom moved.\\tTom bewegte sich.\\tCC-BY 2.0 (France) Attribution: tatoeba.org #2005181 (CK) & #4941603 (Hans_Adler)\\n',\n",
       " 'Tom slept.\\tTom schlief.\\tCC-BY 2.0 (France) Attribution: tatoeba.org #6645778 (CK) & #1691611 (Pfirsichbaeumchen)\\n',\n",
       " 'Tom spoke.\\tTom hat gesprochen.\\tCC-BY 2.0 (France) Attribution: tatoeba.org #2203808 (CK) & #2203989 (Pfirsichbaeumchen)\\n',\n",
       " 'Tom spoke.\\tTom sprach.\\tCC-BY 2.0 (France) Attribution: tatoeba.org #2203808 (CK) & #2203990 (Pfirsichbaeumchen)\\n',\n",
       " 'Tom swims.\\tTom schwimmt.\\tCC-BY 2.0 (France) Attribution: tatoeba.org #5190879 (CK) & #1713285 (Pfirsichbaeumchen)\\n',\n",
       " 'Tom tried.\\tTom versuchte es.\\tCC-BY 2.0 (France) Attribution: tatoeba.org #2203870 (CK) & #2203951 (Pfirsichbaeumchen)\\n',\n",
       " 'Tom tried.\\tTom hat es versucht.\\tCC-BY 2.0 (France) Attribution: tatoeba.org #2203870 (CK) & #2203952 (Pfirsichbaeumchen)\\n',\n",
       " 'Tom tries.\\tTom versucht es.\\tCC-BY 2.0 (France) Attribution: tatoeba.org #2203871 (CK) & #2203953 (Pfirsichbaeumchen)\\n',\n",
       " 'Tom voted.\\tTom hat gewählt.\\tCC-BY 2.0 (France) Attribution: tatoeba.org #2203886 (CK) & #2203941 (Pfirsichbaeumchen)\\n',\n",
       " 'Tom voted.\\tTom wählte.\\tCC-BY 2.0 (France) Attribution: tatoeba.org #2203886 (CK) & #2203942 (Pfirsichbaeumchen)\\n',\n",
       " 'Tom walks.\\tTom geht zu Fuß.\\tCC-BY 2.0 (France) Attribution: tatoeba.org #2203890 (CK) & #2203910 (Pfirsichbaeumchen)\\n',\n",
       " 'Tom waved.\\tTom winkte.\\tCC-BY 2.0 (France) Attribution: tatoeba.org #2005185 (CK) & #4941616 (Hans_Adler)\\n',\n",
       " 'Tom works.\\tTom arbeitet.\\tCC-BY 2.0 (France) Attribution: tatoeba.org #2203899 (CK) & #2203905 (Pfirsichbaeumchen)\\n',\n",
       " \"Tom'll go.\\tTom wird gehen.\\tCC-BY 2.0 (France) Attribution: tatoeba.org #2123528 (CK) & #2204233 (Pfirsichbaeumchen)\\n\",\n",
       " \"Tom's fat.\\tTom ist dick.\\tCC-BY 2.0 (France) Attribution: tatoeba.org #2107510 (CK) & #2122773 (Pfirsichbaeumchen)\\n\",\n",
       " \"Tom's mad.\\tTom ist wütend.\\tCC-BY 2.0 (France) Attribution: tatoeba.org #2107565 (CK) & #2007986 (Manfredo)\\n\",\n",
       " \"Tom's sad.\\tTom ist traurig.\\tCC-BY 2.0 (France) Attribution: tatoeba.org #2107586 (CK) & #5830115 (Pfirsichbaeumchen)\\n\",\n",
       " \"Tom's shy.\\tTom ist schüchtern.\\tCC-BY 2.0 (France) Attribution: tatoeba.org #2107593 (CK) & #5830116 (Pfirsichbaeumchen)\\n\",\n",
       " 'Trust Tom.\\tVertraue Tom!\\tCC-BY 2.0 (France) Attribution: tatoeba.org #2203867 (CK) & #2203984 (Pfirsichbaeumchen)\\n',\n",
       " 'Trust Tom.\\tVertrauen Sie Tom!\\tCC-BY 2.0 (France) Attribution: tatoeba.org #2203867 (CK) & #2203985 (Pfirsichbaeumchen)\\n',\n",
       " 'Trust Tom.\\tVertraut Tom!\\tCC-BY 2.0 (France) Attribution: tatoeba.org #2203867 (CK) & #2203986 (Pfirsichbaeumchen)\\n',\n",
       " 'Try again.\\tVersuchen Sie es noch einmal.\\tCC-BY 2.0 (France) Attribution: tatoeba.org #31723 (CK) & #563346 (MUIRIEL)\\n',\n",
       " 'Try again.\\tVersuch es noch einmal.\\tCC-BY 2.0 (France) Attribution: tatoeba.org #31723 (CK) & #1111038 (MUIRIEL)\\n',\n",
       " 'Try again.\\tVersucht es noch mal.\\tCC-BY 2.0 (France) Attribution: tatoeba.org #31723 (CK) & #1313716 (Esperantostern)\\n',\n",
       " 'Try it on.\\tProbier es an!\\tCC-BY 2.0 (France) Attribution: tatoeba.org #2253793 (CK) & #2929895 (raggione)\\n',\n",
       " 'Try it on.\\tProbier sie an!\\tCC-BY 2.0 (France) Attribution: tatoeba.org #2253793 (CK) & #2929896 (raggione)\\n',\n",
       " 'Try it on.\\tProbier ihn an!\\tCC-BY 2.0 (France) Attribution: tatoeba.org #2253793 (CK) & #2929897 (raggione)\\n',\n",
       " 'Unlock it.\\tSchließ es auf.\\tCC-BY 2.0 (France) Attribution: tatoeba.org #5350432 (mailohilohi) & #8227462 (MisterTrouser)\\n',\n",
       " 'Unlock it.\\tEntsperr es.\\tCC-BY 2.0 (France) Attribution: tatoeba.org #5350432 (mailohilohi) & #8227463 (MisterTrouser)\\n',\n",
       " 'Watch Tom.\\tSieh Tom zu!\\tCC-BY 2.0 (France) Attribution: tatoeba.org #2203868 (CK) & #2203945 (Pfirsichbaeumchen)\\n',\n",
       " 'Watch Tom.\\tSehen Sie Tom zu!\\tCC-BY 2.0 (France) Attribution: tatoeba.org #2203868 (CK) & #2203949 (Pfirsichbaeumchen)\\n',\n",
       " 'Watch Tom.\\tSeht Tom zu!\\tCC-BY 2.0 (France) Attribution: tatoeba.org #2203868 (CK) & #2203950 (Pfirsichbaeumchen)\\n',\n",
       " 'We agreed.\\tWir waren uns einig.\\tCC-BY 2.0 (France) Attribution: tatoeba.org #4054938 (CK) & #4942978 (Hans_Adler)\\n',\n",
       " 'We agreed.\\tWir stimmten zu.\\tCC-BY 2.0 (France) Attribution: tatoeba.org #4054938 (CK) & #4942979 (Hans_Adler)\\n',\n",
       " 'We can go.\\tWir können gehen.\\tCC-BY 2.0 (France) Attribution: tatoeba.org #2241036 (CK) & #3065754 (freddy1)\\n',\n",
       " 'We saw it.\\tWir sahen es.\\tCC-BY 2.0 (France) Attribution: tatoeba.org #2241438 (CK) & #6047639 (wolfgangth)\\n',\n",
       " 'We saw it.\\tWir haben es gesehen.\\tCC-BY 2.0 (France) Attribution: tatoeba.org #2241438 (CK) & #6047640 (wolfgangth)\\n',\n",
       " 'We talked.\\tWir haben uns unterhalten.\\tCC-BY 2.0 (France) Attribution: tatoeba.org #2107672 (CK) & #2122758 (Pfirsichbaeumchen)\\n',\n",
       " 'We waited.\\tWir warteten.\\tCC-BY 2.0 (France) Attribution: tatoeba.org #2107674 (CK) & #4941644 (Hans_Adler)\\n',\n",
       " \"We'll see.\\tWir werden sehen.\\tCC-BY 2.0 (France) Attribution: tatoeba.org #2203796 (CK) & #932897 (Fingerhut)\\n\",\n",
       " \"We'll try.\\tWir werden es versuchen.\\tCC-BY 2.0 (France) Attribution: tatoeba.org #2107682 (CK) & #2110886 (Esperantostern)\\n\",\n",
       " \"We'll win.\\tWir werden siegen.\\tCC-BY 2.0 (France) Attribution: tatoeba.org #2107684 (CK) & #2110893 (Esperantostern)\\n\",\n",
       " \"We're hot.\\tUns ist heiß.\\tCC-BY 2.0 (France) Attribution: tatoeba.org #464466 (lukaszpp) & #989624 (MUIRIEL)\\n\",\n",
       " \"We're sad.\\tWir sind traurig.\\tCC-BY 2.0 (France) Attribution: tatoeba.org #2203308 (CK) & #7457188 (Luiaard)\\n\",\n",
       " \"We're shy.\\tWir sind schüchtern.\\tCC-BY 2.0 (France) Attribution: tatoeba.org #2203343 (CK) & #7289957 (Yorwba)\\n\",\n",
       " \"We've won!\\tWir haben gewonnen!\\tCC-BY 2.0 (France) Attribution: tatoeba.org #2123500 (CK) & #2818822 (Zaghawa)\\n\",\n",
       " \"What's on?\\tWas ist los?\\tCC-BY 2.0 (France) Attribution: tatoeba.org #621482 (Manfredo) & #360789 (Wolf)\\n\",\n",
       " \"What's up?\\tWas ist los?\\tCC-BY 2.0 (France) Attribution: tatoeba.org #25164 (CK) & #360789 (Wolf)\\n\",\n",
       " \"What's up?\\tNa, wie geht's?\\tCC-BY 2.0 (France) Attribution: tatoeba.org #25164 (CK) & #726120 (Esperantostern)\\n\",\n",
       " 'Who cares?\\tWen kümmert’s?\\tCC-BY 2.0 (France) Attribution: tatoeba.org #40434 (CK) & #2205356 (Pfirsichbaeumchen)\\n',\n",
       " 'Who cares?\\tWen kümmert das schon?\\tCC-BY 2.0 (France) Attribution: tatoeba.org #40434 (CK) & #2205357 (Pfirsichbaeumchen)\\n',\n",
       " 'Who is he?\\tWer ist er?\\tCC-BY 2.0 (France) Attribution: tatoeba.org #347331 (sysko) & #362092 (Wolf)\\n',\n",
       " 'Who spoke?\\tWer hat gesprochen?\\tCC-BY 2.0 (France) Attribution: tatoeba.org #2203807 (CK) & #2203987 (Pfirsichbaeumchen)\\n',\n",
       " 'Who spoke?\\tWer sprach?\\tCC-BY 2.0 (France) Attribution: tatoeba.org #2203807 (CK) & #2203988 (Pfirsichbaeumchen)\\n',\n",
       " 'Who stood?\\tWer stand?\\tCC-BY 2.0 (France) Attribution: tatoeba.org #2203827 (CK) & #7466812 (Yorwba)\\n',\n",
       " \"Who'll go?\\tWer geht?\\tCC-BY 2.0 (France) Attribution: tatoeba.org #2203689 (CK) & #2204229 (Pfirsichbaeumchen)\\n\",\n",
       " \"Who'll go?\\tWer wird gehen?\\tCC-BY 2.0 (France) Attribution: tatoeba.org #2203689 (CK) & #2204232 (Pfirsichbaeumchen)\\n\",\n",
       " \"Who's she?\\tWer ist sie?\\tCC-BY 2.0 (France) Attribution: tatoeba.org #2203797 (CK) & #357121 (MUIRIEL)\\n\",\n",
       " 'Wonderful!\\tWunderbar!\\tCC-BY 2.0 (France) Attribution: tatoeba.org #433510 (CK) & #5362918 (RandomUsername)\\n',\n",
       " 'Wonderful!\\tHerrlich!\\tCC-BY 2.0 (France) Attribution: tatoeba.org #433510 (CK) & #5362921 (RandomUsername)\\n',\n",
       " 'Write Tom.\\tSchreibe Tom!\\tCC-BY 2.0 (France) Attribution: tatoeba.org #2203869 (CK) & #2203946 (Pfirsichbaeumchen)\\n',\n",
       " 'Write Tom.\\tSchreiben Sie Tom!\\tCC-BY 2.0 (France) Attribution: tatoeba.org #2203869 (CK) & #2203947 (Pfirsichbaeumchen)\\n',\n",
       " 'Write Tom.\\tSchreibt Tom!\\tCC-BY 2.0 (France) Attribution: tatoeba.org #2203869 (CK) & #2203948 (Pfirsichbaeumchen)\\n',\n",
       " 'You drive.\\tDu fährst.\\tCC-BY 2.0 (France) Attribution: tatoeba.org #2549830 (CK) & #4942924 (Hans_Adler)\\n',\n",
       " 'You drive.\\tSie fahren.\\tCC-BY 2.0 (France) Attribution: tatoeba.org #2549830 (CK) & #4942925 (Hans_Adler)\\n',\n",
       " 'You idiot!\\tDu Idiot!\\tCC-BY 2.0 (France) Attribution: tatoeba.org #418475 (Scott) & #438913 (xtofu80)\\n',\n",
       " 'You start.\\tDu fängst an.\\tCC-BY 2.0 (France) Attribution: tatoeba.org #2549829 (CK) & #4606355 (kroko)\\n',\n",
       " 'You stink.\\tDu stinkst.\\tCC-BY 2.0 (France) Attribution: tatoeba.org #4834656 (shekitten) & #4942993 (Hans_Adler)\\n',\n",
       " 'You stink.\\tIhr stinkt.\\tCC-BY 2.0 (France) Attribution: tatoeba.org #4834656 (shekitten) & #4942994 (Hans_Adler)\\n',\n",
       " 'You stink.\\tSie stinken.\\tCC-BY 2.0 (France) Attribution: tatoeba.org #4834656 (shekitten) & #4942996 (Hans_Adler)\\n',\n",
       " \"You tried.\\tDu hast's versucht.\\tCC-BY 2.0 (France) Attribution: tatoeba.org #20119 (CK) & #4659635 (AC)\\n\",\n",
       " \"You're OK.\\tDu bist okay.\\tCC-BY 2.0 (France) Attribution: tatoeba.org #2203137 (CK) & #6626190 (Felixjp)\\n\",\n",
       " 'Aim higher.\\tZiel höher!\\tCC-BY 2.0 (France) Attribution: tatoeba.org #2264156 (sharptoothed) & #7466822 (Yorwba)\\n',\n",
       " 'Aim higher.\\tZielen Sie höher!\\tCC-BY 2.0 (France) Attribution: tatoeba.org #2264156 (sharptoothed) & #7466823 (Yorwba)\\n',\n",
       " 'Aim higher.\\tZielt höher!\\tCC-BY 2.0 (France) Attribution: tatoeba.org #2264156 (sharptoothed) & #7466824 (Yorwba)\\n',\n",
       " 'All aboard!\\tAlle Mann an Bord!\\tCC-BY 2.0 (France) Attribution: tatoeba.org #22121 (CM) & #4659637 (AC)\\n',\n",
       " 'Am I dying?\\tSterbe ich?\\tCC-BY 2.0 (France) Attribution: tatoeba.org #2244886 (CK) & #7451506 (Yorwba)\\n',\n",
       " 'Am I early?\\tBin ich früh dran?\\tCC-BY 2.0 (France) Attribution: tatoeba.org #2244887 (CK) & #7451507 (Yorwba)\\n',\n",
       " 'Am I fired?\\tBin ich gefeuert?\\tCC-BY 2.0 (France) Attribution: tatoeba.org #2244888 (CK) & #7451509 (Yorwba)\\n',\n",
       " 'Am I hired?\\tBin ich eingestellt?\\tCC-BY 2.0 (France) Attribution: tatoeba.org #2244890 (CK) & #7451510 (Yorwba)\\n',\n",
       " 'Am I right?\\tHabe ich recht?\\tCC-BY 2.0 (France) Attribution: tatoeba.org #1934796 (Spamster) & #1935227 (Pfirsichbaeumchen)\\n',\n",
       " 'Am I right?\\tLiege ich richtig?\\tCC-BY 2.0 (France) Attribution: tatoeba.org #1934796 (Spamster) & #1935228 (Pfirsichbaeumchen)\\n',\n",
       " 'Am I weird?\\tBin ich komisch?\\tCC-BY 2.0 (France) Attribution: tatoeba.org #8101800 (Hybrid) & #8244944 (MisterTrouser)\\n',\n",
       " 'Am I wrong?\\tHab ich nicht Recht?\\tCC-BY 2.0 (France) Attribution: tatoeba.org #410779 (CK) & #357734 (MUIRIEL)\\n',\n",
       " 'Am I wrong?\\tIrre ich mich?\\tCC-BY 2.0 (France) Attribution: tatoeba.org #410779 (CK) & #556823 (cost)\\n',\n",
       " 'Answer Tom.\\tAntworte Tom!\\tCC-BY 2.0 (France) Attribution: tatoeba.org #2203854 (CK) & #2203994 (Pfirsichbaeumchen)\\n',\n",
       " 'Answer Tom.\\tAntworten Sie Tom!\\tCC-BY 2.0 (France) Attribution: tatoeba.org #2203854 (CK) & #2203995 (Pfirsichbaeumchen)\\n',\n",
       " 'Answer Tom.\\tAntwortet Tom!\\tCC-BY 2.0 (France) Attribution: tatoeba.org #2203854 (CK) & #2203996 (Pfirsichbaeumchen)\\n',\n",
       " 'Are you 18?\\tBist du 18?\\tCC-BY 2.0 (France) Attribution: tatoeba.org #4495350 (CK) & #6626383 (Felixjp)\\n',\n",
       " 'Are you OK?\\tGeht es dir gut?\\tCC-BY 2.0 (France) Attribution: tatoeba.org #953106 (CK) & #515856 (MUIRIEL)\\n',\n",
       " 'Are you OK?\\tGeht es euch gut?\\tCC-BY 2.0 (France) Attribution: tatoeba.org #953106 (CK) & #1324278 (Pfirsichbaeumchen)\\n',\n",
       " 'Are you OK?\\tGeht es Ihnen gut?\\tCC-BY 2.0 (France) Attribution: tatoeba.org #953106 (CK) & #1324279 (al_ex_an_der)\\n',\n",
       " 'Are you in?\\tBist du dabei?\\tCC-BY 2.0 (France) Attribution: tatoeba.org #2908782 (CK) & #6626373 (Felixjp)\\n',\n",
       " 'Are you up?\\tBist du auf?\\tCC-BY 2.0 (France) Attribution: tatoeba.org #1841739 (CK) & #6626382 (Felixjp)\\n',\n",
       " 'Ask anyone.\\tFrag irgendwen!\\tCC-BY 2.0 (France) Attribution: tatoeba.org #2092642 (CK) & #2265065 (Vortarulo)\\n',\n",
       " 'Ask around.\\tFrag herum.\\tCC-BY 2.0 (France) Attribution: tatoeba.org #2111967 (CK) & #7456425 (Yorwba)\\n',\n",
       " 'Ask around.\\tFragen Sie herum.\\tCC-BY 2.0 (France) Attribution: tatoeba.org #2111967 (CK) & #7456426 (Yorwba)\\n',\n",
       " 'Ask around.\\tFragt herum.\\tCC-BY 2.0 (France) Attribution: tatoeba.org #2111967 (CK) & #7456427 (Yorwba)\\n',\n",
       " 'Be careful.\\tSei vorsichtig!\\tCC-BY 2.0 (France) Attribution: tatoeba.org #1849392 (CK) & #626167 (kolonjano)\\n',\n",
       " 'Be careful.\\tSieh dich vor!\\tCC-BY 2.0 (France) Attribution: tatoeba.org #1849392 (CK) & #1849401 (al_ex_an_der)\\n',\n",
       " 'Be careful.\\tGib Obacht!\\tCC-BY 2.0 (France) Attribution: tatoeba.org #1849392 (CK) & #1849403 (al_ex_an_der)\\n',\n",
       " 'Be careful.\\tGib Acht!\\tCC-BY 2.0 (France) Attribution: tatoeba.org #1849392 (CK) & #1849415 (al_ex_an_der)\\n',\n",
       " 'Be careful.\\tGib acht!\\tCC-BY 2.0 (France) Attribution: tatoeba.org #1849392 (CK) & #1853920 (Pfirsichbaeumchen)\\n',\n",
       " 'Be patient.\\tSei geduldig!\\tCC-BY 2.0 (France) Attribution: tatoeba.org #1486456 (Spamster) & #1486457 (Pfirsichbaeumchen)\\n',\n",
       " 'Be serious.\\tBleib mal auf dem Boden der Tatsachen!\\tCC-BY 2.0 (France) Attribution: tatoeba.org #2111954 (CK) & #3033265 (pne)\\n',\n",
       " 'Birds sing.\\tVögel singen.\\tCC-BY 2.0 (France) Attribution: tatoeba.org #278174 (CK) & #547372 (Espi)\\n',\n",
       " 'Bring wine.\\tBring Wein.\\tCC-BY 2.0 (France) Attribution: tatoeba.org #2111942 (CK) & #3001031 (pne)\\n',\n",
       " 'Can I come?\\tKann ich kommen?\\tCC-BY 2.0 (France) Attribution: tatoeba.org #1428567 (CK) & #7354443 (Yorwba)\\n',\n",
       " 'Can I come?\\tDarf ich kommen?\\tCC-BY 2.0 (France) Attribution: tatoeba.org #1428567 (CK) & #7354445 (Yorwba)\\n',\n",
       " 'Can I help?\\tKann ich helfen?\\tCC-BY 2.0 (France) Attribution: tatoeba.org #266051 (CK) & #450576 (Pfirsichbaeumchen)\\n',\n",
       " ...]"
      ]
     },
     "execution_count": 3,
     "metadata": {},
     "output_type": "execute_result"
    }
   ],
   "source": [
    "# Run this cell to load the dataset\n",
    "\n",
    "NUM_EXAMPLES = 20000\n",
    "data_examples = []\n",
    "with open('./data//deu.txt', 'r', encoding='utf8') as f:\n",
    "    for line in f.readlines():\n",
    "        if len(data_examples) < NUM_EXAMPLES:\n",
    "            data_examples.append(line)\n",
    "        else:\n",
    "            break\n",
    "data_examples"
   ]
  },
  {
   "cell_type": "code",
   "execution_count": 4,
   "metadata": {
    "id": "JumLjJ631iZy"
   },
   "outputs": [],
   "source": [
    "# These functions preprocess English and German sentences\n",
    "\n",
    "def unicode_to_ascii(s):\n",
    "    return ''.join(c for c in unicodedata.normalize('NFD', s) if unicodedata.category(c) != 'Mn')\n",
    "\n",
    "def preprocess_sentence(sentence):\n",
    "    sentence = sentence.lower().strip()\n",
    "    sentence = re.sub(r\"ü\", 'ue', sentence)\n",
    "    sentence = re.sub(r\"ä\", 'ae', sentence)\n",
    "    sentence = re.sub(r\"ö\", 'oe', sentence)\n",
    "    sentence = re.sub(r'ß', 'ss', sentence)\n",
    "    \n",
    "    sentence = unicode_to_ascii(sentence)\n",
    "    sentence = re.sub(r\"([?.!,])\", r\" \\1 \", sentence)\n",
    "    sentence = re.sub(r\"[^a-z?.!,']+\", \" \", sentence)\n",
    "    sentence = re.sub(r'[\" \"]+', \" \", sentence)\n",
    "    \n",
    "    return sentence.strip()"
   ]
  },
  {
   "cell_type": "markdown",
   "metadata": {
    "id": "XFJap-TW1iZ2"
   },
   "source": [
    "#### The custom translation model\n",
    "The following is a schematic of the custom translation model architecture you will develop in this project."
   ]
  },
  {
   "cell_type": "code",
   "execution_count": 5,
   "metadata": {
    "colab": {
     "base_uri": "https://localhost:8080/",
     "height": 214
    },
    "id": "gBF1K2JN4RFJ",
    "outputId": "cf567f33-e05e-4fc1-ad25-2a706c9c7987"
   },
   "outputs": [
    {
     "data": {
      "image/png": "[encoded data removed]",
      "text/plain": [
       "<IPython.core.display.Image object>"
      ]
     },
     "execution_count": 5,
     "metadata": {},
     "output_type": "execute_result"
    }
   ],
   "source": [
    "# Run this cell to download and view a schematic diagram for the neural translation model\n",
    "\n",
    "!wget -q -O neural_translation_model.png --no-check-certificate \"https://docs.google.com/uc?export=download&id=1XsS1VlXoaEo-RbYNilJ9jcscNZvsSPmd\"\n",
    "Image(\"neural_translation_model.png\")"
   ]
  },
  {
   "cell_type": "markdown",
   "metadata": {
    "id": "0fP7P-yK4RS7"
   },
   "source": [
    "The custom model consists of an encoder RNN and a decoder RNN. The encoder takes words of an English sentence as input, and uses a pre-trained word embedding to embed the words into a 128-dimensional space. To indicate the end of the input sentence, a special end token (in the same 128-dimensional space) is passed in as an input. This token is a TensorFlow Variable that is learned in the training phase (unlike the pre-trained word embedding, which is frozen).\n",
    "\n",
    "The decoder RNN takes the internal state of the encoder network as its initial state. A start token is passed in as the first input, which is embedded using a learned German word embedding. The decoder RNN then makes a prediction for the next German word, which during inference is then passed in as the following input, and this process is repeated until the special `<end>` token is emitted from the decoder."
   ]
  },
  {
   "cell_type": "markdown",
   "metadata": {
    "id": "z70nu6_01iZ3"
   },
   "source": [
    "## 1. Text preprocessing\n",
    "* Create separate lists of English and German sentences, and preprocess them using the `preprocess_sentence` function provided for you above.\n",
    "* Add a special `\"<start>\"` and `\"<end>\"` token to the beginning and end of every German sentence.\n",
    "* Use the Tokenizer class from the `tf.keras.preprocessing.text` module to tokenize the German sentences, ensuring that no character filters are applied. _Hint: use the Tokenizer's \"filter\" keyword argument._\n",
    "* Print out at least 5 randomly chosen examples of (preprocessed) English and German sentence pairs. For the German sentence, print out the text (with start and end tokens) as well as the tokenized sequence.\n",
    "* Pad the end of the tokenized German sequences with zeros, and batch the complete set of sequences into one numpy array."
   ]
  },
  {
   "cell_type": "code",
   "execution_count": 6,
   "metadata": {
    "id": "9G20C4bk1iZ4",
    "scrolled": false
   },
   "outputs": [],
   "source": [
    "#Create separate lists of English and German sentences, and preprocess them using the `preprocess_sentence` function provided for you above.\n",
    "#Add a special `\"<start>\"` and `\"<end>\"` token to the beginning and end of every German sentence.\n",
    "\n",
    "english_sentences = []\n",
    "german_sentences = []\n",
    "\n",
    "for i in data_examples:\n",
    "    \n",
    "    # extract sentences\n",
    "    english_sentence, german_sentence = i.split(\"CC-BY 2.0\")[0].split(\"\\t\")[:2]\n",
    "    \n",
    "    # preprocess english\n",
    "    english_sentence = preprocess_sentence(english_sentence)\n",
    "    english_sentences.append(english_sentence)\n",
    "    \n",
    "    # preprocess Garman sentences\n",
    "    german_sentence = preprocess_sentence(german_sentence)\n",
    "    german_sentence = \"<start> \" + german_sentence + \" <end>\"\n",
    "    german_sentences.append(german_sentence)"
   ]
  },
  {
   "cell_type": "code",
   "execution_count": 7,
   "metadata": {
    "id": "Sxwl-1rB1iZ8"
   },
   "outputs": [],
   "source": [
    "#Use the Tokenizer class from the `tf.keras.preprocessing.text` module to tokenize the German sentences, ensuring that no character filters are applied. _Hint: use the Tokenizer's \"filter\" keyword argument._\n",
    "from tensorflow.keras.preprocessing.text import Tokenizer\n",
    "tokenizer = Tokenizer(filters = \"\")\n",
    "tokenizer.fit_on_texts(german_sentences)"
   ]
  },
  {
   "cell_type": "code",
   "execution_count": 8,
   "metadata": {
    "id": "WnIdqZFk1iaA"
   },
   "outputs": [
    {
     "name": "stdout",
     "output_type": "stream",
     "text": [
      "======== sentence No. 17750==========\n",
      "ENGLISH:\t\twho's your uncle ?\n",
      "GERMAN:\t\t\t<start> wer ist dein onkel ? <end>\n",
      "TOKENIZED GERMAN:\t[1, 43, 6, 106, 1392, 7, 2]\n",
      "\n",
      "======== sentence No. 16272==========\n",
      "ENGLISH:\t\ttom became upset .\n",
      "GERMAN:\t\t\t<start> tom wurde aufgebracht . <end>\n",
      "TOKENIZED GERMAN:\t[1, 5, 68, 1663, 3, 2]\n",
      "\n",
      "======== sentence No. 7890==========\n",
      "ENGLISH:\t\tkeep me posted .\n",
      "GERMAN:\t\t\t<start> halten sie mich auf dem laufenden . <end>\n",
      "TOKENIZED GERMAN:\t[1, 546, 8, 22, 29, 118, 1408, 3, 2]\n",
      "\n",
      "======== sentence No. 775==========\n",
      "ENGLISH:\t\tlet's try !\n",
      "GERMAN:\t\t\t<start> lass es uns probieren ! <end>\n",
      "TOKENIZED GERMAN:\t[1, 64, 10, 31, 1095, 9, 2]\n",
      "\n",
      "======== sentence No. 16540==========\n",
      "ENGLISH:\t\ttom is available .\n",
      "GERMAN:\t\t\t<start> tom ist abkoemmlich . <end>\n",
      "TOKENIZED GERMAN:\t[1, 5, 6, 5201, 3, 2]\n",
      "\n"
     ]
    }
   ],
   "source": [
    "#Print out at least 5 randomly chosen examples of (preprocessed) English and German sentence pairs. For the German sentence, print out the text (with start and end tokens) as well as the tokenized sequence.\n",
    "import random\n",
    "for i in range(5):\n",
    "    idx = random.randint(0,20000)\n",
    "    print(f\"======== sentence No. {idx}==========\")\n",
    "    print(f\"ENGLISH:\\t\\t{english_sentences[idx]}\")\n",
    "    print(f\"GERMAN:\\t\\t\\t{german_sentences[idx]}\") \n",
    "    print(f\"TOKENIZED GERMAN:\\t{tokenizer.texts_to_sequences([german_sentences[idx]])[0]}\")\n",
    "    print()"
   ]
  },
  {
   "cell_type": "code",
   "execution_count": 9,
   "metadata": {
    "id": "5UlnBdIK1iaE"
   },
   "outputs": [
    {
     "data": {
      "text/plain": [
       "array([[   1,  405,    9, ...,    0,    0,    0],\n",
       "       [   1, 3155,  663, ...,    0,    0,    0],\n",
       "       [   1,  975,    9, ...,    0,    0,    0],\n",
       "       ...,\n",
       "       [   1,    4,   15, ...,    0,    0,    0],\n",
       "       [   1,    4,   18, ...,    0,    0,    0],\n",
       "       [   1,    4,   18, ...,    0,    0,    0]], dtype=int32)"
      ]
     },
     "execution_count": 9,
     "metadata": {},
     "output_type": "execute_result"
    }
   ],
   "source": [
    "#Pad the end of the tokenized German sequences with zeros, and batch the complete set of sequences into one numpy array.\n",
    "from tensorflow.keras.preprocessing.sequence import pad_sequences\n",
    "german_sequences = tokenizer.texts_to_sequences(german_sentences)\n",
    "np_german_sequences = pad_sequences(german_sequences, padding=\"post\")\n",
    "np_german_sequences"
   ]
  },
  {
   "cell_type": "markdown",
   "metadata": {
    "id": "foL7Ihs21iaP"
   },
   "source": [
    "## 2. Prepare the data"
   ]
  },
  {
   "cell_type": "markdown",
   "metadata": {
    "id": "-9rCEE4z1iaQ"
   },
   "source": [
    "#### Load the embedding layer\n",
    "As part of the dataset preproceessing for this project, you will use a pre-trained English word embedding module from TensorFlow Hub. The URL for the module is https://tfhub.dev/google/tf2-preview/nnlm-en-dim128-with-normalization/1.\n",
    "\n",
    "This embedding takes a batch of text tokens in a 1-D tensor of strings as input. It then embeds the separate tokens into a 128-dimensional space. \n",
    "\n",
    "The code to load and test the embedding layer is provided for you below.\n",
    "\n",
    "**NB:** this model can also be used as a sentence embedding module. The module will process each token by removing punctuation and splitting on spaces. It then averages the word embeddings over a sentence to give a single embedding vector. However, we will use it only as a word embedding module, and will pass each word in the input sentence as a separate token."
   ]
  },
  {
   "cell_type": "code",
   "execution_count": 10,
   "metadata": {
    "id": "ywZgobCh1iaR"
   },
   "outputs": [],
   "source": [
    "# Load embedding module from Tensorflow Hub\n",
    "embedding_layer = hub.KerasLayer(\"https://tfhub.dev/google/tf2-preview/nnlm-en-dim128/1\", \n",
    "                                 output_shape=[128], input_shape=[], dtype=tf.string)"
   ]
  },
  {
   "cell_type": "code",
   "execution_count": 11,
   "metadata": {
    "colab": {
     "base_uri": "https://localhost:8080/"
    },
    "id": "TiY8QEDp1iaV",
    "outputId": "4876e2dd-6472-4dc9-a448-7b17743425ac"
   },
   "outputs": [
    {
     "data": {
      "text/plain": [
       "TensorShape([7, 128])"
      ]
     },
     "execution_count": 11,
     "metadata": {},
     "output_type": "execute_result"
    }
   ],
   "source": [
    "# Test the layer\n",
    "embedding_layer(tf.constant([\"these\", \"aren't\", \"the\", \"droids\", \"you're\", \"looking\", \"for\"])).shape"
   ]
  },
  {
   "cell_type": "markdown",
   "metadata": {
    "id": "KjuzXc-z1iaY"
   },
   "source": [
    "You should now prepare the training and validation Datasets.\n",
    "\n",
    "* Create a random training and validation set split of the data, reserving e.g. 20% of the data for validation (NB: each English dataset example is a single sentence string, and each German dataset example is a sequence of padded integer tokens).\n",
    "* Load the training and validation sets into a tf.data.Dataset object, passing in a tuple of English and German data for both training and validation sets.\n",
    "* Create a function to map over the datasets that splits each English sentence at spaces. Apply this function to both Dataset objects using the map method. _Hint: look at the tf.strings.split function._\n",
    "* Create a function to map over the datasets that embeds each sequence of English words using the loaded embedding layer/model. Apply this function to both Dataset objects using the map method.\n",
    "* Create a function to filter out dataset examples where the English sentence is greater than or equal to than 13 (embedded) tokens in length. Apply this function to both Dataset objects using the filter method.\n",
    "* Create a function to map over the datasets that pads each English sequence of embeddings with some distinct padding value before the sequence, so that each sequence is length 13. Apply this function to both Dataset objects using the map method. _Hint: look at the tf.pad function. You can extract a Tensor shape using tf.shape; you might also find the tf.math.maximum function useful._\n",
    "* Batch both training and validation Datasets with a batch size of 16.\n",
    "* Print the `element_spec` property for the training and validation Datasets. \n",
    "* Using the Dataset `.take(1)` method, print the shape of the English data example from the training Dataset.\n",
    "* Using the Dataset `.take(1)` method, print the German data example Tensor from the validation Dataset."
   ]
  },
  {
   "cell_type": "code",
   "execution_count": 12,
   "metadata": {
    "id": "Q-BUJOl_1iaZ"
   },
   "outputs": [],
   "source": [
    "#Create a random training and validation set split of the data, reserving e.g. 20% of the data for validation (NB: each English dataset example is a single sentence string, and each German dataset example is a sequence of padded integer tokens).\n",
    "\n",
    "def train_test_split(english_sentences, np_german_sequences, test_ratio = 0.2):\n",
    "    \n",
    "    assert(len(english_sentences) == np_german_sequences.shape[0])\n",
    "    \n",
    "    idx_list = list(range(len(english_sentences)))\n",
    "    random.seed(0)\n",
    "    random.shuffle(idx_list)\n",
    "    \n",
    "    english_sentences = [english_sentences[i] for i in idx_list]\n",
    "    np_german_sequences = np_german_sequences[idx_list]\n",
    "    \n",
    "    test_num = int(test_ratio * len(english_sentences))\n",
    "    \n",
    "    english_sentences_train = english_sentences[:test_num]\n",
    "    np_german_sequences_train = np_german_sequences[:test_num]\n",
    "    \n",
    "    english_sentences_test = english_sentences[test_num:]\n",
    "    np_german_sequences_test = np_german_sequences[test_num:]\n",
    "    \n",
    "    return (english_sentences_train,\n",
    "            np_german_sequences_train,\n",
    "            english_sentences_test,\n",
    "            np_german_sequences_test)\n",
    "    \n",
    "(english_sentences_train,\n",
    "            np_german_sequences_train,\n",
    "            english_sentences_test,\n",
    "            np_german_sequences_test) = train_test_split(english_sentences, np_german_sequences)\n",
    "    \n",
    "    "
   ]
  },
  {
   "cell_type": "code",
   "execution_count": 13,
   "metadata": {
    "id": "4w6rM8Bl1iad"
   },
   "outputs": [],
   "source": [
    "# Load the training and validation sets into a tf.data.Dataset object, passing in a tuple of English and German data for both training and validation sets.\n",
    "\n",
    "from tensorflow.data import Dataset\n",
    "\n",
    "ds_train = Dataset.from_tensor_slices((english_sentences_train,np_german_sequences_train))\n",
    "ds_test = Dataset.from_tensor_slices((english_sentences_test,np_german_sequences_test))"
   ]
  },
  {
   "cell_type": "code",
   "execution_count": 14,
   "metadata": {
    "id": "D7bn3mRs1iaj"
   },
   "outputs": [],
   "source": [
    "#Create a function to map over the datasets that splits each English sentence at spaces. Apply this function to both Dataset objects using the map method. _Hint: look at the tf.strings.split function._\n",
    "ds_train = ds_train.map(lambda x,y: (tf.strings.split(input=x, sep =\" \"),y))\n",
    "ds_test = ds_test.map(lambda x,y: (tf.strings.split(input=x, sep =\" \"),y))"
   ]
  },
  {
   "cell_type": "code",
   "execution_count": 15,
   "metadata": {
    "id": "q0Fdso381ian"
   },
   "outputs": [],
   "source": [
    "# Create a function to map over the datasets that embeds each sequence of English words using the loaded embedding layer/model. Apply this function to both Dataset objects using the map method.\n",
    "ds_train = ds_train.map(lambda x,y:(embedding_layer(x),y))\n",
    "ds_test = ds_test.map(lambda x,y:(embedding_layer(x),y))"
   ]
  },
  {
   "cell_type": "code",
   "execution_count": 16,
   "metadata": {
    "id": "bGqlxuqZ1ias"
   },
   "outputs": [],
   "source": [
    "# Create a function to filter out dataset examples where the English sentence is greater than or equal to than 13 (embedded) tokens in length. Apply this function to both Dataset objects using the filter method.\n",
    "def filter_fun_less_than_13(x,y):\n",
    "    return tf.shape(x)[0] < 13\n",
    "ds_train = ds_train.filter(filter_fun_less_than_13)\n",
    "ds_test = ds_test.filter(filter_fun_less_than_13)"
   ]
  },
  {
   "cell_type": "code",
   "execution_count": 17,
   "metadata": {
    "id": "MdqSXEoX1iav"
   },
   "outputs": [],
   "source": [
    "# Create a function to map over the datasets that pads each English sequence of embeddings with some distinct \n",
    "# padding value before the sequence, so that each sequence is length 13. Apply this function to both Dataset \n",
    "# objects using the map method. _Hint: look at the tf.pad function. You can extract a Tensor shape using \n",
    "# tf.shape;\n",
    "# you might also find the tf.math.maximum function useful._    \n",
    "def pad_english_to_len_13(x,y):\n",
    "    paddings = tf.constant([[1, 0,], [0, 0]]) * (13-tf.shape(x)[0])\n",
    "    x = tf.pad(x, paddings, \"CONSTANT\") \n",
    "    return (x,y)\n",
    "\n",
    "ds_train = ds_train.map(pad_english_to_len_13)\n",
    "ds_test = ds_test.map(pad_english_to_len_13)"
   ]
  },
  {
   "cell_type": "code",
   "execution_count": 18,
   "metadata": {},
   "outputs": [],
   "source": [
    "# Batch both training and validation Datasets with a batch size of 16.\n",
    "ds_train = ds_train.batch(16)\n",
    "ds_test = ds_test.batch(16)"
   ]
  },
  {
   "cell_type": "code",
   "execution_count": 19,
   "metadata": {},
   "outputs": [
    {
     "name": "stdout",
     "output_type": "stream",
     "text": [
      "(TensorSpec(shape=(None, None, None), dtype=tf.float32, name=None), TensorSpec(shape=(None, 14), dtype=tf.int32, name=None))\n",
      "(TensorSpec(shape=(None, None, None), dtype=tf.float32, name=None), TensorSpec(shape=(None, 14), dtype=tf.int32, name=None))\n"
     ]
    }
   ],
   "source": [
    "# * Print the `element_spec` property for the training and validation Datasets. \n",
    "print(ds_train.element_spec)\n",
    "print(ds_test.element_spec)"
   ]
  },
  {
   "cell_type": "code",
   "execution_count": 20,
   "metadata": {},
   "outputs": [
    {
     "name": "stdout",
     "output_type": "stream",
     "text": [
      "(16, 13, 128)\n",
      "(16, 13, 128)\n"
     ]
    }
   ],
   "source": [
    "# * Using the Dataset `.take(1)` method, print the shape of the English data example from the training Dataset.\n",
    "for one_english_sentence,_ in ds_train.take(1):\n",
    "    print(one_english_sentence.shape)\n",
    "\n",
    "for one_english_sentence,_ in ds_test.take(1):\n",
    "    print(one_english_sentence.shape)"
   ]
  },
  {
   "cell_type": "code",
   "execution_count": 21,
   "metadata": {},
   "outputs": [
    {
     "name": "stdout",
     "output_type": "stream",
     "text": [
      "tf.Tensor(\n",
      "[[   1    5 2005    3    2    0    0    0    0    0    0    0    0    0]\n",
      " [   1    4  133   65   75    3    2    0    0    0    0    0    0    0]\n",
      " [   1    5    6  194 1145    3    2    0    0    0    0    0    0    0]\n",
      " [   1   23    8   12  409    7    2    0    0    0    0    0    0    0]\n",
      " [   1    5  136  135  269    3    2    0    0    0    0    0    0    0]\n",
      " [   1   17   35  118   19 1041 2726    3    2    0    0    0    0    0]\n",
      " [   1   50  637 5022    3    2    0    0    0    0    0    0    0    0]\n",
      " [   1    5    6 1333    3    2    0    0    0    0    0    0    0    0]\n",
      " [   1    5   24 2935    3    2    0    0    0    0    0    0    0    0]\n",
      " [   1  158    6   49    3    2    0    0    0    0    0    0    0    0]\n",
      " [   1    5 1412    3    2    0    0    0    0    0    0    0    0    0]\n",
      " [   1   21  150   47  310  181    3    2    0    0    0    0    0    0]\n",
      " [   1    4   18    5  346    3    2    0    0    0    0    0    0    0]\n",
      " [   1   10  150   31  112  289    3    2    0    0    0    0    0    0]\n",
      " [   1   14   24  279    3    2    0    0    0    0    0    0    0    0]\n",
      " [   1   11 1369   24   21  513    3    2    0    0    0    0    0    0]], shape=(16, 14), dtype=int32)\n",
      "tf.Tensor(\n",
      "[[   1    4   39   11  347    3    2    0    0    0    0    0    0    0]\n",
      " [   1    5    6   50 2177    3    2    0    0    0    0    0    0    0]\n",
      " [   1   73   27  151   47 1884    7    2    0    0    0    0    0    0]\n",
      " [   1   13   58   31   78  699    3    2    0    0    0    0    0    0]\n",
      " [   1    4 1086   10    3    2    0    0    0    0    0    0    0    0]\n",
      " [   1    4   18   53 5667   88    3    2    0    0    0    0    0    0]\n",
      " [   1    8  911  242    3    2    0    0    0    0    0    0    0    0]\n",
      " [   1   11   79    4  149    3    2    0    0    0    0    0    0    0]\n",
      " [   1    4   15  106 1416    3    2    0    0    0    0    0    0    0]\n",
      " [   1  253   27   11   86    7    2    0    0    0    0    0    0    0]\n",
      " [   1    5   97 4587   41    3    2    0    0    0    0    0    0    0]\n",
      " [   1    5 3095   40 1734  147    3    2    0    0    0    0    0    0]\n",
      " [   1   63   23   17    3    2    0    0    0    0    0    0    0    0]\n",
      " [   1    4   94   11   12    3    2    0    0    0    0    0    0    0]\n",
      " [   1   38   16    5    7    2    0    0    0    0    0    0    0    0]\n",
      " [   1   11    6   20  167    3    2    0    0    0    0    0    0    0]], shape=(16, 14), dtype=int32)\n"
     ]
    }
   ],
   "source": [
    "# * Using the Dataset `.take(1)` method, print the German data example Tensor from the validation Dataset.\n",
    "for _, one_german_sentence in ds_train.take(1):\n",
    "    print(one_german_sentence)\n",
    "\n",
    "for _, one_german_sentence in ds_test.take(1):\n",
    "    print(one_german_sentence)"
   ]
  },
  {
   "cell_type": "markdown",
   "metadata": {
    "id": "isIYhjq01iay"
   },
   "source": [
    "# 3. Create the custom layer\n",
    "You will now create a custom layer to add the learned end token embedding to the encoder model:"
   ]
  },
  {
   "cell_type": "code",
   "execution_count": 22,
   "metadata": {
    "id": "e22f1Xyh6xvE"
   },
   "outputs": [
    {
     "data": {
      "image/png": "[encoded data removed]",
      "text/plain": [
       "<IPython.core.display.Image object>"
      ]
     },
     "execution_count": 22,
     "metadata": {},
     "output_type": "execute_result"
    }
   ],
   "source": [
    "# Run this cell to download and view a schematic diagram for the encoder model\n",
    "\n",
    "!wget -q -O neural_translation_model.png --no-check-certificate \"https://docs.google.com/uc?export=download&id=1JrtNOzUJDaOWrK4C-xv-4wUuZaI12sQI\"\n",
    "Image(\"neural_translation_model.png\")"
   ]
  },
  {
   "cell_type": "markdown",
   "metadata": {
    "id": "M6gLIHG81iaz"
   },
   "source": [
    "You should now build the custom layer.\n",
    "* Using layer subclassing, create a custom layer that takes a batch of English data examples from one of the Datasets, and adds a learned embedded ‘end’ token to the end of each sequence. \n",
    "* This layer should create a TensorFlow Variable (that will be learned during training) that is 128-dimensional (the size of the embedding space). _Hint: you may find it helpful in the call method to use the tf.tile function to replicate the end token embedding across every element in the batch._\n",
    "* Using the Dataset `.take(1)` method, extract a batch of English data examples from the training Dataset and print the shape. Test the custom layer by calling the layer on the English data batch Tensor and print the resulting Tensor shape (the layer should increase the sequence length by one)."
   ]
  },
  {
   "cell_type": "code",
   "execution_count": 23,
   "metadata": {
    "id": "yg9hjZz11ia0"
   },
   "outputs": [],
   "source": [
    "#Using layer subclassing, create a custom layer that takes a batch of English data examples \n",
    "# from one of the Datasets, and adds a learned embedded ‘end’ token to the end of each sequence.\n",
    "# This layer should create a TensorFlow Variable (that will be learned during training) that is \n",
    "# 128-dimensional (the size of the embedding space). _Hint: you may find it helpful in the call \n",
    "# method to use the tf.tile function to replicate the end token embedding across every element in the batch._\n",
    "\n",
    "from tensorflow.keras.layers import Layer\n",
    "\n",
    "class AddEndEmbeddingLayer(Layer):\n",
    "    \n",
    "    def __init__(self):\n",
    "        super(AddEndEmbeddingLayer,self).__init__()\n",
    "        self.end_token_embedding = self.add_weight(     shape=(128,),\n",
    "                                                       initializer='random_normal',\n",
    "                                                       trainable=True\n",
    "                                                  )\n",
    "    \n",
    "    def call(self, inputs):\n",
    "        \n",
    "        # expend dimension from (128,) to (1,1,128)\n",
    "        end_token_embedding = tf.expand_dims(\n",
    "            tf.expand_dims(\n",
    "                self.end_token_embedding, axis=0\n",
    "            ), axis=0\n",
    "        )\n",
    "        \n",
    "        # tile \n",
    "        inputs_shape = inputs.shape\n",
    "        end_token_embedding = tf.tile(end_token_embedding, tf.constant([inputs_shape[0],1,1], tf.int32))\n",
    "\n",
    "        # concat\n",
    "        return tf.concat([inputs, end_token_embedding], axis = 1 )\n",
    "        \n"
   ]
  },
  {
   "cell_type": "code",
   "execution_count": 24,
   "metadata": {},
   "outputs": [
    {
     "name": "stdout",
     "output_type": "stream",
     "text": [
      "english_single_batch.shape = (16, 13, 128)\n",
      "after the layer layer_add_end_embedding, the shape  = (16, 14, 128)\n"
     ]
    }
   ],
   "source": [
    "# * Using the Dataset `.take(1)` method, extract a batch of English data examples \n",
    "# from the training Dataset and print the shape. Test the custom layer by calling \n",
    "# the layer on the English data batch Tensor and print the resulting Tensor shape\n",
    "# (the layer should increase the sequence length by one).\n",
    "\n",
    "layer_add_end_embedding = AddEndEmbeddingLayer()\n",
    "for english_single_batch,_ in ds_train.take(1):\n",
    "    print(f\"english_single_batch.shape = {english_single_batch.shape}\")\n",
    "    post_layer_result = layer_add_end_embedding(english_single_batch)\n",
    "    print(f\"after the layer layer_add_end_embedding, the shape  = {post_layer_result.shape}\")"
   ]
  },
  {
   "cell_type": "markdown",
   "metadata": {
    "id": "OAd3i4_y1ia-"
   },
   "source": [
    "## 4. Build the encoder network\n",
    "The encoder network follows the schematic diagram above. You should now build the RNN encoder model.\n",
    "* Using the functional API, build the encoder network according to the following spec:\n",
    "    * The model will take a batch of sequences of embedded English words as input, as given by the Dataset objects.\n",
    "    * The next layer in the encoder will be the custom layer you created previously, to add a learned end token embedding to the end of the English sequence.\n",
    "    * This is followed by a Masking layer, with the `mask_value` set to the distinct padding value you used when you padded the English sequences with the Dataset preprocessing above.\n",
    "    * The final layer is an LSTM layer with 512 units, which also returns the hidden and cell states.\n",
    "    * The encoder is a multi-output model. There should be two output Tensors of this model: the hidden state and cell states of the LSTM layer. The output of the LSTM layer is unused.\n",
    "* Using the Dataset `.take(1)` method, extract a batch of English data examples from the training Dataset and test the encoder model by calling it on the English data Tensor, and print the shape of the resulting Tensor outputs.\n",
    "* Print the model summary for the encoder network."
   ]
  },
  {
   "cell_type": "code",
   "execution_count": 25,
   "metadata": {
    "id": "6R2LqbfV1ia_"
   },
   "outputs": [
    {
     "name": "stdout",
     "output_type": "stream",
     "text": [
      "Model: \"encoder\"\n",
      "_________________________________________________________________\n",
      "Layer (type)                 Output Shape              Param #   \n",
      "=================================================================\n",
      "input_1 (InputLayer)         [(16, 13, 128)]           0         \n",
      "_________________________________________________________________\n",
      "add_end_embedding_layer_1 (A (16, 14, 128)             128       \n",
      "_________________________________________________________________\n",
      "masking (Masking)            (16, 14, 128)             0         \n",
      "_________________________________________________________________\n",
      "lstm (LSTM)                  [(16, 512), (16, 512), (1 1312768   \n",
      "=================================================================\n",
      "Total params: 1,312,896\n",
      "Trainable params: 1,312,896\n",
      "Non-trainable params: 0\n",
      "_________________________________________________________________\n"
     ]
    }
   ],
   "source": [
    "\"\"\"\n",
    "Using the functional API, build the encoder network according to the following spec:\n",
    "The model will take a batch of sequences of embedded English words as input, as given by the Dataset objects.\n",
    "The next layer in the encoder will be the custom layer you created previously, to add a learned end token embedding to the end of the English sequence.\n",
    "This is followed by a Masking layer, with the mask_value set to the distinct padding value you used when you padded the English sequences with the Dataset preprocessing above.\n",
    "The final layer is an LSTM layer with 512 units, which also returns the hidden and cell states.\n",
    "The encoder is a multi-output model. There should be two output Tensors of this model: the hidden state and cell states of the LSTM layer. The output of the LSTM layer is unused.\n",
    "\n",
    "\"\"\"\n",
    "\n",
    "from tensorflow.keras.layers import LSTM, Masking\n",
    "from tensorflow.keras import Input\n",
    "from tensorflow.keras.models import Model\n",
    "\n",
    "\n",
    "input_tensor = Input(shape = (13,128), batch_size = 16, dtype=tf.float32)\n",
    "x = input_tensor\n",
    "x = AddEndEmbeddingLayer()(x)\n",
    "x = Masking(mask_value = 0.0)(x)\n",
    "x = LSTM(units=512,return_state = True)(x)\n",
    "# final_memory_state, final_carry_state\n",
    "encoder = Model(inputs = input_tensor, outputs = [x[0], x[1]], name = \"encoder\")\n",
    "encoder.summary()"
   ]
  },
  {
   "cell_type": "code",
   "execution_count": 26,
   "metadata": {
    "id": "e5XW6NxL1ibC"
   },
   "outputs": [
    {
     "name": "stdout",
     "output_type": "stream",
     "text": [
      "result_hidden_state.shape (16, 512)\n",
      "result_output_state.shape (16, 512)\n"
     ]
    }
   ],
   "source": [
    "\"\"\"\n",
    "Using the Dataset .take(1) method, extract a batch of English data examples from the training Dataset and test the encoder model by calling it on the English data Tensor, and print the shape of the resulting Tensor outputs.\n",
    "\"\"\"\n",
    "for english_single_batch in ds_train.take(1):\n",
    "    result_hidden_state, result_output_state = encoder(english_single_batch)\n",
    "    print(\"result_hidden_state.shape\", result_hidden_state.shape)\n",
    "    print(\"result_output_state.shape\", result_output_state.shape)"
   ]
  },
  {
   "cell_type": "code",
   "execution_count": 27,
   "metadata": {
    "id": "jEk9ikVh1ibL"
   },
   "outputs": [
    {
     "name": "stdout",
     "output_type": "stream",
     "text": [
      "Model: \"encoder\"\n",
      "_________________________________________________________________\n",
      "Layer (type)                 Output Shape              Param #   \n",
      "=================================================================\n",
      "input_1 (InputLayer)         [(16, 13, 128)]           0         \n",
      "_________________________________________________________________\n",
      "add_end_embedding_layer_1 (A (16, 14, 128)             128       \n",
      "_________________________________________________________________\n",
      "masking (Masking)            (16, 14, 128)             0         \n",
      "_________________________________________________________________\n",
      "lstm (LSTM)                  [(16, 512), (16, 512), (1 1312768   \n",
      "=================================================================\n",
      "Total params: 1,312,896\n",
      "Trainable params: 1,312,896\n",
      "Non-trainable params: 0\n",
      "_________________________________________________________________\n"
     ]
    }
   ],
   "source": [
    "#Print the model summary for the encoder network.\n",
    "encoder.summary()"
   ]
  },
  {
   "cell_type": "markdown",
   "metadata": {
    "id": "KvkzpCeZ1ibR"
   },
   "source": [
    "## 5. Build the decoder network\n",
    "The decoder network follows the schematic diagram below. "
   ]
  },
  {
   "cell_type": "code",
   "execution_count": 28,
   "metadata": {
    "id": "yOjEb7cH7Y4S"
   },
   "outputs": [
    {
     "data": {
      "image/png": "[encoded data removed]",
      "text/plain": [
       "<IPython.core.display.Image object>"
      ]
     },
     "execution_count": 28,
     "metadata": {},
     "output_type": "execute_result"
    }
   ],
   "source": [
    "# Run this cell to download and view a schematic diagram for the decoder model\n",
    "\n",
    "!wget -q -O neural_translation_model.png --no-check-certificate \"https://docs.google.com/uc?export=download&id=1DTeaXD8tA8RjkpVrB2mr9csSBOY4LQiW\"\n",
    "Image(\"neural_translation_model.png\")"
   ]
  },
  {
   "cell_type": "markdown",
   "metadata": {
    "id": "VPBK8WGL1ibS"
   },
   "source": [
    "You should now build the RNN decoder model.\n",
    "* Using Model subclassing, build the decoder network according to the following spec:\n",
    "    * The initializer should create the following layers:\n",
    "        * An Embedding layer with vocabulary size set to the number of unique German tokens, embedding dimension 128, and set to mask zero values in the input.\n",
    "        * An LSTM layer with 512 units, that returns its hidden and cell states, and also returns sequences.\n",
    "        * A Dense layer with number of units equal to the number of unique German tokens, and no activation function.\n",
    "    * The call method should include the usual `inputs` argument, as well as the additional keyword arguments `hidden_state` and `cell_state`. The default value for these keyword arguments should be `None`.\n",
    "    * The call method should pass the inputs through the Embedding layer, and then through the LSTM layer. If the `hidden_state` and `cell_state` arguments are provided, these should be used for the initial state of the LSTM layer. _Hint: use the_ `initial_state` _keyword argument when calling the LSTM layer on its input._\n",
    "    * The call method should pass the LSTM output sequence through the Dense layer, and return the resulting Tensor, along with the hidden and cell states of the LSTM layer.\n",
    "* Using the Dataset `.take(1)` method, extract a batch of English and German data examples from the training Dataset. Test the decoder model by first calling the encoder model on the English data Tensor to get the hidden and cell states, and then call the decoder model on the German data Tensor and hidden and cell states, and print the shape of the resulting decoder Tensor outputs.\n",
    "* Print the model summary for the decoder network."
   ]
  },
  {
   "cell_type": "code",
   "execution_count": 29,
   "metadata": {
    "id": "l50qhnXD1ibT"
   },
   "outputs": [
    {
     "name": "stdout",
     "output_type": "stream",
     "text": [
      "num_tokens 5743\n"
     ]
    }
   ],
   "source": [
    "from tensorflow.keras.models import Model\n",
    "from tensorflow.keras.layers import Layer, Embedding, LSTM, Dense\n",
    "\n",
    "\n",
    "class Decoder(Model):\n",
    "    \n",
    "    def __init__(self):\n",
    "        super(Decoder, self).__init__()\n",
    "        num_german_tokens = len(tokenizer.word_index)\n",
    "        print(\"num_tokens\", num_german_tokens)\n",
    "        self.embedding_layer = Embedding(input_dim = num_german_tokens, output_dim=128, mask_zero=True)\n",
    "        self.lstm_layer = LSTM(units=512, return_sequences=True, return_state= True)\n",
    "        self.dense_layer = Dense(units=num_german_tokens)\n",
    "    \n",
    "    def call(self, inputs, hidden_state = None, cell_state = None):\n",
    "        x = inputs\n",
    "        x = self.embedding_layer(x)\n",
    "        lstm_output = self.lstm_layer(x) if (hidden_state is None or cell_state is None) else self.lstm_layer(x, initial_state=(hidden_state, cell_state))\n",
    "        sequence_output = lstm_output[0]\n",
    "        hidden_state = lstm_output[1]\n",
    "        output_state = lstm_output[2] # TODO: Double check if this order is correct\n",
    "        x = self.dense_layer(sequence_output)\n",
    "        return (x, hidden_state, output_state)\n",
    "\n",
    "decoder = Decoder()"
   ]
  },
  {
   "cell_type": "code",
   "execution_count": 30,
   "metadata": {
    "id": "vG5CRIXV1ibi"
   },
   "outputs": [
    {
     "name": "stdout",
     "output_type": "stream",
     "text": [
      "(16, 14, 5743)\n"
     ]
    }
   ],
   "source": [
    "# Using the Dataset .take(1) method, extract a batch of English and German data examples \n",
    "#from the training Dataset. Test the decoder model by first calling the encoder model on \n",
    "#the English data Tensor to get the hidden and cell states, and then call the decoder \n",
    "#model on the German data Tensor and hidden and cell states, and print the shape of the\n",
    "#resulting decoder Tensor outputs.\n",
    "\n",
    "for english_sentence_single_batch, german_sequence_single_batch in ds_train.take(1):\n",
    "    \n",
    "    hidden_state, cell_state = encoder(english_sentence_single_batch)\n",
    "    output = decoder(german_sequence_single_batch, hidden_state, cell_state)\n",
    "    print(output[0].shape)"
   ]
  },
  {
   "cell_type": "code",
   "execution_count": null,
   "metadata": {
    "id": "SvqqT_ET1ibl"
   },
   "outputs": [],
   "source": []
  },
  {
   "cell_type": "markdown",
   "metadata": {
    "id": "pST9XGJ81ibo"
   },
   "source": [
    "## 6. Make a custom training loop\n",
    "You should now write a custom training loop to train your custom neural translation model.\n",
    "* Define a function that takes a Tensor batch of German data (as extracted from the training Dataset), and returns a tuple containing German inputs and outputs for the decoder model (refer to schematic diagram above).\n",
    "* Define a function that computes the forward and backward pass for your translation model. This function should take an English input, German input and German output as arguments, and should do the following:\n",
    "    * Pass the English input into the encoder, to get the hidden and cell states of the encoder LSTM.\n",
    "    * These hidden and cell states are then passed into the decoder, along with the German inputs, which returns a sequence of outputs (the hidden and cell state outputs of the decoder LSTM are unused in this function).\n",
    "    * The loss should then be computed between the decoder outputs and the German output function argument.\n",
    "    * The function returns the loss and gradients with respect to the encoder and decoder’s trainable variables.\n",
    "    * Decorate the function with `@tf.function`\n",
    "* Define and run a custom training loop for a number of epochs (for you to choose) that does the following:\n",
    "    * Iterates through the training dataset, and creates decoder inputs and outputs from the German sequences.\n",
    "    * Updates the parameters of the translation model using the gradients of the function above and an optimizer object.\n",
    "    * Every epoch, compute the validation loss on a number of batches from the validation and save the epoch training and validation losses.\n",
    "* Plot the learning curves for loss vs epoch for both training and validation sets.\n",
    "\n",
    "_Hint: This model is computationally demanding to train. The quality of the model or length of training is not a factor in the grading rubric. However, to obtain a better model we recommend using the GPU accelerator hardware on Colab._"
   ]
  },
  {
   "cell_type": "code",
   "execution_count": 31,
   "metadata": {
    "id": "7hJHbWqs1ibr"
   },
   "outputs": [],
   "source": [
    "#* Define a function that takes a Tensor batch of German data (as extracted from the training Dataset), and returns a tuple containing German inputs and outputs for the decoder model (refer to schematic diagram above).\n",
    "def german_input_output_gen(tensor_batch_np_german_sequence):\n",
    "    return tensor_batch_np_german_sequence[:,:-1], tensor_batch_np_german_sequence[:,1:]"
   ]
  },
  {
   "cell_type": "code",
   "execution_count": 50,
   "metadata": {
    "id": "Jvu4J4-u1ibu"
   },
   "outputs": [],
   "source": [
    "\"\"\"\n",
    "* Define a function that computes the forward and backward pass for your translation model. This function should take an English input, German input and German output as arguments, and should do the following:\n",
    "    * Pass the English input into the encoder, to get the hidden and cell states of the encoder LSTM.\n",
    "    * These hidden and cell states are then passed into the decoder, along with the German inputs, which returns a sequence of outputs (the hidden and cell state outputs of the decoder LSTM are unused in this function).\n",
    "    * The loss should then be computed between the decoder outputs and the German output function argument.\n",
    "    * The function returns the loss and gradients with respect to the encoder and decoder’s trainable variables.\n",
    "    * Decorate the function with `@tf.function`\n",
    "\"\"\"\n",
    "\n",
    "# @tf.function\n",
    "def train_fun(eng_input, german_input, german_output):\n",
    "    \n",
    "    \n",
    "    \n",
    "    \n",
    "    \n",
    "    with tf.GradientTape() as g:\n",
    "        g.watch([eng_input,german_input])\n",
    "        \n",
    "        hidden_state, cell_state = encoder(eng_input)\n",
    "        decoder_output_sequence = decoder(german_input, hidden_state, cell_state)[0]\n",
    "        loss = tf.keras.losses.sparse_categorical_crossentropy(german_output, decoder_output_sequence)\n",
    "        loss = tf.reduce_mean(loss)\n",
    "        grad = g.gradient(loss, encoder.trainable_variables + decoder.trainable_variables)\n",
    "        return (loss, grad)"
   ]
  },
  {
   "cell_type": "code",
   "execution_count": null,
   "metadata": {},
   "outputs": [],
   "source": []
  },
  {
   "cell_type": "code",
   "execution_count": 51,
   "metadata": {
    "id": "Vl5H06811ibx"
   },
   "outputs": [
    {
     "data": {
      "text/plain": [
       "'\\n* Define and run a custom training loop for a number of epochs (for you to choose) that does the following:\\n    * Iterates through the training dataset, and creates decoder inputs and outputs from the German sequences.\\n    * Updates the parameters of the translation model using the gradients of the function above and an optimizer object.\\n    * Every epoch, compute the validation loss on a number of batches from the validation and save the epoch training and validation losses.\\n'"
      ]
     },
     "execution_count": 51,
     "metadata": {},
     "output_type": "execute_result"
    }
   ],
   "source": [
    "\"\"\"\n",
    "* Define and run a custom training loop for a number of epochs (for you to choose) that does the following:\n",
    "    * Iterates through the training dataset, and creates decoder inputs and outputs from the German sequences.\n",
    "    * Updates the parameters of the translation model using the gradients of the function above and an optimizer object.\n",
    "    * Every epoch, compute the validation loss on a number of batches from the validation and save the epoch training and validation losses.\n",
    "\"\"\""
   ]
  },
  {
   "cell_type": "code",
   "execution_count": 55,
   "metadata": {
    "id": "MVWOYJ3l1ib1"
   },
   "outputs": [
    {
     "name": "stderr",
     "output_type": "stream",
     "text": [
      "250it [00:23, 10.67it/s]\n",
      "0it [00:00, ?it/s]"
     ]
    },
    {
     "name": "stdout",
     "output_type": "stream",
     "text": [
      "Epoch  000: Loss: 4.449\n"
     ]
    },
    {
     "name": "stderr",
     "output_type": "stream",
     "text": [
      "250it [00:21, 11.38it/s]\n",
      "0it [00:00, ?it/s]"
     ]
    },
    {
     "name": "stdout",
     "output_type": "stream",
     "text": [
      "Epoch  001: Loss: 4.449\n"
     ]
    },
    {
     "name": "stderr",
     "output_type": "stream",
     "text": [
      "250it [00:23, 10.82it/s]\n",
      "0it [00:00, ?it/s]"
     ]
    },
    {
     "name": "stdout",
     "output_type": "stream",
     "text": [
      "Epoch  002: Loss: 4.449\n"
     ]
    },
    {
     "name": "stderr",
     "output_type": "stream",
     "text": [
      "250it [00:23, 10.69it/s]\n",
      "0it [00:00, ?it/s]"
     ]
    },
    {
     "name": "stdout",
     "output_type": "stream",
     "text": [
      "Epoch  003: Loss: 4.449\n"
     ]
    },
    {
     "name": "stderr",
     "output_type": "stream",
     "text": [
      "250it [00:23, 10.63it/s]\n",
      "0it [00:00, ?it/s]"
     ]
    },
    {
     "name": "stdout",
     "output_type": "stream",
     "text": [
      "Epoch  004: Loss: 4.449\n"
     ]
    },
    {
     "name": "stderr",
     "output_type": "stream",
     "text": [
      "250it [00:23, 10.80it/s]\n",
      "0it [00:00, ?it/s]"
     ]
    },
    {
     "name": "stdout",
     "output_type": "stream",
     "text": [
      "Epoch  005: Loss: 4.449\n"
     ]
    },
    {
     "name": "stderr",
     "output_type": "stream",
     "text": [
      "250it [00:23, 10.78it/s]\n",
      "0it [00:00, ?it/s]"
     ]
    },
    {
     "name": "stdout",
     "output_type": "stream",
     "text": [
      "Epoch  006: Loss: 4.449\n"
     ]
    },
    {
     "name": "stderr",
     "output_type": "stream",
     "text": [
      "250it [00:23, 10.66it/s]\n",
      "0it [00:00, ?it/s]"
     ]
    },
    {
     "name": "stdout",
     "output_type": "stream",
     "text": [
      "Epoch  007: Loss: 4.449\n"
     ]
    },
    {
     "name": "stderr",
     "output_type": "stream",
     "text": [
      "250it [00:22, 11.25it/s]\n",
      "0it [00:00, ?it/s]"
     ]
    },
    {
     "name": "stdout",
     "output_type": "stream",
     "text": [
      "Epoch  008: Loss: 4.449\n"
     ]
    },
    {
     "name": "stderr",
     "output_type": "stream",
     "text": [
      "250it [00:22, 11.07it/s]"
     ]
    },
    {
     "name": "stdout",
     "output_type": "stream",
     "text": [
      "Epoch  009: Loss: 4.449\n"
     ]
    },
    {
     "name": "stderr",
     "output_type": "stream",
     "text": [
      "\n"
     ]
    }
   ],
   "source": [
    "optimizer = tf.keras.optimizers.Adam(learning_rate=0.001)\n",
    "train_loss_results = []\n",
    "\n",
    "import tqdm\n",
    "\n",
    "for epoch in range(10):\n",
    "    epoch_loss_avg = tf.keras.metrics.Mean()\n",
    "    for eng_single_batch, german_single_batch in tqdm.tqdm(ds_train):\n",
    "        german_input, german_output = german_input_output_gen(german_single_batch)\n",
    "        (loss, gradients) = train_fun(eng_single_batch, german_input, german_output)\n",
    "        optimizer.apply_gradients(zip(gradients, encoder.trainable_variables + decoder.trainable_variables))\n",
    "        epoch_loss_avg(loss)\n",
    "    train_loss_results.append(epoch_loss_avg.result())\n",
    "    print(\"Epoch  {:03d}: Loss: {:.3f}\".format(            epoch,            epoch_loss_avg.result()))    "
   ]
  },
  {
   "cell_type": "markdown",
   "metadata": {
    "id": "6VSmBdwT1ib4"
   },
   "source": [
    " ['Variable:0', 'lstm/lstm_cell/kernel:0', 'lstm/lstm_cell/recurrent_kernel:0', 'lstm/lstm_cell/bias:0', 'decoder/embedding/embeddings:0', 'decoder/lstm_1/lstm_cell_1/kernel:0', 'decoder/lstm_1/lstm_cell_1/recurrent_kernel:0', 'decoder/lstm_1/lstm_cell_1/bias:0', 'decoder/dense/kernel:0', 'decoder/dense/bias:0']"
   ]
  },
  {
   "cell_type": "code",
   "execution_count": null,
   "metadata": {
    "id": "dpacst2F1ib7"
   },
   "outputs": [],
   "source": []
  },
  {
   "cell_type": "markdown",
   "metadata": {
    "id": "xM2gvBM11ib-"
   },
   "source": [
    "## 7. Use the model to translate\n",
    "Now it's time to put your model into practice! You should run your translation for five randomly sampled English sentences from the dataset. For each sentence, the process is as follows:\n",
    "* Preprocess and embed the English sentence according to the model requirements.\n",
    "* Pass the embedded sentence through the encoder to get the encoder hidden and cell states.\n",
    "* Starting with the special  `\"<start>\"` token, use this token and the final encoder hidden and cell states to get the one-step prediction from the decoder, as well as the decoder’s updated hidden and cell states.\n",
    "* Create a loop to get the next step prediction and updated hidden and cell states from the decoder, using the most recent hidden and cell states. Terminate the loop when the `\"<end>\"` token is emitted, or when the sentence has reached a maximum length.\n",
    "* Decode the output token sequence into German text and print the English text and the model's German translation."
   ]
  },
  {
   "cell_type": "code",
   "execution_count": null,
   "metadata": {
    "id": "bGnQtE7L1icA"
   },
   "outputs": [],
   "source": []
  },
  {
   "cell_type": "code",
   "execution_count": null,
   "metadata": {
    "id": "ohleJRcJ1icD"
   },
   "outputs": [],
   "source": []
  },
  {
   "cell_type": "code",
   "execution_count": null,
   "metadata": {
    "id": "Unk60cEy1icI"
   },
   "outputs": [],
   "source": []
  }
 ],
 "metadata": {
  "colab": {
   "collapsed_sections": [],
   "name": "Copy of Capstone Project.ipynb",
   "provenance": []
  },
  "kernelspec": {
   "display_name": "Python 3",
   "language": "python",
   "name": "python3"
  },
  "language_info": {
   "codemirror_mode": {
    "name": "ipython",
    "version": 3
   },
   "file_extension": ".py",
   "mimetype": "text/x-python",
   "name": "python",
   "nbconvert_exporter": "python",
   "pygments_lexer": "ipython3",
   "version": "3.8.5"
  }
 },
 "nbformat": 4,
 "nbformat_minor": 1
}
