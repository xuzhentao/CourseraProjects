{
 "cells": [
  {
   "cell_type": "markdown",
   "metadata": {},
   "source": [
    "# Batch normalisation layers\n",
    "\n",
    "In this reading we will look at incorporating batch normalisation into our models and look at an example of how we do this in practice.\n",
    "\n",
    "As usual, let's first import tensorflow."
   ]
  },
  {
   "cell_type": "code",
   "execution_count": 1,
   "metadata": {},
   "outputs": [
    {
     "name": "stdout",
     "output_type": "stream",
     "text": [
      "2.3.0\n"
     ]
    }
   ],
   "source": [
    "import tensorflow as tf\n",
    "print(tf.__version__)"
   ]
  },
  {
   "cell_type": "markdown",
   "metadata": {},
   "source": [
    "We will be working with the diabetes dataset that we have been using in this week's screencasts. \n",
    "\n",
    "Let's load and pre-process the dataset."
   ]
  },
  {
   "cell_type": "code",
   "execution_count": 2,
   "metadata": {},
   "outputs": [],
   "source": [
    "# Load the dataset\n",
    "\n",
    "from sklearn.datasets import load_diabetes\n",
    "diabetes_dataset = load_diabetes()"
   ]
  },
  {
   "cell_type": "code",
   "execution_count": 3,
   "metadata": {},
   "outputs": [],
   "source": [
    "# Save the input and target variables\n",
    "\n",
    "from sklearn.model_selection import train_test_split\n",
    "\n",
    "data = diabetes_dataset['data']\n",
    "targets = diabetes_dataset['target']"
   ]
  },
  {
   "cell_type": "code",
   "execution_count": 4,
   "metadata": {},
   "outputs": [],
   "source": [
    "# Normalise the target data (this will make clearer training curves)\n",
    "\n",
    "targets = (targets - targets.mean(axis=0)) / (targets.std())"
   ]
  },
  {
   "cell_type": "code",
   "execution_count": 5,
   "metadata": {},
   "outputs": [],
   "source": [
    "# Split the dataset into training and test datasets \n",
    "\n",
    "train_data, test_data, train_targets, test_targets = train_test_split(data, targets, test_size=0.1)"
   ]
  },
  {
   "cell_type": "markdown",
   "metadata": {},
   "source": [
    "### Batch normalisation - defining the model"
   ]
  },
  {
   "cell_type": "markdown",
   "metadata": {},
   "source": [
    "We can implement batch normalisation into our model by adding it in the same way as any other layer."
   ]
  },
  {
   "cell_type": "code",
   "execution_count": 47,
   "metadata": {},
   "outputs": [],
   "source": [
    "from tensorflow.keras.models import Sequential\n",
    "from tensorflow.keras.layers import Flatten, Dense, Conv2D, MaxPooling2D, BatchNormalization, Dropout"
   ]
  },
  {
   "cell_type": "code",
   "execution_count": 55,
   "metadata": {},
   "outputs": [],
   "source": [
    "# Build the model\n",
    "\n",
    "model = Sequential([\n",
    "    Dense(64, input_shape=[train_data.shape[1],], activation=\"relu\"),\n",
    "    BatchNormalization(),  # <- Batch normalisation layer\n",
    "    Dropout(0.5),\n",
    "    BatchNormalization(),  # <- Batch normalisation layer\n",
    "    Dropout(0.5),\n",
    "    Dense(256, activation='relu'),\n",
    "])\n",
    "\n",
    "# NB: We have not added the output layer because we still have more layers to add!"
   ]
  },
  {
   "cell_type": "code",
   "execution_count": 56,
   "metadata": {
    "scrolled": true
   },
   "outputs": [
    {
     "name": "stdout",
     "output_type": "stream",
     "text": [
      "Model: \"sequential_6\"\n",
      "_________________________________________________________________\n",
      "Layer (type)                 Output Shape              Param #   \n",
      "=================================================================\n",
      "dense_17 (Dense)             (None, 64)                704       \n",
      "_________________________________________________________________\n",
      "batch_normalization_8 (Batch (None, 64)                256       \n",
      "_________________________________________________________________\n",
      "dropout_4 (Dropout)          (None, 64)                0         \n",
      "_________________________________________________________________\n",
      "batch_normalization_9 (Batch (None, 64)                256       \n",
      "_________________________________________________________________\n",
      "dropout_5 (Dropout)          (None, 64)                0         \n",
      "_________________________________________________________________\n",
      "dense_18 (Dense)             (None, 256)               16640     \n",
      "=================================================================\n",
      "Total params: 17,856\n",
      "Trainable params: 17,600\n",
      "Non-trainable params: 256\n",
      "_________________________________________________________________\n"
     ]
    }
   ],
   "source": [
    "# Print the model summary\n",
    "\n",
    "model.summary()"
   ]
  },
  {
   "cell_type": "markdown",
   "metadata": {},
   "source": [
    "Recall that there are some parameters and hyperparameters associated with batch normalisation.\n",
    "\n",
    "* The hyperparameter **momentum** is the weighting given to the previous running mean when re-computing it with an extra minibatch. By **default**, it is set to 0.99.\n",
    "\n",
    "* The hyperparameter **$\\epsilon$** is used for numeric stability when performing the normalisation over the minibatch. By **default** it is set to 0.001.\n",
    "\n",
    "* The parameters **$\\beta$** and **$\\gamma$** are used to implement an affine transformation after normalisation. By **default**, $\\beta$ is an all-zeros vector, and $\\gamma$ is an all-ones vector.\n",
    "\n",
    "### Customising parameters\n",
    "These can all be changed (along with various other properties) by adding optional arguments to `tf.keras.layers.BatchNormalization()`.\n",
    "\n",
    "We can also specify the axis for batch normalisation. By default, it is set as -1.\n",
    "\n",
    "Let's see an example."
   ]
  },
  {
   "cell_type": "code",
   "execution_count": 57,
   "metadata": {},
   "outputs": [],
   "source": [
    "# Add a customised batch normalisation layer\n",
    "\n",
    "model.add(tf.keras.layers.BatchNormalization(\n",
    "    momentum=0.95, \n",
    "    epsilon=0.005,\n",
    "    axis = -1,\n",
    "    beta_initializer=tf.keras.initializers.RandomNormal(mean=0.0, stddev=0.05), \n",
    "    gamma_initializer=tf.keras.initializers.Constant(value=0.9)\n",
    "))"
   ]
  },
  {
   "cell_type": "code",
   "execution_count": 58,
   "metadata": {},
   "outputs": [],
   "source": [
    "# Add the output layer\n",
    "\n",
    "model.add(Dense(1))"
   ]
  },
  {
   "cell_type": "markdown",
   "metadata": {},
   "source": [
    "## Compile and fit the model"
   ]
  },
  {
   "cell_type": "markdown",
   "metadata": {},
   "source": [
    "Let's now compile and fit our model with batch normalisation, and track the progress on training and validation sets.\n",
    "\n",
    "First we compile our model."
   ]
  },
  {
   "cell_type": "code",
   "execution_count": 59,
   "metadata": {},
   "outputs": [],
   "source": [
    "# Compile the model\n",
    "\n",
    "model.compile(optimizer='adam',\n",
    "              loss='mse',\n",
    "              metrics=['mae'])"
   ]
  },
  {
   "cell_type": "markdown",
   "metadata": {},
   "source": [
    "Now we fit the model to the data."
   ]
  },
  {
   "cell_type": "code",
   "execution_count": 60,
   "metadata": {},
   "outputs": [
    {
     "name": "stdout",
     "output_type": "stream",
     "text": [
      "Epoch 1/100\n",
      "6/6 [==============================] - 0s 21ms/step - loss: 2.2118 - mae: 1.1940 - val_loss: 0.8725 - val_mae: 0.8206\n",
      "Epoch 2/100\n",
      "6/6 [==============================] - 0s 7ms/step - loss: 1.5402 - mae: 0.9356 - val_loss: 0.8835 - val_mae: 0.8287\n",
      "Epoch 3/100\n",
      "6/6 [==============================] - 0s 5ms/step - loss: 1.2990 - mae: 0.9025 - val_loss: 0.9103 - val_mae: 0.8432\n",
      "Epoch 4/100\n",
      "6/6 [==============================] - 0s 7ms/step - loss: 1.0453 - mae: 0.8082 - val_loss: 0.9158 - val_mae: 0.8458\n",
      "Epoch 5/100\n",
      "6/6 [==============================] - 0s 6ms/step - loss: 0.8820 - mae: 0.7490 - val_loss: 0.9022 - val_mae: 0.8397\n",
      "Epoch 6/100\n",
      "6/6 [==============================] - 0s 7ms/step - loss: 0.9420 - mae: 0.7830 - val_loss: 0.8941 - val_mae: 0.8358\n",
      "Epoch 7/100\n",
      "6/6 [==============================] - 0s 7ms/step - loss: 0.8436 - mae: 0.7441 - val_loss: 0.8990 - val_mae: 0.8381\n",
      "Epoch 8/100\n",
      "6/6 [==============================] - 0s 7ms/step - loss: 0.9319 - mae: 0.7936 - val_loss: 0.8826 - val_mae: 0.8296\n",
      "Epoch 9/100\n",
      "6/6 [==============================] - 0s 7ms/step - loss: 0.9330 - mae: 0.7646 - val_loss: 0.8718 - val_mae: 0.8225\n",
      "Epoch 10/100\n",
      "6/6 [==============================] - 0s 7ms/step - loss: 0.8346 - mae: 0.7243 - val_loss: 0.8665 - val_mae: 0.8185\n",
      "Epoch 11/100\n",
      "6/6 [==============================] - 0s 7ms/step - loss: 0.9394 - mae: 0.7625 - val_loss: 0.8628 - val_mae: 0.8148\n",
      "Epoch 12/100\n",
      "6/6 [==============================] - 0s 7ms/step - loss: 0.8900 - mae: 0.7438 - val_loss: 0.8586 - val_mae: 0.8122\n",
      "Epoch 13/100\n",
      "6/6 [==============================] - 0s 6ms/step - loss: 0.8068 - mae: 0.7236 - val_loss: 0.8546 - val_mae: 0.8070\n",
      "Epoch 14/100\n",
      "6/6 [==============================] - 0s 7ms/step - loss: 0.8064 - mae: 0.7235 - val_loss: 0.8539 - val_mae: 0.8079\n",
      "Epoch 15/100\n",
      "6/6 [==============================] - 0s 7ms/step - loss: 0.8649 - mae: 0.7391 - val_loss: 0.8577 - val_mae: 0.8138\n",
      "Epoch 16/100\n",
      "6/6 [==============================] - 0s 7ms/step - loss: 0.8517 - mae: 0.7523 - val_loss: 0.8494 - val_mae: 0.8054\n",
      "Epoch 17/100\n",
      "6/6 [==============================] - 0s 7ms/step - loss: 0.8671 - mae: 0.7355 - val_loss: 0.8488 - val_mae: 0.8059\n",
      "Epoch 18/100\n",
      "6/6 [==============================] - 0s 7ms/step - loss: 0.7497 - mae: 0.7029 - val_loss: 0.8441 - val_mae: 0.8031\n",
      "Epoch 19/100\n",
      "6/6 [==============================] - 0s 7ms/step - loss: 0.7506 - mae: 0.6934 - val_loss: 0.8469 - val_mae: 0.8094\n",
      "Epoch 20/100\n",
      "6/6 [==============================] - 0s 7ms/step - loss: 0.7429 - mae: 0.6945 - val_loss: 0.8544 - val_mae: 0.8147\n",
      "Epoch 21/100\n",
      "6/6 [==============================] - 0s 8ms/step - loss: 0.8089 - mae: 0.7135 - val_loss: 0.8610 - val_mae: 0.8193\n",
      "Epoch 22/100\n",
      "6/6 [==============================] - 0s 7ms/step - loss: 0.6761 - mae: 0.6501 - val_loss: 0.8621 - val_mae: 0.8202\n",
      "Epoch 23/100\n",
      "6/6 [==============================] - 0s 8ms/step - loss: 0.7750 - mae: 0.7156 - val_loss: 0.8485 - val_mae: 0.8129\n",
      "Epoch 24/100\n",
      "6/6 [==============================] - 0s 7ms/step - loss: 0.7650 - mae: 0.7083 - val_loss: 0.8428 - val_mae: 0.8090\n",
      "Epoch 25/100\n",
      "6/6 [==============================] - 0s 6ms/step - loss: 0.6991 - mae: 0.6701 - val_loss: 0.8393 - val_mae: 0.8053\n",
      "Epoch 26/100\n",
      "6/6 [==============================] - 0s 6ms/step - loss: 0.7225 - mae: 0.6934 - val_loss: 0.8373 - val_mae: 0.8024\n",
      "Epoch 27/100\n",
      "6/6 [==============================] - 0s 7ms/step - loss: 0.7325 - mae: 0.6920 - val_loss: 0.8329 - val_mae: 0.7969\n",
      "Epoch 28/100\n",
      "6/6 [==============================] - 0s 6ms/step - loss: 0.7110 - mae: 0.6671 - val_loss: 0.8219 - val_mae: 0.7917\n",
      "Epoch 29/100\n",
      "6/6 [==============================] - 0s 7ms/step - loss: 0.7129 - mae: 0.6942 - val_loss: 0.8209 - val_mae: 0.7859\n",
      "Epoch 30/100\n",
      "6/6 [==============================] - 0s 7ms/step - loss: 0.7272 - mae: 0.6896 - val_loss: 0.8287 - val_mae: 0.7854\n",
      "Epoch 31/100\n",
      "6/6 [==============================] - 0s 7ms/step - loss: 0.8307 - mae: 0.7375 - val_loss: 0.8297 - val_mae: 0.7855\n",
      "Epoch 32/100\n",
      "6/6 [==============================] - 0s 7ms/step - loss: 0.7874 - mae: 0.7131 - val_loss: 0.8197 - val_mae: 0.7838\n",
      "Epoch 33/100\n",
      "6/6 [==============================] - 0s 7ms/step - loss: 0.6890 - mae: 0.6678 - val_loss: 0.8139 - val_mae: 0.7834\n",
      "Epoch 34/100\n",
      "6/6 [==============================] - 0s 7ms/step - loss: 0.6436 - mae: 0.6456 - val_loss: 0.8075 - val_mae: 0.7830\n",
      "Epoch 35/100\n",
      "6/6 [==============================] - 0s 7ms/step - loss: 0.7512 - mae: 0.6904 - val_loss: 0.8099 - val_mae: 0.7834\n",
      "Epoch 36/100\n",
      "6/6 [==============================] - 0s 7ms/step - loss: 0.6778 - mae: 0.6555 - val_loss: 0.8201 - val_mae: 0.7942\n",
      "Epoch 37/100\n",
      "6/6 [==============================] - 0s 7ms/step - loss: 0.6518 - mae: 0.6627 - val_loss: 0.8217 - val_mae: 0.7967\n",
      "Epoch 38/100\n",
      "6/6 [==============================] - 0s 8ms/step - loss: 0.7379 - mae: 0.6953 - val_loss: 0.8192 - val_mae: 0.7939\n",
      "Epoch 39/100\n",
      "6/6 [==============================] - 0s 7ms/step - loss: 0.7007 - mae: 0.6727 - val_loss: 0.8170 - val_mae: 0.7897\n",
      "Epoch 40/100\n",
      "6/6 [==============================] - 0s 7ms/step - loss: 0.6496 - mae: 0.6358 - val_loss: 0.8067 - val_mae: 0.7849\n",
      "Epoch 41/100\n",
      "6/6 [==============================] - 0s 7ms/step - loss: 0.8048 - mae: 0.7396 - val_loss: 0.8091 - val_mae: 0.7871\n",
      "Epoch 42/100\n",
      "6/6 [==============================] - 0s 7ms/step - loss: 0.6541 - mae: 0.6487 - val_loss: 0.8045 - val_mae: 0.7837\n",
      "Epoch 43/100\n",
      "6/6 [==============================] - 0s 7ms/step - loss: 0.5694 - mae: 0.5911 - val_loss: 0.7913 - val_mae: 0.7763\n",
      "Epoch 44/100\n",
      "6/6 [==============================] - 0s 7ms/step - loss: 0.7462 - mae: 0.6926 - val_loss: 0.7930 - val_mae: 0.7809\n",
      "Epoch 45/100\n",
      "6/6 [==============================] - 0s 7ms/step - loss: 0.5865 - mae: 0.6019 - val_loss: 0.8084 - val_mae: 0.7921\n",
      "Epoch 46/100\n",
      "6/6 [==============================] - 0s 8ms/step - loss: 0.6329 - mae: 0.6479 - val_loss: 0.8074 - val_mae: 0.7921\n",
      "Epoch 47/100\n",
      "6/6 [==============================] - 0s 7ms/step - loss: 0.5711 - mae: 0.5994 - val_loss: 0.8140 - val_mae: 0.7966\n",
      "Epoch 48/100\n",
      "6/6 [==============================] - 0s 8ms/step - loss: 0.6825 - mae: 0.6751 - val_loss: 0.7954 - val_mae: 0.7847\n",
      "Epoch 49/100\n",
      "6/6 [==============================] - 0s 7ms/step - loss: 0.6312 - mae: 0.6462 - val_loss: 0.7816 - val_mae: 0.7746\n",
      "Epoch 50/100\n",
      "6/6 [==============================] - 0s 8ms/step - loss: 0.5885 - mae: 0.6348 - val_loss: 0.7794 - val_mae: 0.7738\n",
      "Epoch 51/100\n",
      "6/6 [==============================] - 0s 7ms/step - loss: 0.6487 - mae: 0.6659 - val_loss: 0.7854 - val_mae: 0.7750\n",
      "Epoch 52/100\n",
      "6/6 [==============================] - 0s 8ms/step - loss: 0.6124 - mae: 0.6273 - val_loss: 0.7833 - val_mae: 0.7726\n",
      "Epoch 53/100\n",
      "6/6 [==============================] - 0s 7ms/step - loss: 0.6216 - mae: 0.6139 - val_loss: 0.7758 - val_mae: 0.7669\n",
      "Epoch 54/100\n",
      "6/6 [==============================] - 0s 7ms/step - loss: 0.6233 - mae: 0.6354 - val_loss: 0.7702 - val_mae: 0.7621\n",
      "Epoch 55/100\n",
      "6/6 [==============================] - 0s 7ms/step - loss: 0.6572 - mae: 0.6533 - val_loss: 0.7765 - val_mae: 0.7671\n",
      "Epoch 56/100\n",
      "6/6 [==============================] - 0s 7ms/step - loss: 0.6271 - mae: 0.6442 - val_loss: 0.7698 - val_mae: 0.7606\n",
      "Epoch 57/100\n",
      "6/6 [==============================] - 0s 7ms/step - loss: 0.6596 - mae: 0.6626 - val_loss: 0.7641 - val_mae: 0.7561\n",
      "Epoch 58/100\n",
      "6/6 [==============================] - 0s 7ms/step - loss: 0.6230 - mae: 0.6381 - val_loss: 0.7546 - val_mae: 0.7503\n",
      "Epoch 59/100\n",
      "6/6 [==============================] - 0s 7ms/step - loss: 0.6727 - mae: 0.6618 - val_loss: 0.7522 - val_mae: 0.7510\n",
      "Epoch 60/100\n",
      "6/6 [==============================] - 0s 7ms/step - loss: 0.6084 - mae: 0.6309 - val_loss: 0.7445 - val_mae: 0.7492\n",
      "Epoch 61/100\n",
      "6/6 [==============================] - 0s 7ms/step - loss: 0.5408 - mae: 0.5999 - val_loss: 0.7379 - val_mae: 0.7477\n",
      "Epoch 62/100\n",
      "6/6 [==============================] - 0s 7ms/step - loss: 0.5871 - mae: 0.6284 - val_loss: 0.7417 - val_mae: 0.7494\n",
      "Epoch 63/100\n",
      "6/6 [==============================] - 0s 8ms/step - loss: 0.6070 - mae: 0.6279 - val_loss: 0.7375 - val_mae: 0.7469\n",
      "Epoch 64/100\n"
     ]
    },
    {
     "name": "stdout",
     "output_type": "stream",
     "text": [
      "6/6 [==============================] - 0s 7ms/step - loss: 0.6468 - mae: 0.6331 - val_loss: 0.7279 - val_mae: 0.7438\n",
      "Epoch 65/100\n",
      "6/6 [==============================] - 0s 7ms/step - loss: 0.5998 - mae: 0.6249 - val_loss: 0.7340 - val_mae: 0.7470\n",
      "Epoch 66/100\n",
      "6/6 [==============================] - 0s 7ms/step - loss: 0.6036 - mae: 0.6303 - val_loss: 0.7421 - val_mae: 0.7524\n",
      "Epoch 67/100\n",
      "6/6 [==============================] - 0s 8ms/step - loss: 0.5678 - mae: 0.6121 - val_loss: 0.7437 - val_mae: 0.7512\n",
      "Epoch 68/100\n",
      "6/6 [==============================] - 0s 8ms/step - loss: 0.5980 - mae: 0.6248 - val_loss: 0.7340 - val_mae: 0.7448\n",
      "Epoch 69/100\n",
      "6/6 [==============================] - 0s 7ms/step - loss: 0.5690 - mae: 0.6079 - val_loss: 0.7317 - val_mae: 0.7466\n",
      "Epoch 70/100\n",
      "6/6 [==============================] - 0s 7ms/step - loss: 0.5637 - mae: 0.5969 - val_loss: 0.7243 - val_mae: 0.7448\n",
      "Epoch 71/100\n",
      "6/6 [==============================] - 0s 8ms/step - loss: 0.6193 - mae: 0.6313 - val_loss: 0.7239 - val_mae: 0.7434\n",
      "Epoch 72/100\n",
      "6/6 [==============================] - 0s 6ms/step - loss: 0.6545 - mae: 0.6424 - val_loss: 0.7343 - val_mae: 0.7495\n",
      "Epoch 73/100\n",
      "6/6 [==============================] - 0s 7ms/step - loss: 0.5841 - mae: 0.6227 - val_loss: 0.7282 - val_mae: 0.7443\n",
      "Epoch 74/100\n",
      "6/6 [==============================] - 0s 7ms/step - loss: 0.5637 - mae: 0.6053 - val_loss: 0.7192 - val_mae: 0.7365\n",
      "Epoch 75/100\n",
      "6/6 [==============================] - 0s 7ms/step - loss: 0.5852 - mae: 0.6195 - val_loss: 0.7174 - val_mae: 0.7359\n",
      "Epoch 76/100\n",
      "6/6 [==============================] - 0s 7ms/step - loss: 0.5738 - mae: 0.6037 - val_loss: 0.7245 - val_mae: 0.7411\n",
      "Epoch 77/100\n",
      "6/6 [==============================] - 0s 7ms/step - loss: 0.5990 - mae: 0.6424 - val_loss: 0.7207 - val_mae: 0.7413\n",
      "Epoch 78/100\n",
      "6/6 [==============================] - 0s 7ms/step - loss: 0.5902 - mae: 0.6211 - val_loss: 0.7052 - val_mae: 0.7311\n",
      "Epoch 79/100\n",
      "6/6 [==============================] - 0s 9ms/step - loss: 0.6205 - mae: 0.6401 - val_loss: 0.6998 - val_mae: 0.7269\n",
      "Epoch 80/100\n",
      "6/6 [==============================] - 0s 8ms/step - loss: 0.5680 - mae: 0.5986 - val_loss: 0.6955 - val_mae: 0.7243\n",
      "Epoch 81/100\n",
      "6/6 [==============================] - 0s 8ms/step - loss: 0.5826 - mae: 0.6056 - val_loss: 0.7151 - val_mae: 0.7357\n",
      "Epoch 82/100\n",
      "6/6 [==============================] - 0s 7ms/step - loss: 0.5723 - mae: 0.6092 - val_loss: 0.7158 - val_mae: 0.7324\n",
      "Epoch 83/100\n",
      "6/6 [==============================] - 0s 7ms/step - loss: 0.5433 - mae: 0.5923 - val_loss: 0.7131 - val_mae: 0.7288\n",
      "Epoch 84/100\n",
      "6/6 [==============================] - 0s 7ms/step - loss: 0.5358 - mae: 0.5970 - val_loss: 0.6905 - val_mae: 0.7119\n",
      "Epoch 85/100\n",
      "6/6 [==============================] - 0s 8ms/step - loss: 0.6015 - mae: 0.6081 - val_loss: 0.6857 - val_mae: 0.7083\n",
      "Epoch 86/100\n",
      "6/6 [==============================] - 0s 7ms/step - loss: 0.6087 - mae: 0.6321 - val_loss: 0.6995 - val_mae: 0.7216\n",
      "Epoch 87/100\n",
      "6/6 [==============================] - 0s 7ms/step - loss: 0.5639 - mae: 0.5853 - val_loss: 0.7009 - val_mae: 0.7209\n",
      "Epoch 88/100\n",
      "6/6 [==============================] - 0s 7ms/step - loss: 0.5699 - mae: 0.6047 - val_loss: 0.6880 - val_mae: 0.7158\n",
      "Epoch 89/100\n",
      "6/6 [==============================] - 0s 7ms/step - loss: 0.5253 - mae: 0.5895 - val_loss: 0.6766 - val_mae: 0.7064\n",
      "Epoch 90/100\n",
      "6/6 [==============================] - 0s 8ms/step - loss: 0.5785 - mae: 0.6205 - val_loss: 0.6784 - val_mae: 0.7054\n",
      "Epoch 91/100\n",
      "6/6 [==============================] - 0s 7ms/step - loss: 0.5655 - mae: 0.6332 - val_loss: 0.6801 - val_mae: 0.7049\n",
      "Epoch 92/100\n",
      "6/6 [==============================] - 0s 7ms/step - loss: 0.5615 - mae: 0.6112 - val_loss: 0.6792 - val_mae: 0.7031\n",
      "Epoch 93/100\n",
      "6/6 [==============================] - 0s 7ms/step - loss: 0.4975 - mae: 0.5637 - val_loss: 0.6720 - val_mae: 0.6982\n",
      "Epoch 94/100\n",
      "6/6 [==============================] - 0s 7ms/step - loss: 0.5306 - mae: 0.5959 - val_loss: 0.6790 - val_mae: 0.7046\n",
      "Epoch 95/100\n",
      "6/6 [==============================] - 0s 8ms/step - loss: 0.5618 - mae: 0.5980 - val_loss: 0.6763 - val_mae: 0.7020\n",
      "Epoch 96/100\n",
      "6/6 [==============================] - 0s 7ms/step - loss: 0.5671 - mae: 0.6051 - val_loss: 0.6744 - val_mae: 0.7025\n",
      "Epoch 97/100\n",
      "6/6 [==============================] - 0s 7ms/step - loss: 0.5384 - mae: 0.5871 - val_loss: 0.6760 - val_mae: 0.7060\n",
      "Epoch 98/100\n",
      "6/6 [==============================] - 0s 8ms/step - loss: 0.5684 - mae: 0.5972 - val_loss: 0.6805 - val_mae: 0.7056\n",
      "Epoch 99/100\n",
      "6/6 [==============================] - 0s 7ms/step - loss: 0.5510 - mae: 0.6073 - val_loss: 0.6650 - val_mae: 0.6952\n",
      "Epoch 100/100\n",
      "6/6 [==============================] - 0s 7ms/step - loss: 0.5523 - mae: 0.6114 - val_loss: 0.6588 - val_mae: 0.6878\n"
     ]
    }
   ],
   "source": [
    "# Train the model\n",
    "\n",
    "history = model.fit(train_data, train_targets, epochs=100, validation_split=0.15, batch_size=64)"
   ]
  },
  {
   "cell_type": "markdown",
   "metadata": {},
   "source": [
    "Finally, we plot training and validation loss and accuracy to observe how the accuracy of our model improves over time."
   ]
  },
  {
   "cell_type": "code",
   "execution_count": 61,
   "metadata": {},
   "outputs": [
    {
     "data": {
      "text/plain": [
       "<matplotlib.legend.Legend at 0x7fddf4068a60>"
      ]
     },
     "execution_count": 61,
     "metadata": {},
     "output_type": "execute_result"
    },
    {
     "data": {
      "image/png": "[encoded data removed]",
      "text/plain": [
       "<Figure size 864x288 with 2 Axes>"
      ]
     },
     "metadata": {
      "needs_background": "light"
     },
     "output_type": "display_data"
    }
   ],
   "source": [
    "# Plot the learning curves\n",
    "\n",
    "import pandas as pd\n",
    "import numpy as np\n",
    "import matplotlib.pyplot as plt\n",
    "%matplotlib inline\n",
    "\n",
    "frame = pd.DataFrame(history.history)\n",
    "epochs = np.arange(len(frame))\n",
    "\n",
    "fig = plt.figure(figsize=(12,4))\n",
    "\n",
    "# Loss plot\n",
    "ax = fig.add_subplot(121)\n",
    "ax.plot(epochs, frame['loss'], label=\"Train\")\n",
    "ax.plot(epochs, frame['val_loss'], label=\"Validation\")\n",
    "ax.set_xlabel(\"Epochs\")\n",
    "ax.set_ylabel(\"Loss\")\n",
    "ax.set_title(\"Loss vs Epochs\")\n",
    "ax.legend()\n",
    "\n",
    "# Accuracy plot\n",
    "ax = fig.add_subplot(122)\n",
    "ax.plot(epochs, frame['mae'], label=\"Train\")\n",
    "ax.plot(epochs, frame['val_mae'], label=\"Validation\")\n",
    "ax.set_xlabel(\"Epochs\")\n",
    "ax.set_ylabel(\"Mean Absolute Error\")\n",
    "ax.set_title(\"Mean Absolute Error vs Epochs\")\n",
    "ax.legend()"
   ]
  },
  {
   "cell_type": "markdown",
   "metadata": {},
   "source": [
    "## Further reading and resources \n",
    "* https://keras.io/layers/normalization/\n",
    "* https://www.tensorflow.org/versions/r2.0/api_docs/python/tf/keras/layers/BatchNormalization"
   ]
  },
  {
   "cell_type": "code",
   "execution_count": 62,
   "metadata": {},
   "outputs": [],
   "source": [
    "# "
   ]
  },
  {
   "cell_type": "code",
   "execution_count": null,
   "metadata": {},
   "outputs": [],
   "source": []
  }
 ],
 "metadata": {
  "kernelspec": {
   "display_name": "Python 3",
   "language": "python",
   "name": "python3"
  },
  "language_info": {
   "codemirror_mode": {
    "name": "ipython",
    "version": 3
   },
   "file_extension": ".py",
   "mimetype": "text/x-python",
   "name": "python",
   "nbconvert_exporter": "python",
   "pygments_lexer": "ipython3",
   "version": "3.8.3"
  }
 },
 "nbformat": 4,
 "nbformat_minor": 2
}
